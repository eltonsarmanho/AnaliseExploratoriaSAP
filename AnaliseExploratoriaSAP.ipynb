{
 "cells": [
  {
   "cell_type": "code",
   "execution_count": 107,
   "id": "d6650f36",
   "metadata": {},
   "outputs": [],
   "source": [
    "import pandas as pd;\n",
    "import matplotlib.pyplot as plt\n",
    "import numpy as np\n",
    "import scipy.stats as st\n",
    "import seaborn as sns\n",
    "from matplotlib.pyplot import figure\n",
    "import psycopg2\n",
    "import plotly.express as px\n",
    "import plotly.graph_objects as go"
   ]
  },
  {
   "cell_type": "code",
   "execution_count": 108,
   "id": "17021646",
   "metadata": {},
   "outputs": [],
   "source": [
    "def connection(sql):\n",
    "    con = psycopg2.connect(host='35.247.202.234', database='dw',\n",
    "    user='consulta', password='teste123')\n",
    "    cur = con.cursor()    \n",
    "    cur.execute(sql)\n",
    "    data = cur.fetchall()\n",
    "    cols = []\n",
    "    for elt in cur.description:\n",
    "        cols.append(elt[0])\n",
    "\n",
    "    df = pd.DataFrame(data=data,columns=cols)\n",
    "    con.close();\n",
    "    return df"
   ]
  },
  {
   "cell_type": "code",
   "execution_count": 109,
   "id": "a5af1fda",
   "metadata": {},
   "outputs": [],
   "source": [
    "sql_dimensoes_alunos = 'SELECT * FROM dados_sap.dimensoes_alunos'\n",
    "sql_dimensoes_turmas ='SELECT * FROM dados_sap.dimensoes_turma'\n",
    "sql_fatores_escola ='SELECT * FROM dados_sap.fatores_escola'\n",
    "sql_fatores_turma ='SELECT * FROM dados_sap.fatores_turma'\n",
    "sql_fatores_alunos = 'SELECT * FROM dados_sap.fatores_alunos'\n",
    "#df = connection(sql_fatores_escola)"
   ]
  },
  {
   "cell_type": "code",
   "execution_count": 110,
   "id": "6cf9ecf8",
   "metadata": {},
   "outputs": [],
   "source": [
    "data_aluno = pd.read_csv('/home/eltonss/Documents/MEC/data/aluno.csv');\n",
    "data_turma = pd.read_csv('/home/eltonss/Documents/MEC/data/turma.csv');\n",
    "data_escola = pd.read_csv('/home/eltonss/Documents/MEC/data/escola.csv');"
   ]
  },
  {
   "cell_type": "code",
   "execution_count": 111,
   "id": "1376025b",
   "metadata": {},
   "outputs": [
    {
     "name": "stdout",
     "output_type": "stream",
     "text": [
      "<class 'pandas.core.frame.DataFrame'>\n",
      "RangeIndex: 14076 entries, 0 to 14075\n",
      "Data columns (total 6 columns):\n",
      " #   Column         Non-Null Count  Dtype  \n",
      "---  ------         --------------  -----  \n",
      " 0   id_aluno       14076 non-null  int64  \n",
      " 1   id_turma       14076 non-null  int64  \n",
      " 2   cod_matricula  9 non-null      float64\n",
      " 3   nome_turma     8 non-null      object \n",
      " 4   nome_aluno     14076 non-null  object \n",
      " 5   tp_sexo        8 non-null      object \n",
      "dtypes: float64(1), int64(2), object(3)\n",
      "memory usage: 659.9+ KB\n"
     ]
    }
   ],
   "source": [
    "data_aluno.info()"
   ]
  },
  {
   "cell_type": "code",
   "execution_count": 112,
   "id": "70a7b233",
   "metadata": {},
   "outputs": [
    {
     "name": "stdout",
     "output_type": "stream",
     "text": [
      "<class 'pandas.core.frame.DataFrame'>\n",
      "RangeIndex: 382 entries, 0 to 381\n",
      "Data columns (total 7 columns):\n",
      " #   Column        Non-Null Count  Dtype \n",
      "---  ------        --------------  ----- \n",
      " 0   id_turma      382 non-null    int64 \n",
      " 1   id_escola     382 non-null    int64 \n",
      " 2   nome_turma    382 non-null    object\n",
      " 3   modo_ensino   360 non-null    object\n",
      " 4   etapa_ensino  360 non-null    object\n",
      " 5   ano_turma     382 non-null    object\n",
      " 6   data_criacao  382 non-null    object\n",
      "dtypes: int64(2), object(5)\n",
      "memory usage: 21.0+ KB\n"
     ]
    }
   ],
   "source": [
    "data_turma.info()"
   ]
  },
  {
   "cell_type": "code",
   "execution_count": 113,
   "id": "cb5252dc",
   "metadata": {},
   "outputs": [
    {
     "name": "stdout",
     "output_type": "stream",
     "text": [
      "<class 'pandas.core.frame.DataFrame'>\n",
      "Int64Index: 14076 entries, 0 to 14075\n",
      "Data columns (total 11 columns):\n",
      " #   Column         Non-Null Count  Dtype  \n",
      "---  ------         --------------  -----  \n",
      " 0   id_aluno       14076 non-null  int64  \n",
      " 1   id_turma       14076 non-null  int64  \n",
      " 2   cod_matricula  9 non-null      float64\n",
      " 3   nome_turma     8 non-null      object \n",
      " 4   nome_aluno     14076 non-null  object \n",
      " 5   tp_sexo        8 non-null      object \n",
      " 6   ano_turma      382 non-null    object \n",
      " 7   data_criacao   382 non-null    object \n",
      " 8   etapa_ensino   360 non-null    object \n",
      " 9   id_escola      382 non-null    float64\n",
      " 10  modo_ensino    360 non-null    object \n",
      "dtypes: float64(2), int64(2), object(7)\n",
      "memory usage: 1.3+ MB\n"
     ]
    }
   ],
   "source": [
    "cols_to_use = data_turma.columns.difference(data_aluno.columns)\n",
    "#print(cols_to_use)\n",
    "data_aluno_turma = pd.merge(data_aluno, data_turma[cols_to_use], left_index=True, right_index=True, how='outer')\n",
    "#data_aluno_turma = pd.merge(data_aluno, data_turma, on='id_turma')\n",
    "\n",
    "data_aluno_turma.info()"
   ]
  },
  {
   "cell_type": "code",
   "execution_count": 114,
   "id": "3598ecd3",
   "metadata": {},
   "outputs": [
    {
     "data": {
      "text/html": [
       "<div>\n",
       "<style scoped>\n",
       "    .dataframe tbody tr th:only-of-type {\n",
       "        vertical-align: middle;\n",
       "    }\n",
       "\n",
       "    .dataframe tbody tr th {\n",
       "        vertical-align: top;\n",
       "    }\n",
       "\n",
       "    .dataframe thead th {\n",
       "        text-align: right;\n",
       "    }\n",
       "</style>\n",
       "<table border=\"1\" class=\"dataframe\">\n",
       "  <thead>\n",
       "    <tr style=\"text-align: right;\">\n",
       "      <th></th>\n",
       "      <th>id_aluno</th>\n",
       "      <th>id_turma</th>\n",
       "      <th>cod_matricula</th>\n",
       "      <th>nome_turma</th>\n",
       "      <th>nome_aluno</th>\n",
       "      <th>tp_sexo</th>\n",
       "      <th>ano_turma</th>\n",
       "      <th>data_criacao</th>\n",
       "      <th>etapa_ensino</th>\n",
       "      <th>id_escola</th>\n",
       "      <th>modo_ensino</th>\n",
       "    </tr>\n",
       "  </thead>\n",
       "  <tbody>\n",
       "    <tr>\n",
       "      <th>361</th>\n",
       "      <td>5095</td>\n",
       "      <td>1015</td>\n",
       "      <td>NaN</td>\n",
       "      <td>NaN</td>\n",
       "      <td>ANNY VITÓRIA DA SILVA NASCIMENTO</td>\n",
       "      <td>NaN</td>\n",
       "      <td>6º</td>\n",
       "      <td>2022-05-01</td>\n",
       "      <td>NaN</td>\n",
       "      <td>11000058.0</td>\n",
       "      <td>NaN</td>\n",
       "    </tr>\n",
       "    <tr>\n",
       "      <th>362</th>\n",
       "      <td>5096</td>\n",
       "      <td>1015</td>\n",
       "      <td>NaN</td>\n",
       "      <td>NaN</td>\n",
       "      <td>ANTONIO CLEUTON CARNEIRO DA SILVA</td>\n",
       "      <td>NaN</td>\n",
       "      <td>5º</td>\n",
       "      <td>2022-08-23</td>\n",
       "      <td>NaN</td>\n",
       "      <td>11000058.0</td>\n",
       "      <td>NaN</td>\n",
       "    </tr>\n",
       "  </tbody>\n",
       "</table>\n",
       "</div>"
      ],
      "text/plain": [
       "     id_aluno  id_turma  cod_matricula nome_turma  \\\n",
       "361      5095      1015            NaN        NaN   \n",
       "362      5096      1015            NaN        NaN   \n",
       "\n",
       "                            nome_aluno tp_sexo ano_turma data_criacao  \\\n",
       "361   ANNY VITÓRIA DA SILVA NASCIMENTO     NaN        6º   2022-05-01   \n",
       "362  ANTONIO CLEUTON CARNEIRO DA SILVA     NaN        5º   2022-08-23   \n",
       "\n",
       "    etapa_ensino   id_escola modo_ensino  \n",
       "361          NaN  11000058.0         NaN  \n",
       "362          NaN  11000058.0         NaN  "
      ]
     },
     "execution_count": 114,
     "metadata": {},
     "output_type": "execute_result"
    }
   ],
   "source": [
    "data_aluno_turma[data_aluno_turma['id_escola']==11000058]"
   ]
  },
  {
   "cell_type": "code",
   "execution_count": 115,
   "id": "326fcda9",
   "metadata": {},
   "outputs": [
    {
     "name": "stdout",
     "output_type": "stream",
     "text": [
      "<class 'pandas.core.frame.DataFrame'>\n",
      "RangeIndex: 34 entries, 0 to 33\n",
      "Data columns (total 2 columns):\n",
      " #   Column             Non-Null Count  Dtype  \n",
      "---  ------             --------------  -----  \n",
      " 0   (id_escola, )      34 non-null     float64\n",
      " 1   (id_aluno, count)  34 non-null     int64  \n",
      "dtypes: float64(1), int64(1)\n",
      "memory usage: 672.0 bytes\n"
     ]
    }
   ],
   "source": [
    "data_aluno_turma_group = data_aluno_turma.groupby(['id_escola']).agg({\"id_aluno\": [\"count\"]}, split_out=4)\n",
    "data_aluno_turma_group = data_aluno_turma_group.reset_index()\n",
    "data_aluno_turma_group.info()"
   ]
  },
  {
   "cell_type": "code",
   "execution_count": 116,
   "id": "343b4f85",
   "metadata": {},
   "outputs": [
    {
     "name": "stdout",
     "output_type": "stream",
     "text": [
      "<class 'pandas.core.frame.DataFrame'>\n",
      "RangeIndex: 131804 entries, 0 to 131803\n",
      "Data columns (total 22 columns):\n",
      " #   Column                      Non-Null Count   Dtype \n",
      "---  ------                      --------------   ----- \n",
      " 0   resticao_de_atendimento     131804 non-null  object\n",
      " 1   escola                      131804 non-null  object\n",
      " 2   id_escola                   131804 non-null  int64 \n",
      " 3   uf                          131804 non-null  object\n",
      " 4   municipio                   131804 non-null  object\n",
      " 5   localizacao                 131804 non-null  object\n",
      " 6   localidade_diferenciada     131804 non-null  object\n",
      " 7   categoria_administrativa    131804 non-null  object\n",
      " 8   endereco                    131804 non-null  object\n",
      " 9   telefone                    112040 non-null  object\n",
      " 10  dependencia_administrativa  131804 non-null  object\n",
      " 11  categoria_escola            131804 non-null  object\n",
      " 12  conveniada_poder_publico    131804 non-null  object\n",
      " 13  regulamentacao_conselho     131804 non-null  object\n",
      " 14  porte                       131804 non-null  object\n",
      " 15  etapas_e_modalidade_ensino  131804 non-null  object\n",
      " 16  outras_ofertas              36975 non-null   object\n",
      " 17  cod_regiao                  131804 non-null  int64 \n",
      " 18  micro                       131804 non-null  object\n",
      " 19  meso                        131804 non-null  object\n",
      " 20  regiao                      131804 non-null  object\n",
      " 21  cod_estado                  131804 non-null  int64 \n",
      "dtypes: int64(3), object(19)\n",
      "memory usage: 22.1+ MB\n"
     ]
    }
   ],
   "source": [
    "data_escola.rename(columns={'cod_escola': 'id_escola',}, inplace=True)\n",
    "data_escola.info()"
   ]
  },
  {
   "cell_type": "code",
   "execution_count": 118,
   "id": "701de616",
   "metadata": {},
   "outputs": [
    {
     "name": "stdout",
     "output_type": "stream",
     "text": [
      "<class 'pandas.core.frame.DataFrame'>\n",
      "Int64Index: 131804 entries, 0 to 131803\n",
      "Data columns (total 32 columns):\n",
      " #   Column                      Non-Null Count   Dtype  \n",
      "---  ------                      --------------   -----  \n",
      " 0   id_aluno                    14076 non-null   float64\n",
      " 1   id_turma                    14076 non-null   float64\n",
      " 2   cod_matricula               9 non-null       float64\n",
      " 3   nome_turma                  8 non-null       object \n",
      " 4   nome_aluno                  14076 non-null   object \n",
      " 5   tp_sexo                     8 non-null       object \n",
      " 6   ano_turma                   382 non-null     object \n",
      " 7   data_criacao                382 non-null     object \n",
      " 8   etapa_ensino                360 non-null     object \n",
      " 9   id_escola                   382 non-null     float64\n",
      " 10  modo_ensino                 360 non-null     object \n",
      " 11  categoria_administrativa    131804 non-null  object \n",
      " 12  categoria_escola            131804 non-null  object \n",
      " 13  cod_estado                  131804 non-null  int64  \n",
      " 14  cod_regiao                  131804 non-null  int64  \n",
      " 15  conveniada_poder_publico    131804 non-null  object \n",
      " 16  dependencia_administrativa  131804 non-null  object \n",
      " 17  endereco                    131804 non-null  object \n",
      " 18  escola                      131804 non-null  object \n",
      " 19  etapas_e_modalidade_ensino  131804 non-null  object \n",
      " 20  localidade_diferenciada     131804 non-null  object \n",
      " 21  localizacao                 131804 non-null  object \n",
      " 22  meso                        131804 non-null  object \n",
      " 23  micro                       131804 non-null  object \n",
      " 24  municipio                   131804 non-null  object \n",
      " 25  outras_ofertas              36975 non-null   object \n",
      " 26  porte                       131804 non-null  object \n",
      " 27  regiao                      131804 non-null  object \n",
      " 28  regulamentacao_conselho     131804 non-null  object \n",
      " 29  resticao_de_atendimento     131804 non-null  object \n",
      " 30  telefone                    112040 non-null  object \n",
      " 31  uf                          131804 non-null  object \n",
      "dtypes: float64(4), int64(2), object(26)\n",
      "memory usage: 33.2+ MB\n"
     ]
    }
   ],
   "source": [
    "cols_to_use = data_escola.columns.difference(data_aluno_turma.columns)\n",
    "#print(cols_to_use)\n",
    "data_aluno_turma_escola = pd.merge(data_aluno_turma, data_escola[cols_to_use], \n",
    "                                   left_index=True, right_index=True, how='outer')\n",
    "data_aluno_turma_escola.info()"
   ]
  },
  {
   "cell_type": "code",
   "execution_count": 119,
   "id": "21422632",
   "metadata": {},
   "outputs": [
    {
     "data": {
      "text/html": [
       "<div>\n",
       "<style scoped>\n",
       "    .dataframe tbody tr th:only-of-type {\n",
       "        vertical-align: middle;\n",
       "    }\n",
       "\n",
       "    .dataframe tbody tr th {\n",
       "        vertical-align: top;\n",
       "    }\n",
       "\n",
       "    .dataframe thead th {\n",
       "        text-align: right;\n",
       "    }\n",
       "</style>\n",
       "<table border=\"1\" class=\"dataframe\">\n",
       "  <thead>\n",
       "    <tr style=\"text-align: right;\">\n",
       "      <th></th>\n",
       "      <th>id_aluno</th>\n",
       "      <th>id_turma</th>\n",
       "      <th>cod_matricula</th>\n",
       "      <th>nome_turma</th>\n",
       "      <th>nome_aluno</th>\n",
       "      <th>tp_sexo</th>\n",
       "      <th>ano_turma</th>\n",
       "      <th>data_criacao</th>\n",
       "      <th>etapa_ensino</th>\n",
       "      <th>id_escola</th>\n",
       "      <th>...</th>\n",
       "      <th>meso</th>\n",
       "      <th>micro</th>\n",
       "      <th>municipio</th>\n",
       "      <th>outras_ofertas</th>\n",
       "      <th>porte</th>\n",
       "      <th>regiao</th>\n",
       "      <th>regulamentacao_conselho</th>\n",
       "      <th>resticao_de_atendimento</th>\n",
       "      <th>telefone</th>\n",
       "      <th>uf</th>\n",
       "    </tr>\n",
       "  </thead>\n",
       "  <tbody>\n",
       "    <tr>\n",
       "      <th>10</th>\n",
       "      <td>4744.0</td>\n",
       "      <td>1000.0</td>\n",
       "      <td>NaN</td>\n",
       "      <td>NaN</td>\n",
       "      <td>JOÃO LUCAS LIMA DA SILVA.</td>\n",
       "      <td>NaN</td>\n",
       "      <td>6º</td>\n",
       "      <td>2022-05-01</td>\n",
       "      <td>ENSINO FUNDAMENTAL DE 9 ANOS - 6º ANO</td>\n",
       "      <td>12006688.0</td>\n",
       "      <td>...</td>\n",
       "      <td>LESTE RONDONIENSE</td>\n",
       "      <td>ALVORADA D'OESTE</td>\n",
       "      <td>Porto Velho</td>\n",
       "      <td>NaN</td>\n",
       "      <td>Mais de 1000 matrículas de escolarização</td>\n",
       "      <td>Norte</td>\n",
       "      <td>Sim</td>\n",
       "      <td>ESCOLA EM FUNCIONAMENTO E SEM RESTRIÇÃO DE ATE...</td>\n",
       "      <td>(69) 32225808</td>\n",
       "      <td>RO</td>\n",
       "    </tr>\n",
       "    <tr>\n",
       "      <th>11</th>\n",
       "      <td>4745.0</td>\n",
       "      <td>1000.0</td>\n",
       "      <td>NaN</td>\n",
       "      <td>NaN</td>\n",
       "      <td>LUANA INÁCIO DUTRA.</td>\n",
       "      <td>NaN</td>\n",
       "      <td>6º</td>\n",
       "      <td>2022-05-01</td>\n",
       "      <td>ENSINO FUNDAMENTAL DE 9 ANOS - 6º ANO</td>\n",
       "      <td>12006688.0</td>\n",
       "      <td>...</td>\n",
       "      <td>LESTE RONDONIENSE</td>\n",
       "      <td>ALVORADA D'OESTE</td>\n",
       "      <td>Porto Velho</td>\n",
       "      <td>NaN</td>\n",
       "      <td>Entre 201 e 500 matrículas de escolarização</td>\n",
       "      <td>Norte</td>\n",
       "      <td>Sim</td>\n",
       "      <td>ESCOLA EM FUNCIONAMENTO E SEM RESTRIÇÃO DE ATE...</td>\n",
       "      <td>(69) 32272120</td>\n",
       "      <td>RO</td>\n",
       "    </tr>\n",
       "    <tr>\n",
       "      <th>12</th>\n",
       "      <td>4746.0</td>\n",
       "      <td>1000.0</td>\n",
       "      <td>NaN</td>\n",
       "      <td>NaN</td>\n",
       "      <td>LUARA INÁCIO DUTRA.</td>\n",
       "      <td>NaN</td>\n",
       "      <td>6º</td>\n",
       "      <td>2022-05-01</td>\n",
       "      <td>ENSINO FUNDAMENTAL DE 9 ANOS - 6º ANO</td>\n",
       "      <td>12006688.0</td>\n",
       "      <td>...</td>\n",
       "      <td>LESTE RONDONIENSE</td>\n",
       "      <td>ALVORADA D'OESTE</td>\n",
       "      <td>Porto Velho</td>\n",
       "      <td>NaN</td>\n",
       "      <td>Entre 501 e 1000 matrículas de escolarização</td>\n",
       "      <td>Norte</td>\n",
       "      <td>Sim</td>\n",
       "      <td>ESCOLA EM FUNCIONAMENTO E SEM RESTRIÇÃO DE ATE...</td>\n",
       "      <td>(69) 32223810</td>\n",
       "      <td>RO</td>\n",
       "    </tr>\n",
       "    <tr>\n",
       "      <th>13</th>\n",
       "      <td>4747.0</td>\n",
       "      <td>1000.0</td>\n",
       "      <td>NaN</td>\n",
       "      <td>NaN</td>\n",
       "      <td>LUÍDI DA SILVA ALVES</td>\n",
       "      <td>NaN</td>\n",
       "      <td>7º</td>\n",
       "      <td>2022-05-01</td>\n",
       "      <td>ENSINO FUNDAMENTAL DE 9 ANOS - 7º ANO</td>\n",
       "      <td>12006688.0</td>\n",
       "      <td>...</td>\n",
       "      <td>LESTE RONDONIENSE</td>\n",
       "      <td>ALVORADA D'OESTE</td>\n",
       "      <td>Porto Velho</td>\n",
       "      <td>Atendimento Educacional Especializado</td>\n",
       "      <td>Entre 201 e 500 matrículas de escolarização</td>\n",
       "      <td>Norte</td>\n",
       "      <td>Sim</td>\n",
       "      <td>ESCOLA EM FUNCIONAMENTO E SEM RESTRIÇÃO DE ATE...</td>\n",
       "      <td>(69) 32521161</td>\n",
       "      <td>RO</td>\n",
       "    </tr>\n",
       "    <tr>\n",
       "      <th>14</th>\n",
       "      <td>4748.0</td>\n",
       "      <td>1000.0</td>\n",
       "      <td>NaN</td>\n",
       "      <td>NaN</td>\n",
       "      <td>MAIKOM SOUZA BEZERRA</td>\n",
       "      <td>NaN</td>\n",
       "      <td>9º</td>\n",
       "      <td>2022-05-01</td>\n",
       "      <td>ENSINO FUNDAMENTAL DE 9 ANOS - 9º ANO</td>\n",
       "      <td>12006688.0</td>\n",
       "      <td>...</td>\n",
       "      <td>LESTE RONDONIENSE</td>\n",
       "      <td>ALVORADA D'OESTE</td>\n",
       "      <td>Porto Velho</td>\n",
       "      <td>Atendimento Educacional Especializado</td>\n",
       "      <td>Entre 501 e 1000 matrículas de escolarização</td>\n",
       "      <td>Norte</td>\n",
       "      <td>Em Tramitação</td>\n",
       "      <td>ESCOLA EM FUNCIONAMENTO E SEM RESTRIÇÃO DE ATE...</td>\n",
       "      <td>(69) 992537434</td>\n",
       "      <td>RO</td>\n",
       "    </tr>\n",
       "  </tbody>\n",
       "</table>\n",
       "<p>5 rows × 32 columns</p>\n",
       "</div>"
      ],
      "text/plain": [
       "    id_aluno  id_turma  cod_matricula nome_turma                 nome_aluno  \\\n",
       "10    4744.0    1000.0            NaN        NaN  JOÃO LUCAS LIMA DA SILVA.   \n",
       "11    4745.0    1000.0            NaN        NaN        LUANA INÁCIO DUTRA.   \n",
       "12    4746.0    1000.0            NaN        NaN        LUARA INÁCIO DUTRA.   \n",
       "13    4747.0    1000.0            NaN        NaN       LUÍDI DA SILVA ALVES   \n",
       "14    4748.0    1000.0            NaN        NaN       MAIKOM SOUZA BEZERRA   \n",
       "\n",
       "   tp_sexo ano_turma data_criacao                           etapa_ensino  \\\n",
       "10     NaN        6º   2022-05-01  ENSINO FUNDAMENTAL DE 9 ANOS - 6º ANO   \n",
       "11     NaN        6º   2022-05-01  ENSINO FUNDAMENTAL DE 9 ANOS - 6º ANO   \n",
       "12     NaN        6º   2022-05-01  ENSINO FUNDAMENTAL DE 9 ANOS - 6º ANO   \n",
       "13     NaN        7º   2022-05-01  ENSINO FUNDAMENTAL DE 9 ANOS - 7º ANO   \n",
       "14     NaN        9º   2022-05-01  ENSINO FUNDAMENTAL DE 9 ANOS - 9º ANO   \n",
       "\n",
       "     id_escola  ...               meso             micro    municipio  \\\n",
       "10  12006688.0  ...  LESTE RONDONIENSE  ALVORADA D'OESTE  Porto Velho   \n",
       "11  12006688.0  ...  LESTE RONDONIENSE  ALVORADA D'OESTE  Porto Velho   \n",
       "12  12006688.0  ...  LESTE RONDONIENSE  ALVORADA D'OESTE  Porto Velho   \n",
       "13  12006688.0  ...  LESTE RONDONIENSE  ALVORADA D'OESTE  Porto Velho   \n",
       "14  12006688.0  ...  LESTE RONDONIENSE  ALVORADA D'OESTE  Porto Velho   \n",
       "\n",
       "                           outras_ofertas  \\\n",
       "10                                    NaN   \n",
       "11                                    NaN   \n",
       "12                                    NaN   \n",
       "13  Atendimento Educacional Especializado   \n",
       "14  Atendimento Educacional Especializado   \n",
       "\n",
       "                                           porte regiao  \\\n",
       "10      Mais de 1000 matrículas de escolarização  Norte   \n",
       "11   Entre 201 e 500 matrículas de escolarização  Norte   \n",
       "12  Entre 501 e 1000 matrículas de escolarização  Norte   \n",
       "13   Entre 201 e 500 matrículas de escolarização  Norte   \n",
       "14  Entre 501 e 1000 matrículas de escolarização  Norte   \n",
       "\n",
       "   regulamentacao_conselho                            resticao_de_atendimento  \\\n",
       "10                     Sim  ESCOLA EM FUNCIONAMENTO E SEM RESTRIÇÃO DE ATE...   \n",
       "11                     Sim  ESCOLA EM FUNCIONAMENTO E SEM RESTRIÇÃO DE ATE...   \n",
       "12                     Sim  ESCOLA EM FUNCIONAMENTO E SEM RESTRIÇÃO DE ATE...   \n",
       "13                     Sim  ESCOLA EM FUNCIONAMENTO E SEM RESTRIÇÃO DE ATE...   \n",
       "14           Em Tramitação  ESCOLA EM FUNCIONAMENTO E SEM RESTRIÇÃO DE ATE...   \n",
       "\n",
       "          telefone  uf  \n",
       "10   (69) 32225808  RO  \n",
       "11   (69) 32272120  RO  \n",
       "12   (69) 32223810  RO  \n",
       "13   (69) 32521161  RO  \n",
       "14  (69) 992537434  RO  \n",
       "\n",
       "[5 rows x 32 columns]"
      ]
     },
     "execution_count": 119,
     "metadata": {},
     "output_type": "execute_result"
    }
   ],
   "source": [
    "data_aluno_turma_escola[data_aluno_turma_escola['id_escola']== 12006688.0]"
   ]
  },
  {
   "cell_type": "code",
   "execution_count": 120,
   "id": "270d39db",
   "metadata": {},
   "outputs": [
    {
     "name": "stdout",
     "output_type": "stream",
     "text": [
      "<class 'pandas.core.frame.DataFrame'>\n",
      "RangeIndex: 310 entries, 0 to 309\n",
      "Data columns (total 3 columns):\n",
      " #   Column             Non-Null Count  Dtype \n",
      "---  ------             --------------  ----- \n",
      " 0   aluno              310 non-null    object\n",
      " 1   fatores_dimensões  310 non-null    object\n",
      " 2   value              310 non-null    int64 \n",
      "dtypes: int64(1), object(2)\n",
      "memory usage: 7.4+ KB\n"
     ]
    }
   ],
   "source": [
    "data_alunos_dimensoes = pd.read_csv('/home/eltonss/Documents/MEC/data/dimensoes_alunos.csv');\n",
    "data_alunos_dimensoes.info()\n",
    "df = data_alunos_dimensoes"
   ]
  },
  {
   "cell_type": "code",
   "execution_count": 121,
   "id": "f33b89b6",
   "metadata": {},
   "outputs": [
    {
     "name": "stdout",
     "output_type": "stream",
     "text": [
      "<class 'pandas.core.frame.DataFrame'>\n",
      "RangeIndex: 310 entries, 0 to 309\n",
      "Data columns (total 3 columns):\n",
      " #   Column             Non-Null Count  Dtype \n",
      "---  ------             --------------  ----- \n",
      " 0   aluno              310 non-null    object\n",
      " 1   fatores_dimensões  310 non-null    object\n",
      " 2   value              310 non-null    int64 \n",
      "dtypes: int64(1), object(2)\n",
      "memory usage: 7.4+ KB\n"
     ]
    }
   ],
   "source": [
    "df.info()"
   ]
  },
  {
   "cell_type": "code",
   "execution_count": 122,
   "id": "cc1919f1",
   "metadata": {},
   "outputs": [
    {
     "data": {
      "text/plain": [
       "{'Estudante-Comunidade',\n",
       " 'Estudante-Escola',\n",
       " 'Estudante-Estudante',\n",
       " 'Estudante-Familia',\n",
       " 'Estudante-Profissionais da Escola'}"
      ]
     },
     "execution_count": 122,
     "metadata": {},
     "output_type": "execute_result"
    }
   ],
   "source": [
    "set(df['fatores_dimensões'])"
   ]
  },
  {
   "cell_type": "code",
   "execution_count": 123,
   "id": "cdcdb8f2",
   "metadata": {},
   "outputs": [],
   "source": [
    "cross_tab_prop = df.pivot(index='aluno', columns='fatores_dimensões', values='value')\n",
    "\n",
    "cross_tab_prop.reset_index(inplace=True)\n"
   ]
  },
  {
   "cell_type": "code",
   "execution_count": 124,
   "id": "e2776c02",
   "metadata": {},
   "outputs": [
    {
     "name": "stdout",
     "output_type": "stream",
     "text": [
      "<class 'pandas.core.frame.DataFrame'>\n",
      "RangeIndex: 62 entries, 0 to 61\n",
      "Data columns (total 6 columns):\n",
      " #   Column                             Non-Null Count  Dtype \n",
      "---  ------                             --------------  ----- \n",
      " 0   aluno                              62 non-null     object\n",
      " 1   Estudante-Comunidade               62 non-null     int64 \n",
      " 2   Estudante-Escola                   62 non-null     int64 \n",
      " 3   Estudante-Estudante                62 non-null     int64 \n",
      " 4   Estudante-Familia                  62 non-null     int64 \n",
      " 5   Estudante-Profissionais da Escola  62 non-null     int64 \n",
      "dtypes: int64(5), object(1)\n",
      "memory usage: 3.0+ KB\n"
     ]
    }
   ],
   "source": [
    "cross_tab_prop.info()"
   ]
  },
  {
   "cell_type": "code",
   "execution_count": 18,
   "id": "07d66adc",
   "metadata": {},
   "outputs": [],
   "source": [
    "cross_tab_prop.rename(columns={'aluno': 'id_aluno'}, inplace=True)"
   ]
  },
  {
   "cell_type": "code",
   "execution_count": 125,
   "id": "304aaee1",
   "metadata": {},
   "outputs": [
    {
     "name": "stdout",
     "output_type": "stream",
     "text": [
      "<class 'pandas.core.frame.DataFrame'>\n",
      "Int64Index: 131804 entries, 0 to 131803\n",
      "Data columns (total 38 columns):\n",
      " #   Column                             Non-Null Count   Dtype  \n",
      "---  ------                             --------------   -----  \n",
      " 0   id_aluno                           14076 non-null   float64\n",
      " 1   id_turma                           14076 non-null   float64\n",
      " 2   cod_matricula                      9 non-null       float64\n",
      " 3   nome_turma                         8 non-null       object \n",
      " 4   nome_aluno                         14076 non-null   object \n",
      " 5   tp_sexo                            8 non-null       object \n",
      " 6   ano_turma                          382 non-null     object \n",
      " 7   data_criacao                       382 non-null     object \n",
      " 8   etapa_ensino                       360 non-null     object \n",
      " 9   id_escola                          382 non-null     float64\n",
      " 10  modo_ensino                        360 non-null     object \n",
      " 11  categoria_administrativa           131804 non-null  object \n",
      " 12  categoria_escola                   131804 non-null  object \n",
      " 13  cod_estado                         131804 non-null  int64  \n",
      " 14  cod_regiao                         131804 non-null  int64  \n",
      " 15  conveniada_poder_publico           131804 non-null  object \n",
      " 16  dependencia_administrativa         131804 non-null  object \n",
      " 17  endereco                           131804 non-null  object \n",
      " 18  escola                             131804 non-null  object \n",
      " 19  etapas_e_modalidade_ensino         131804 non-null  object \n",
      " 20  localidade_diferenciada            131804 non-null  object \n",
      " 21  localizacao                        131804 non-null  object \n",
      " 22  meso                               131804 non-null  object \n",
      " 23  micro                              131804 non-null  object \n",
      " 24  municipio                          131804 non-null  object \n",
      " 25  outras_ofertas                     36975 non-null   object \n",
      " 26  porte                              131804 non-null  object \n",
      " 27  regiao                             131804 non-null  object \n",
      " 28  regulamentacao_conselho            131804 non-null  object \n",
      " 29  resticao_de_atendimento            131804 non-null  object \n",
      " 30  telefone                           112040 non-null  object \n",
      " 31  uf                                 131804 non-null  object \n",
      " 32  Estudante-Comunidade               62 non-null      float64\n",
      " 33  Estudante-Escola                   62 non-null      float64\n",
      " 34  Estudante-Estudante                62 non-null      float64\n",
      " 35  Estudante-Familia                  62 non-null      float64\n",
      " 36  Estudante-Profissionais da Escola  62 non-null      float64\n",
      " 37  aluno                              62 non-null      object \n",
      "dtypes: float64(9), int64(2), object(27)\n",
      "memory usage: 39.2+ MB\n"
     ]
    }
   ],
   "source": [
    "cols_to_use = cross_tab_prop.columns.difference(data_aluno_turma_escola.columns)\n",
    "#print(cols_to_use)\n",
    "data_aluno_turma_escola_dimensoes = pd.merge(data_aluno_turma_escola, cross_tab_prop[cols_to_use], \n",
    "                                   left_index=True, right_index=True, how='outer')\n",
    "data_aluno_turma_escola_dimensoes.info()"
   ]
  },
  {
   "cell_type": "code",
   "execution_count": 38,
   "id": "c82e8ffc",
   "metadata": {},
   "outputs": [
    {
     "data": {
      "application/vnd.plotly.v1+json": {
       "config": {
        "plotlyServerURL": "https://plot.ly"
       },
       "data": [
        {
         "dimensions": [
          {
           "label": "Estudante-Comunidade",
           "values": [
            1,
            1,
            1,
            1,
            1,
            1,
            1,
            1,
            1,
            2,
            3,
            2,
            1,
            1,
            1,
            3,
            1,
            1,
            1,
            1,
            1,
            1,
            3,
            2,
            1,
            1,
            1,
            2,
            1,
            2,
            1,
            1,
            1,
            1,
            1,
            1,
            1,
            1,
            1,
            1,
            1,
            1,
            1,
            1,
            1,
            2,
            1,
            1,
            1,
            3,
            1,
            1,
            1,
            1,
            1,
            2,
            2,
            1,
            1,
            1,
            1,
            3
           ]
          },
          {
           "label": "Estudante-Escola",
           "values": [
            1,
            1,
            2,
            2,
            1,
            1,
            2,
            1,
            1,
            3,
            1,
            1,
            1,
            1,
            3,
            2,
            1,
            1,
            1,
            1,
            1,
            2,
            2,
            3,
            2,
            2,
            1,
            1,
            1,
            1,
            1,
            1,
            1,
            2,
            1,
            1,
            1,
            2,
            1,
            1,
            1,
            1,
            1,
            1,
            1,
            3,
            1,
            3,
            1,
            2,
            1,
            1,
            2,
            1,
            1,
            2,
            1,
            1,
            1,
            2,
            2,
            3
           ]
          },
          {
           "label": "Estudante-Estudante",
           "values": [
            1,
            2,
            3,
            3,
            3,
            1,
            1,
            2,
            1,
            2,
            3,
            1,
            3,
            2,
            2,
            3,
            2,
            1,
            1,
            2,
            2,
            3,
            3,
            3,
            3,
            2,
            3,
            3,
            2,
            3,
            1,
            1,
            1,
            1,
            2,
            2,
            1,
            3,
            2,
            2,
            1,
            1,
            2,
            2,
            3,
            3,
            1,
            2,
            1,
            3,
            1,
            2,
            1,
            2,
            2,
            3,
            3,
            1,
            2,
            1,
            3,
            3
           ]
          },
          {
           "label": "Estudante-Familia",
           "values": [
            1,
            3,
            1,
            2,
            1,
            1,
            1,
            1,
            1,
            3,
            3,
            1,
            1,
            1,
            1,
            2,
            1,
            1,
            1,
            3,
            1,
            1,
            1,
            1,
            2,
            3,
            1,
            3,
            2,
            2,
            1,
            1,
            1,
            1,
            1,
            2,
            1,
            1,
            1,
            1,
            1,
            1,
            1,
            1,
            2,
            3,
            1,
            1,
            1,
            1,
            1,
            1,
            1,
            1,
            1,
            3,
            3,
            1,
            1,
            1,
            1,
            3
           ]
          },
          {
           "label": "Estudante-Profissionais da Escola",
           "values": [
            1,
            1,
            2,
            2,
            1,
            1,
            1,
            1,
            1,
            2,
            3,
            1,
            1,
            1,
            1,
            1,
            1,
            2,
            2,
            1,
            3,
            2,
            2,
            2,
            2,
            3,
            1,
            1,
            2,
            2,
            1,
            1,
            1,
            1,
            1,
            1,
            1,
            1,
            1,
            1,
            1,
            1,
            1,
            1,
            2,
            1,
            1,
            1,
            2,
            3,
            1,
            3,
            2,
            1,
            1,
            2,
            1,
            1,
            1,
            1,
            2,
            2
           ]
          }
         ],
         "domain": {
          "x": [
           0,
           1
          ],
          "y": [
           0,
           1
          ]
         },
         "line": {
          "color": [
           1,
           1,
           1,
           1,
           1,
           null,
           2,
           2,
           2,
           2,
           1,
           1,
           1,
           2,
           4,
           1,
           1,
           1,
           1,
           1,
           1,
           1,
           1,
           1,
           1,
           1,
           2,
           1,
           2,
           2,
           2,
           3,
           3,
           3,
           3,
           3,
           3,
           3,
           3,
           3,
           3,
           3,
           4,
           4,
           4,
           4,
           4,
           4,
           1,
           1,
           1,
           1,
           1,
           1,
           1,
           1,
           1,
           1,
           1,
           1,
           1,
           2
          ],
          "coloraxis": "coloraxis"
         },
         "name": "",
         "type": "parcoords"
        }
       ],
       "layout": {
        "coloraxis": {
         "cmid": 2,
         "colorbar": {
          "title": {
           "text": "etapa_ensino"
          }
         },
         "colorscale": [
          [
           0,
           "rgb(0, 147, 146)"
          ],
          [
           0.16666666666666666,
           "rgb(114, 170, 161)"
          ],
          [
           0.3333333333333333,
           "rgb(177, 199, 179)"
          ],
          [
           0.5,
           "rgb(241, 234, 200)"
          ],
          [
           0.6666666666666666,
           "rgb(229, 185, 173)"
          ],
          [
           0.8333333333333334,
           "rgb(217, 137, 148)"
          ],
          [
           1,
           "rgb(208, 88, 126)"
          ]
         ]
        },
        "legend": {
         "tracegroupgap": 0
        },
        "margin": {
         "t": 60
        },
        "template": {
         "data": {
          "bar": [
           {
            "error_x": {
             "color": "#2a3f5f"
            },
            "error_y": {
             "color": "#2a3f5f"
            },
            "marker": {
             "line": {
              "color": "#E5ECF6",
              "width": 0.5
             },
             "pattern": {
              "fillmode": "overlay",
              "size": 10,
              "solidity": 0.2
             }
            },
            "type": "bar"
           }
          ],
          "barpolar": [
           {
            "marker": {
             "line": {
              "color": "#E5ECF6",
              "width": 0.5
             },
             "pattern": {
              "fillmode": "overlay",
              "size": 10,
              "solidity": 0.2
             }
            },
            "type": "barpolar"
           }
          ],
          "carpet": [
           {
            "aaxis": {
             "endlinecolor": "#2a3f5f",
             "gridcolor": "white",
             "linecolor": "white",
             "minorgridcolor": "white",
             "startlinecolor": "#2a3f5f"
            },
            "baxis": {
             "endlinecolor": "#2a3f5f",
             "gridcolor": "white",
             "linecolor": "white",
             "minorgridcolor": "white",
             "startlinecolor": "#2a3f5f"
            },
            "type": "carpet"
           }
          ],
          "choropleth": [
           {
            "colorbar": {
             "outlinewidth": 0,
             "ticks": ""
            },
            "type": "choropleth"
           }
          ],
          "contour": [
           {
            "colorbar": {
             "outlinewidth": 0,
             "ticks": ""
            },
            "colorscale": [
             [
              0,
              "#0d0887"
             ],
             [
              0.1111111111111111,
              "#46039f"
             ],
             [
              0.2222222222222222,
              "#7201a8"
             ],
             [
              0.3333333333333333,
              "#9c179e"
             ],
             [
              0.4444444444444444,
              "#bd3786"
             ],
             [
              0.5555555555555556,
              "#d8576b"
             ],
             [
              0.6666666666666666,
              "#ed7953"
             ],
             [
              0.7777777777777778,
              "#fb9f3a"
             ],
             [
              0.8888888888888888,
              "#fdca26"
             ],
             [
              1,
              "#f0f921"
             ]
            ],
            "type": "contour"
           }
          ],
          "contourcarpet": [
           {
            "colorbar": {
             "outlinewidth": 0,
             "ticks": ""
            },
            "type": "contourcarpet"
           }
          ],
          "heatmap": [
           {
            "colorbar": {
             "outlinewidth": 0,
             "ticks": ""
            },
            "colorscale": [
             [
              0,
              "#0d0887"
             ],
             [
              0.1111111111111111,
              "#46039f"
             ],
             [
              0.2222222222222222,
              "#7201a8"
             ],
             [
              0.3333333333333333,
              "#9c179e"
             ],
             [
              0.4444444444444444,
              "#bd3786"
             ],
             [
              0.5555555555555556,
              "#d8576b"
             ],
             [
              0.6666666666666666,
              "#ed7953"
             ],
             [
              0.7777777777777778,
              "#fb9f3a"
             ],
             [
              0.8888888888888888,
              "#fdca26"
             ],
             [
              1,
              "#f0f921"
             ]
            ],
            "type": "heatmap"
           }
          ],
          "heatmapgl": [
           {
            "colorbar": {
             "outlinewidth": 0,
             "ticks": ""
            },
            "colorscale": [
             [
              0,
              "#0d0887"
             ],
             [
              0.1111111111111111,
              "#46039f"
             ],
             [
              0.2222222222222222,
              "#7201a8"
             ],
             [
              0.3333333333333333,
              "#9c179e"
             ],
             [
              0.4444444444444444,
              "#bd3786"
             ],
             [
              0.5555555555555556,
              "#d8576b"
             ],
             [
              0.6666666666666666,
              "#ed7953"
             ],
             [
              0.7777777777777778,
              "#fb9f3a"
             ],
             [
              0.8888888888888888,
              "#fdca26"
             ],
             [
              1,
              "#f0f921"
             ]
            ],
            "type": "heatmapgl"
           }
          ],
          "histogram": [
           {
            "marker": {
             "pattern": {
              "fillmode": "overlay",
              "size": 10,
              "solidity": 0.2
             }
            },
            "type": "histogram"
           }
          ],
          "histogram2d": [
           {
            "colorbar": {
             "outlinewidth": 0,
             "ticks": ""
            },
            "colorscale": [
             [
              0,
              "#0d0887"
             ],
             [
              0.1111111111111111,
              "#46039f"
             ],
             [
              0.2222222222222222,
              "#7201a8"
             ],
             [
              0.3333333333333333,
              "#9c179e"
             ],
             [
              0.4444444444444444,
              "#bd3786"
             ],
             [
              0.5555555555555556,
              "#d8576b"
             ],
             [
              0.6666666666666666,
              "#ed7953"
             ],
             [
              0.7777777777777778,
              "#fb9f3a"
             ],
             [
              0.8888888888888888,
              "#fdca26"
             ],
             [
              1,
              "#f0f921"
             ]
            ],
            "type": "histogram2d"
           }
          ],
          "histogram2dcontour": [
           {
            "colorbar": {
             "outlinewidth": 0,
             "ticks": ""
            },
            "colorscale": [
             [
              0,
              "#0d0887"
             ],
             [
              0.1111111111111111,
              "#46039f"
             ],
             [
              0.2222222222222222,
              "#7201a8"
             ],
             [
              0.3333333333333333,
              "#9c179e"
             ],
             [
              0.4444444444444444,
              "#bd3786"
             ],
             [
              0.5555555555555556,
              "#d8576b"
             ],
             [
              0.6666666666666666,
              "#ed7953"
             ],
             [
              0.7777777777777778,
              "#fb9f3a"
             ],
             [
              0.8888888888888888,
              "#fdca26"
             ],
             [
              1,
              "#f0f921"
             ]
            ],
            "type": "histogram2dcontour"
           }
          ],
          "mesh3d": [
           {
            "colorbar": {
             "outlinewidth": 0,
             "ticks": ""
            },
            "type": "mesh3d"
           }
          ],
          "parcoords": [
           {
            "line": {
             "colorbar": {
              "outlinewidth": 0,
              "ticks": ""
             }
            },
            "type": "parcoords"
           }
          ],
          "pie": [
           {
            "automargin": true,
            "type": "pie"
           }
          ],
          "scatter": [
           {
            "marker": {
             "colorbar": {
              "outlinewidth": 0,
              "ticks": ""
             }
            },
            "type": "scatter"
           }
          ],
          "scatter3d": [
           {
            "line": {
             "colorbar": {
              "outlinewidth": 0,
              "ticks": ""
             }
            },
            "marker": {
             "colorbar": {
              "outlinewidth": 0,
              "ticks": ""
             }
            },
            "type": "scatter3d"
           }
          ],
          "scattercarpet": [
           {
            "marker": {
             "colorbar": {
              "outlinewidth": 0,
              "ticks": ""
             }
            },
            "type": "scattercarpet"
           }
          ],
          "scattergeo": [
           {
            "marker": {
             "colorbar": {
              "outlinewidth": 0,
              "ticks": ""
             }
            },
            "type": "scattergeo"
           }
          ],
          "scattergl": [
           {
            "marker": {
             "colorbar": {
              "outlinewidth": 0,
              "ticks": ""
             }
            },
            "type": "scattergl"
           }
          ],
          "scattermapbox": [
           {
            "marker": {
             "colorbar": {
              "outlinewidth": 0,
              "ticks": ""
             }
            },
            "type": "scattermapbox"
           }
          ],
          "scatterpolar": [
           {
            "marker": {
             "colorbar": {
              "outlinewidth": 0,
              "ticks": ""
             }
            },
            "type": "scatterpolar"
           }
          ],
          "scatterpolargl": [
           {
            "marker": {
             "colorbar": {
              "outlinewidth": 0,
              "ticks": ""
             }
            },
            "type": "scatterpolargl"
           }
          ],
          "scatterternary": [
           {
            "marker": {
             "colorbar": {
              "outlinewidth": 0,
              "ticks": ""
             }
            },
            "type": "scatterternary"
           }
          ],
          "surface": [
           {
            "colorbar": {
             "outlinewidth": 0,
             "ticks": ""
            },
            "colorscale": [
             [
              0,
              "#0d0887"
             ],
             [
              0.1111111111111111,
              "#46039f"
             ],
             [
              0.2222222222222222,
              "#7201a8"
             ],
             [
              0.3333333333333333,
              "#9c179e"
             ],
             [
              0.4444444444444444,
              "#bd3786"
             ],
             [
              0.5555555555555556,
              "#d8576b"
             ],
             [
              0.6666666666666666,
              "#ed7953"
             ],
             [
              0.7777777777777778,
              "#fb9f3a"
             ],
             [
              0.8888888888888888,
              "#fdca26"
             ],
             [
              1,
              "#f0f921"
             ]
            ],
            "type": "surface"
           }
          ],
          "table": [
           {
            "cells": {
             "fill": {
              "color": "#EBF0F8"
             },
             "line": {
              "color": "white"
             }
            },
            "header": {
             "fill": {
              "color": "#C8D4E3"
             },
             "line": {
              "color": "white"
             }
            },
            "type": "table"
           }
          ]
         },
         "layout": {
          "annotationdefaults": {
           "arrowcolor": "#2a3f5f",
           "arrowhead": 0,
           "arrowwidth": 1
          },
          "autotypenumbers": "strict",
          "coloraxis": {
           "colorbar": {
            "outlinewidth": 0,
            "ticks": ""
           }
          },
          "colorscale": {
           "diverging": [
            [
             0,
             "#8e0152"
            ],
            [
             0.1,
             "#c51b7d"
            ],
            [
             0.2,
             "#de77ae"
            ],
            [
             0.3,
             "#f1b6da"
            ],
            [
             0.4,
             "#fde0ef"
            ],
            [
             0.5,
             "#f7f7f7"
            ],
            [
             0.6,
             "#e6f5d0"
            ],
            [
             0.7,
             "#b8e186"
            ],
            [
             0.8,
             "#7fbc41"
            ],
            [
             0.9,
             "#4d9221"
            ],
            [
             1,
             "#276419"
            ]
           ],
           "sequential": [
            [
             0,
             "#0d0887"
            ],
            [
             0.1111111111111111,
             "#46039f"
            ],
            [
             0.2222222222222222,
             "#7201a8"
            ],
            [
             0.3333333333333333,
             "#9c179e"
            ],
            [
             0.4444444444444444,
             "#bd3786"
            ],
            [
             0.5555555555555556,
             "#d8576b"
            ],
            [
             0.6666666666666666,
             "#ed7953"
            ],
            [
             0.7777777777777778,
             "#fb9f3a"
            ],
            [
             0.8888888888888888,
             "#fdca26"
            ],
            [
             1,
             "#f0f921"
            ]
           ],
           "sequentialminus": [
            [
             0,
             "#0d0887"
            ],
            [
             0.1111111111111111,
             "#46039f"
            ],
            [
             0.2222222222222222,
             "#7201a8"
            ],
            [
             0.3333333333333333,
             "#9c179e"
            ],
            [
             0.4444444444444444,
             "#bd3786"
            ],
            [
             0.5555555555555556,
             "#d8576b"
            ],
            [
             0.6666666666666666,
             "#ed7953"
            ],
            [
             0.7777777777777778,
             "#fb9f3a"
            ],
            [
             0.8888888888888888,
             "#fdca26"
            ],
            [
             1,
             "#f0f921"
            ]
           ]
          },
          "colorway": [
           "#636efa",
           "#EF553B",
           "#00cc96",
           "#ab63fa",
           "#FFA15A",
           "#19d3f3",
           "#FF6692",
           "#B6E880",
           "#FF97FF",
           "#FECB52"
          ],
          "font": {
           "color": "#2a3f5f"
          },
          "geo": {
           "bgcolor": "white",
           "lakecolor": "white",
           "landcolor": "#E5ECF6",
           "showlakes": true,
           "showland": true,
           "subunitcolor": "white"
          },
          "hoverlabel": {
           "align": "left"
          },
          "hovermode": "closest",
          "mapbox": {
           "style": "light"
          },
          "paper_bgcolor": "white",
          "plot_bgcolor": "#E5ECF6",
          "polar": {
           "angularaxis": {
            "gridcolor": "white",
            "linecolor": "white",
            "ticks": ""
           },
           "bgcolor": "#E5ECF6",
           "radialaxis": {
            "gridcolor": "white",
            "linecolor": "white",
            "ticks": ""
           }
          },
          "scene": {
           "xaxis": {
            "backgroundcolor": "#E5ECF6",
            "gridcolor": "white",
            "gridwidth": 2,
            "linecolor": "white",
            "showbackground": true,
            "ticks": "",
            "zerolinecolor": "white"
           },
           "yaxis": {
            "backgroundcolor": "#E5ECF6",
            "gridcolor": "white",
            "gridwidth": 2,
            "linecolor": "white",
            "showbackground": true,
            "ticks": "",
            "zerolinecolor": "white"
           },
           "zaxis": {
            "backgroundcolor": "#E5ECF6",
            "gridcolor": "white",
            "gridwidth": 2,
            "linecolor": "white",
            "showbackground": true,
            "ticks": "",
            "zerolinecolor": "white"
           }
          },
          "shapedefaults": {
           "line": {
            "color": "#2a3f5f"
           }
          },
          "ternary": {
           "aaxis": {
            "gridcolor": "white",
            "linecolor": "white",
            "ticks": ""
           },
           "baxis": {
            "gridcolor": "white",
            "linecolor": "white",
            "ticks": ""
           },
           "bgcolor": "#E5ECF6",
           "caxis": {
            "gridcolor": "white",
            "linecolor": "white",
            "ticks": ""
           }
          },
          "title": {
           "x": 0.05
          },
          "xaxis": {
           "automargin": true,
           "gridcolor": "white",
           "linecolor": "white",
           "ticks": "",
           "title": {
            "standoff": 15
           },
           "zerolinecolor": "white",
           "zerolinewidth": 2
          },
          "yaxis": {
           "automargin": true,
           "gridcolor": "white",
           "linecolor": "white",
           "ticks": "",
           "title": {
            "standoff": 15
           },
           "zerolinecolor": "white",
           "zerolinewidth": 2
          }
         }
        }
       }
      },
      "text/html": [
       "<div>                            <div id=\"67492de2-916e-4235-93c5-6107f55bdbf5\" class=\"plotly-graph-div\" style=\"height:525px; width:100%;\"></div>            <script type=\"text/javascript\">                require([\"plotly\"], function(Plotly) {                    window.PLOTLYENV=window.PLOTLYENV || {};                                    if (document.getElementById(\"67492de2-916e-4235-93c5-6107f55bdbf5\")) {                    Plotly.newPlot(                        \"67492de2-916e-4235-93c5-6107f55bdbf5\",                        [{\"dimensions\":[{\"label\":\"Estudante-Comunidade\",\"values\":[1.0,1.0,1.0,1.0,1.0,1.0,1.0,1.0,1.0,2.0,3.0,2.0,1.0,1.0,1.0,3.0,1.0,1.0,1.0,1.0,1.0,1.0,3.0,2.0,1.0,1.0,1.0,2.0,1.0,2.0,1.0,1.0,1.0,1.0,1.0,1.0,1.0,1.0,1.0,1.0,1.0,1.0,1.0,1.0,1.0,2.0,1.0,1.0,1.0,3.0,1.0,1.0,1.0,1.0,1.0,2.0,2.0,1.0,1.0,1.0,1.0,3.0]},{\"label\":\"Estudante-Escola\",\"values\":[1.0,1.0,2.0,2.0,1.0,1.0,2.0,1.0,1.0,3.0,1.0,1.0,1.0,1.0,3.0,2.0,1.0,1.0,1.0,1.0,1.0,2.0,2.0,3.0,2.0,2.0,1.0,1.0,1.0,1.0,1.0,1.0,1.0,2.0,1.0,1.0,1.0,2.0,1.0,1.0,1.0,1.0,1.0,1.0,1.0,3.0,1.0,3.0,1.0,2.0,1.0,1.0,2.0,1.0,1.0,2.0,1.0,1.0,1.0,2.0,2.0,3.0]},{\"label\":\"Estudante-Estudante\",\"values\":[1.0,2.0,3.0,3.0,3.0,1.0,1.0,2.0,1.0,2.0,3.0,1.0,3.0,2.0,2.0,3.0,2.0,1.0,1.0,2.0,2.0,3.0,3.0,3.0,3.0,2.0,3.0,3.0,2.0,3.0,1.0,1.0,1.0,1.0,2.0,2.0,1.0,3.0,2.0,2.0,1.0,1.0,2.0,2.0,3.0,3.0,1.0,2.0,1.0,3.0,1.0,2.0,1.0,2.0,2.0,3.0,3.0,1.0,2.0,1.0,3.0,3.0]},{\"label\":\"Estudante-Familia\",\"values\":[1.0,3.0,1.0,2.0,1.0,1.0,1.0,1.0,1.0,3.0,3.0,1.0,1.0,1.0,1.0,2.0,1.0,1.0,1.0,3.0,1.0,1.0,1.0,1.0,2.0,3.0,1.0,3.0,2.0,2.0,1.0,1.0,1.0,1.0,1.0,2.0,1.0,1.0,1.0,1.0,1.0,1.0,1.0,1.0,2.0,3.0,1.0,1.0,1.0,1.0,1.0,1.0,1.0,1.0,1.0,3.0,3.0,1.0,1.0,1.0,1.0,3.0]},{\"label\":\"Estudante-Profissionais da Escola\",\"values\":[1.0,1.0,2.0,2.0,1.0,1.0,1.0,1.0,1.0,2.0,3.0,1.0,1.0,1.0,1.0,1.0,1.0,2.0,2.0,1.0,3.0,2.0,2.0,2.0,2.0,3.0,1.0,1.0,2.0,2.0,1.0,1.0,1.0,1.0,1.0,1.0,1.0,1.0,1.0,1.0,1.0,1.0,1.0,1.0,2.0,1.0,1.0,1.0,2.0,3.0,1.0,3.0,2.0,1.0,1.0,2.0,1.0,1.0,1.0,1.0,2.0,2.0]}],\"domain\":{\"x\":[0.0,1.0],\"y\":[0.0,1.0]},\"line\":{\"color\":[1.0,1.0,1.0,1.0,1.0,null,2.0,2.0,2.0,2.0,1.0,1.0,1.0,2.0,4.0,1.0,1.0,1.0,1.0,1.0,1.0,1.0,1.0,1.0,1.0,1.0,2.0,1.0,2.0,2.0,2.0,3.0,3.0,3.0,3.0,3.0,3.0,3.0,3.0,3.0,3.0,3.0,4.0,4.0,4.0,4.0,4.0,4.0,1.0,1.0,1.0,1.0,1.0,1.0,1.0,1.0,1.0,1.0,1.0,1.0,1.0,2.0],\"coloraxis\":\"coloraxis\"},\"name\":\"\",\"type\":\"parcoords\"}],                        {\"template\":{\"data\":{\"bar\":[{\"error_x\":{\"color\":\"#2a3f5f\"},\"error_y\":{\"color\":\"#2a3f5f\"},\"marker\":{\"line\":{\"color\":\"#E5ECF6\",\"width\":0.5},\"pattern\":{\"fillmode\":\"overlay\",\"size\":10,\"solidity\":0.2}},\"type\":\"bar\"}],\"barpolar\":[{\"marker\":{\"line\":{\"color\":\"#E5ECF6\",\"width\":0.5},\"pattern\":{\"fillmode\":\"overlay\",\"size\":10,\"solidity\":0.2}},\"type\":\"barpolar\"}],\"carpet\":[{\"aaxis\":{\"endlinecolor\":\"#2a3f5f\",\"gridcolor\":\"white\",\"linecolor\":\"white\",\"minorgridcolor\":\"white\",\"startlinecolor\":\"#2a3f5f\"},\"baxis\":{\"endlinecolor\":\"#2a3f5f\",\"gridcolor\":\"white\",\"linecolor\":\"white\",\"minorgridcolor\":\"white\",\"startlinecolor\":\"#2a3f5f\"},\"type\":\"carpet\"}],\"choropleth\":[{\"colorbar\":{\"outlinewidth\":0,\"ticks\":\"\"},\"type\":\"choropleth\"}],\"contour\":[{\"colorbar\":{\"outlinewidth\":0,\"ticks\":\"\"},\"colorscale\":[[0.0,\"#0d0887\"],[0.1111111111111111,\"#46039f\"],[0.2222222222222222,\"#7201a8\"],[0.3333333333333333,\"#9c179e\"],[0.4444444444444444,\"#bd3786\"],[0.5555555555555556,\"#d8576b\"],[0.6666666666666666,\"#ed7953\"],[0.7777777777777778,\"#fb9f3a\"],[0.8888888888888888,\"#fdca26\"],[1.0,\"#f0f921\"]],\"type\":\"contour\"}],\"contourcarpet\":[{\"colorbar\":{\"outlinewidth\":0,\"ticks\":\"\"},\"type\":\"contourcarpet\"}],\"heatmap\":[{\"colorbar\":{\"outlinewidth\":0,\"ticks\":\"\"},\"colorscale\":[[0.0,\"#0d0887\"],[0.1111111111111111,\"#46039f\"],[0.2222222222222222,\"#7201a8\"],[0.3333333333333333,\"#9c179e\"],[0.4444444444444444,\"#bd3786\"],[0.5555555555555556,\"#d8576b\"],[0.6666666666666666,\"#ed7953\"],[0.7777777777777778,\"#fb9f3a\"],[0.8888888888888888,\"#fdca26\"],[1.0,\"#f0f921\"]],\"type\":\"heatmap\"}],\"heatmapgl\":[{\"colorbar\":{\"outlinewidth\":0,\"ticks\":\"\"},\"colorscale\":[[0.0,\"#0d0887\"],[0.1111111111111111,\"#46039f\"],[0.2222222222222222,\"#7201a8\"],[0.3333333333333333,\"#9c179e\"],[0.4444444444444444,\"#bd3786\"],[0.5555555555555556,\"#d8576b\"],[0.6666666666666666,\"#ed7953\"],[0.7777777777777778,\"#fb9f3a\"],[0.8888888888888888,\"#fdca26\"],[1.0,\"#f0f921\"]],\"type\":\"heatmapgl\"}],\"histogram\":[{\"marker\":{\"pattern\":{\"fillmode\":\"overlay\",\"size\":10,\"solidity\":0.2}},\"type\":\"histogram\"}],\"histogram2d\":[{\"colorbar\":{\"outlinewidth\":0,\"ticks\":\"\"},\"colorscale\":[[0.0,\"#0d0887\"],[0.1111111111111111,\"#46039f\"],[0.2222222222222222,\"#7201a8\"],[0.3333333333333333,\"#9c179e\"],[0.4444444444444444,\"#bd3786\"],[0.5555555555555556,\"#d8576b\"],[0.6666666666666666,\"#ed7953\"],[0.7777777777777778,\"#fb9f3a\"],[0.8888888888888888,\"#fdca26\"],[1.0,\"#f0f921\"]],\"type\":\"histogram2d\"}],\"histogram2dcontour\":[{\"colorbar\":{\"outlinewidth\":0,\"ticks\":\"\"},\"colorscale\":[[0.0,\"#0d0887\"],[0.1111111111111111,\"#46039f\"],[0.2222222222222222,\"#7201a8\"],[0.3333333333333333,\"#9c179e\"],[0.4444444444444444,\"#bd3786\"],[0.5555555555555556,\"#d8576b\"],[0.6666666666666666,\"#ed7953\"],[0.7777777777777778,\"#fb9f3a\"],[0.8888888888888888,\"#fdca26\"],[1.0,\"#f0f921\"]],\"type\":\"histogram2dcontour\"}],\"mesh3d\":[{\"colorbar\":{\"outlinewidth\":0,\"ticks\":\"\"},\"type\":\"mesh3d\"}],\"parcoords\":[{\"line\":{\"colorbar\":{\"outlinewidth\":0,\"ticks\":\"\"}},\"type\":\"parcoords\"}],\"pie\":[{\"automargin\":true,\"type\":\"pie\"}],\"scatter\":[{\"marker\":{\"colorbar\":{\"outlinewidth\":0,\"ticks\":\"\"}},\"type\":\"scatter\"}],\"scatter3d\":[{\"line\":{\"colorbar\":{\"outlinewidth\":0,\"ticks\":\"\"}},\"marker\":{\"colorbar\":{\"outlinewidth\":0,\"ticks\":\"\"}},\"type\":\"scatter3d\"}],\"scattercarpet\":[{\"marker\":{\"colorbar\":{\"outlinewidth\":0,\"ticks\":\"\"}},\"type\":\"scattercarpet\"}],\"scattergeo\":[{\"marker\":{\"colorbar\":{\"outlinewidth\":0,\"ticks\":\"\"}},\"type\":\"scattergeo\"}],\"scattergl\":[{\"marker\":{\"colorbar\":{\"outlinewidth\":0,\"ticks\":\"\"}},\"type\":\"scattergl\"}],\"scattermapbox\":[{\"marker\":{\"colorbar\":{\"outlinewidth\":0,\"ticks\":\"\"}},\"type\":\"scattermapbox\"}],\"scatterpolar\":[{\"marker\":{\"colorbar\":{\"outlinewidth\":0,\"ticks\":\"\"}},\"type\":\"scatterpolar\"}],\"scatterpolargl\":[{\"marker\":{\"colorbar\":{\"outlinewidth\":0,\"ticks\":\"\"}},\"type\":\"scatterpolargl\"}],\"scatterternary\":[{\"marker\":{\"colorbar\":{\"outlinewidth\":0,\"ticks\":\"\"}},\"type\":\"scatterternary\"}],\"surface\":[{\"colorbar\":{\"outlinewidth\":0,\"ticks\":\"\"},\"colorscale\":[[0.0,\"#0d0887\"],[0.1111111111111111,\"#46039f\"],[0.2222222222222222,\"#7201a8\"],[0.3333333333333333,\"#9c179e\"],[0.4444444444444444,\"#bd3786\"],[0.5555555555555556,\"#d8576b\"],[0.6666666666666666,\"#ed7953\"],[0.7777777777777778,\"#fb9f3a\"],[0.8888888888888888,\"#fdca26\"],[1.0,\"#f0f921\"]],\"type\":\"surface\"}],\"table\":[{\"cells\":{\"fill\":{\"color\":\"#EBF0F8\"},\"line\":{\"color\":\"white\"}},\"header\":{\"fill\":{\"color\":\"#C8D4E3\"},\"line\":{\"color\":\"white\"}},\"type\":\"table\"}]},\"layout\":{\"annotationdefaults\":{\"arrowcolor\":\"#2a3f5f\",\"arrowhead\":0,\"arrowwidth\":1},\"autotypenumbers\":\"strict\",\"coloraxis\":{\"colorbar\":{\"outlinewidth\":0,\"ticks\":\"\"}},\"colorscale\":{\"diverging\":[[0,\"#8e0152\"],[0.1,\"#c51b7d\"],[0.2,\"#de77ae\"],[0.3,\"#f1b6da\"],[0.4,\"#fde0ef\"],[0.5,\"#f7f7f7\"],[0.6,\"#e6f5d0\"],[0.7,\"#b8e186\"],[0.8,\"#7fbc41\"],[0.9,\"#4d9221\"],[1,\"#276419\"]],\"sequential\":[[0.0,\"#0d0887\"],[0.1111111111111111,\"#46039f\"],[0.2222222222222222,\"#7201a8\"],[0.3333333333333333,\"#9c179e\"],[0.4444444444444444,\"#bd3786\"],[0.5555555555555556,\"#d8576b\"],[0.6666666666666666,\"#ed7953\"],[0.7777777777777778,\"#fb9f3a\"],[0.8888888888888888,\"#fdca26\"],[1.0,\"#f0f921\"]],\"sequentialminus\":[[0.0,\"#0d0887\"],[0.1111111111111111,\"#46039f\"],[0.2222222222222222,\"#7201a8\"],[0.3333333333333333,\"#9c179e\"],[0.4444444444444444,\"#bd3786\"],[0.5555555555555556,\"#d8576b\"],[0.6666666666666666,\"#ed7953\"],[0.7777777777777778,\"#fb9f3a\"],[0.8888888888888888,\"#fdca26\"],[1.0,\"#f0f921\"]]},\"colorway\":[\"#636efa\",\"#EF553B\",\"#00cc96\",\"#ab63fa\",\"#FFA15A\",\"#19d3f3\",\"#FF6692\",\"#B6E880\",\"#FF97FF\",\"#FECB52\"],\"font\":{\"color\":\"#2a3f5f\"},\"geo\":{\"bgcolor\":\"white\",\"lakecolor\":\"white\",\"landcolor\":\"#E5ECF6\",\"showlakes\":true,\"showland\":true,\"subunitcolor\":\"white\"},\"hoverlabel\":{\"align\":\"left\"},\"hovermode\":\"closest\",\"mapbox\":{\"style\":\"light\"},\"paper_bgcolor\":\"white\",\"plot_bgcolor\":\"#E5ECF6\",\"polar\":{\"angularaxis\":{\"gridcolor\":\"white\",\"linecolor\":\"white\",\"ticks\":\"\"},\"bgcolor\":\"#E5ECF6\",\"radialaxis\":{\"gridcolor\":\"white\",\"linecolor\":\"white\",\"ticks\":\"\"}},\"scene\":{\"xaxis\":{\"backgroundcolor\":\"#E5ECF6\",\"gridcolor\":\"white\",\"gridwidth\":2,\"linecolor\":\"white\",\"showbackground\":true,\"ticks\":\"\",\"zerolinecolor\":\"white\"},\"yaxis\":{\"backgroundcolor\":\"#E5ECF6\",\"gridcolor\":\"white\",\"gridwidth\":2,\"linecolor\":\"white\",\"showbackground\":true,\"ticks\":\"\",\"zerolinecolor\":\"white\"},\"zaxis\":{\"backgroundcolor\":\"#E5ECF6\",\"gridcolor\":\"white\",\"gridwidth\":2,\"linecolor\":\"white\",\"showbackground\":true,\"ticks\":\"\",\"zerolinecolor\":\"white\"}},\"shapedefaults\":{\"line\":{\"color\":\"#2a3f5f\"}},\"ternary\":{\"aaxis\":{\"gridcolor\":\"white\",\"linecolor\":\"white\",\"ticks\":\"\"},\"baxis\":{\"gridcolor\":\"white\",\"linecolor\":\"white\",\"ticks\":\"\"},\"bgcolor\":\"#E5ECF6\",\"caxis\":{\"gridcolor\":\"white\",\"linecolor\":\"white\",\"ticks\":\"\"}},\"title\":{\"x\":0.05},\"xaxis\":{\"automargin\":true,\"gridcolor\":\"white\",\"linecolor\":\"white\",\"ticks\":\"\",\"title\":{\"standoff\":15},\"zerolinecolor\":\"white\",\"zerolinewidth\":2},\"yaxis\":{\"automargin\":true,\"gridcolor\":\"white\",\"linecolor\":\"white\",\"ticks\":\"\",\"title\":{\"standoff\":15},\"zerolinecolor\":\"white\",\"zerolinewidth\":2}}},\"coloraxis\":{\"colorbar\":{\"title\":{\"text\":\"etapa_ensino\"}},\"colorscale\":[[0.0,\"rgb(0, 147, 146)\"],[0.16666666666666666,\"rgb(114, 170, 161)\"],[0.3333333333333333,\"rgb(177, 199, 179)\"],[0.5,\"rgb(241, 234, 200)\"],[0.6666666666666666,\"rgb(229, 185, 173)\"],[0.8333333333333334,\"rgb(217, 137, 148)\"],[1.0,\"rgb(208, 88, 126)\"]],\"cmid\":2},\"legend\":{\"tracegroupgap\":0},\"margin\":{\"t\":60}},                        {\"responsive\": true}                    ).then(function(){\n",
       "                            \n",
       "var gd = document.getElementById('67492de2-916e-4235-93c5-6107f55bdbf5');\n",
       "var x = new MutationObserver(function (mutations, observer) {{\n",
       "        var display = window.getComputedStyle(gd).display;\n",
       "        if (!display || display === 'none') {{\n",
       "            console.log([gd, 'removed!']);\n",
       "            Plotly.purge(gd);\n",
       "            observer.disconnect();\n",
       "        }}\n",
       "}});\n",
       "\n",
       "// Listen for the removal of the full notebook cells\n",
       "var notebookContainer = gd.closest('#notebook-container');\n",
       "if (notebookContainer) {{\n",
       "    x.observe(notebookContainer, {childList: true});\n",
       "}}\n",
       "\n",
       "// Listen for the clearing of the current output cell\n",
       "var outputEl = gd.closest('.output');\n",
       "if (outputEl) {{\n",
       "    x.observe(outputEl, {childList: true});\n",
       "}}\n",
       "\n",
       "                        })                };                });            </script>        </div>"
      ]
     },
     "metadata": {},
     "output_type": "display_data"
    }
   ],
   "source": [
    "fig = px.parallel_coordinates(df_aux,color ='etapa_ensino',\n",
    "                              dimensions=['Estudante-Comunidade', 'Estudante-Escola', 'Estudante-Estudante',\n",
    "                                          'Estudante-Familia', 'Estudante-Profissionais da Escola'],\n",
    "                              color_continuous_scale=px.colors.diverging.Tealrose,\n",
    "                              color_continuous_midpoint=2)\n",
    "fig.show()"
   ]
  },
  {
   "cell_type": "code",
   "execution_count": 58,
   "id": "4f3e9f8a",
   "metadata": {
    "scrolled": false
   },
   "outputs": [
    {
     "name": "stdout",
     "output_type": "stream",
     "text": [
      "[1.435483870967742, 1.435483870967742, 1.435483870967742, 1.2903225806451613, 2.0161290322580645]\n"
     ]
    },
    {
     "data": {
      "application/vnd.plotly.v1+json": {
       "config": {
        "plotlyServerURL": "https://plot.ly"
       },
       "data": [
        {
         "marker": {
          "cmax": 7,
          "cmin": 0,
          "color": [
           1.435483870967742,
           1.435483870967742,
           1.435483870967742,
           1.2903225806451613,
           2.0161290322580645
          ],
          "colorbar": {
           "title": {
            "text": "Fator"
           }
          },
          "colorscale": [
           [
            0,
            "rgb(165,0,38)"
           ],
           [
            0.1,
            "rgb(215,48,39)"
           ],
           [
            0.2,
            "rgb(244,109,67)"
           ],
           [
            0.3,
            "rgb(253,174,97)"
           ],
           [
            0.4,
            "rgb(254,224,139)"
           ],
           [
            0.5,
            "rgb(255,255,191)"
           ],
           [
            0.6,
            "rgb(217,239,139)"
           ],
           [
            0.7,
            "rgb(166,217,106)"
           ],
           [
            0.8,
            "rgb(102,189,99)"
           ],
           [
            0.9,
            "rgb(26,152,80)"
           ],
           [
            1,
            "rgb(0,104,55)"
           ]
          ],
          "size": [
           56,
           57,
           62,
           57,
           41
          ]
         },
         "mode": "markers",
         "type": "scatter",
         "x": [
          "Estudante-Escola",
          "Estudante-Profissionais da Escola",
          "Estudante-Familia",
          "Estudante-Comunidade",
          "Estudante-Estudante"
         ],
         "y": [
          1.435483870967742,
          1.435483870967742,
          1.435483870967742,
          1.2903225806451613,
          2.0161290322580645
         ]
        }
       ],
       "layout": {
        "template": {
         "data": {
          "bar": [
           {
            "error_x": {
             "color": "#2a3f5f"
            },
            "error_y": {
             "color": "#2a3f5f"
            },
            "marker": {
             "line": {
              "color": "#E5ECF6",
              "width": 0.5
             },
             "pattern": {
              "fillmode": "overlay",
              "size": 10,
              "solidity": 0.2
             }
            },
            "type": "bar"
           }
          ],
          "barpolar": [
           {
            "marker": {
             "line": {
              "color": "#E5ECF6",
              "width": 0.5
             },
             "pattern": {
              "fillmode": "overlay",
              "size": 10,
              "solidity": 0.2
             }
            },
            "type": "barpolar"
           }
          ],
          "carpet": [
           {
            "aaxis": {
             "endlinecolor": "#2a3f5f",
             "gridcolor": "white",
             "linecolor": "white",
             "minorgridcolor": "white",
             "startlinecolor": "#2a3f5f"
            },
            "baxis": {
             "endlinecolor": "#2a3f5f",
             "gridcolor": "white",
             "linecolor": "white",
             "minorgridcolor": "white",
             "startlinecolor": "#2a3f5f"
            },
            "type": "carpet"
           }
          ],
          "choropleth": [
           {
            "colorbar": {
             "outlinewidth": 0,
             "ticks": ""
            },
            "type": "choropleth"
           }
          ],
          "contour": [
           {
            "colorbar": {
             "outlinewidth": 0,
             "ticks": ""
            },
            "colorscale": [
             [
              0,
              "#0d0887"
             ],
             [
              0.1111111111111111,
              "#46039f"
             ],
             [
              0.2222222222222222,
              "#7201a8"
             ],
             [
              0.3333333333333333,
              "#9c179e"
             ],
             [
              0.4444444444444444,
              "#bd3786"
             ],
             [
              0.5555555555555556,
              "#d8576b"
             ],
             [
              0.6666666666666666,
              "#ed7953"
             ],
             [
              0.7777777777777778,
              "#fb9f3a"
             ],
             [
              0.8888888888888888,
              "#fdca26"
             ],
             [
              1,
              "#f0f921"
             ]
            ],
            "type": "contour"
           }
          ],
          "contourcarpet": [
           {
            "colorbar": {
             "outlinewidth": 0,
             "ticks": ""
            },
            "type": "contourcarpet"
           }
          ],
          "heatmap": [
           {
            "colorbar": {
             "outlinewidth": 0,
             "ticks": ""
            },
            "colorscale": [
             [
              0,
              "#0d0887"
             ],
             [
              0.1111111111111111,
              "#46039f"
             ],
             [
              0.2222222222222222,
              "#7201a8"
             ],
             [
              0.3333333333333333,
              "#9c179e"
             ],
             [
              0.4444444444444444,
              "#bd3786"
             ],
             [
              0.5555555555555556,
              "#d8576b"
             ],
             [
              0.6666666666666666,
              "#ed7953"
             ],
             [
              0.7777777777777778,
              "#fb9f3a"
             ],
             [
              0.8888888888888888,
              "#fdca26"
             ],
             [
              1,
              "#f0f921"
             ]
            ],
            "type": "heatmap"
           }
          ],
          "heatmapgl": [
           {
            "colorbar": {
             "outlinewidth": 0,
             "ticks": ""
            },
            "colorscale": [
             [
              0,
              "#0d0887"
             ],
             [
              0.1111111111111111,
              "#46039f"
             ],
             [
              0.2222222222222222,
              "#7201a8"
             ],
             [
              0.3333333333333333,
              "#9c179e"
             ],
             [
              0.4444444444444444,
              "#bd3786"
             ],
             [
              0.5555555555555556,
              "#d8576b"
             ],
             [
              0.6666666666666666,
              "#ed7953"
             ],
             [
              0.7777777777777778,
              "#fb9f3a"
             ],
             [
              0.8888888888888888,
              "#fdca26"
             ],
             [
              1,
              "#f0f921"
             ]
            ],
            "type": "heatmapgl"
           }
          ],
          "histogram": [
           {
            "marker": {
             "pattern": {
              "fillmode": "overlay",
              "size": 10,
              "solidity": 0.2
             }
            },
            "type": "histogram"
           }
          ],
          "histogram2d": [
           {
            "colorbar": {
             "outlinewidth": 0,
             "ticks": ""
            },
            "colorscale": [
             [
              0,
              "#0d0887"
             ],
             [
              0.1111111111111111,
              "#46039f"
             ],
             [
              0.2222222222222222,
              "#7201a8"
             ],
             [
              0.3333333333333333,
              "#9c179e"
             ],
             [
              0.4444444444444444,
              "#bd3786"
             ],
             [
              0.5555555555555556,
              "#d8576b"
             ],
             [
              0.6666666666666666,
              "#ed7953"
             ],
             [
              0.7777777777777778,
              "#fb9f3a"
             ],
             [
              0.8888888888888888,
              "#fdca26"
             ],
             [
              1,
              "#f0f921"
             ]
            ],
            "type": "histogram2d"
           }
          ],
          "histogram2dcontour": [
           {
            "colorbar": {
             "outlinewidth": 0,
             "ticks": ""
            },
            "colorscale": [
             [
              0,
              "#0d0887"
             ],
             [
              0.1111111111111111,
              "#46039f"
             ],
             [
              0.2222222222222222,
              "#7201a8"
             ],
             [
              0.3333333333333333,
              "#9c179e"
             ],
             [
              0.4444444444444444,
              "#bd3786"
             ],
             [
              0.5555555555555556,
              "#d8576b"
             ],
             [
              0.6666666666666666,
              "#ed7953"
             ],
             [
              0.7777777777777778,
              "#fb9f3a"
             ],
             [
              0.8888888888888888,
              "#fdca26"
             ],
             [
              1,
              "#f0f921"
             ]
            ],
            "type": "histogram2dcontour"
           }
          ],
          "mesh3d": [
           {
            "colorbar": {
             "outlinewidth": 0,
             "ticks": ""
            },
            "type": "mesh3d"
           }
          ],
          "parcoords": [
           {
            "line": {
             "colorbar": {
              "outlinewidth": 0,
              "ticks": ""
             }
            },
            "type": "parcoords"
           }
          ],
          "pie": [
           {
            "automargin": true,
            "type": "pie"
           }
          ],
          "scatter": [
           {
            "marker": {
             "colorbar": {
              "outlinewidth": 0,
              "ticks": ""
             }
            },
            "type": "scatter"
           }
          ],
          "scatter3d": [
           {
            "line": {
             "colorbar": {
              "outlinewidth": 0,
              "ticks": ""
             }
            },
            "marker": {
             "colorbar": {
              "outlinewidth": 0,
              "ticks": ""
             }
            },
            "type": "scatter3d"
           }
          ],
          "scattercarpet": [
           {
            "marker": {
             "colorbar": {
              "outlinewidth": 0,
              "ticks": ""
             }
            },
            "type": "scattercarpet"
           }
          ],
          "scattergeo": [
           {
            "marker": {
             "colorbar": {
              "outlinewidth": 0,
              "ticks": ""
             }
            },
            "type": "scattergeo"
           }
          ],
          "scattergl": [
           {
            "marker": {
             "colorbar": {
              "outlinewidth": 0,
              "ticks": ""
             }
            },
            "type": "scattergl"
           }
          ],
          "scattermapbox": [
           {
            "marker": {
             "colorbar": {
              "outlinewidth": 0,
              "ticks": ""
             }
            },
            "type": "scattermapbox"
           }
          ],
          "scatterpolar": [
           {
            "marker": {
             "colorbar": {
              "outlinewidth": 0,
              "ticks": ""
             }
            },
            "type": "scatterpolar"
           }
          ],
          "scatterpolargl": [
           {
            "marker": {
             "colorbar": {
              "outlinewidth": 0,
              "ticks": ""
             }
            },
            "type": "scatterpolargl"
           }
          ],
          "scatterternary": [
           {
            "marker": {
             "colorbar": {
              "outlinewidth": 0,
              "ticks": ""
             }
            },
            "type": "scatterternary"
           }
          ],
          "surface": [
           {
            "colorbar": {
             "outlinewidth": 0,
             "ticks": ""
            },
            "colorscale": [
             [
              0,
              "#0d0887"
             ],
             [
              0.1111111111111111,
              "#46039f"
             ],
             [
              0.2222222222222222,
              "#7201a8"
             ],
             [
              0.3333333333333333,
              "#9c179e"
             ],
             [
              0.4444444444444444,
              "#bd3786"
             ],
             [
              0.5555555555555556,
              "#d8576b"
             ],
             [
              0.6666666666666666,
              "#ed7953"
             ],
             [
              0.7777777777777778,
              "#fb9f3a"
             ],
             [
              0.8888888888888888,
              "#fdca26"
             ],
             [
              1,
              "#f0f921"
             ]
            ],
            "type": "surface"
           }
          ],
          "table": [
           {
            "cells": {
             "fill": {
              "color": "#EBF0F8"
             },
             "line": {
              "color": "white"
             }
            },
            "header": {
             "fill": {
              "color": "#C8D4E3"
             },
             "line": {
              "color": "white"
             }
            },
            "type": "table"
           }
          ]
         },
         "layout": {
          "annotationdefaults": {
           "arrowcolor": "#2a3f5f",
           "arrowhead": 0,
           "arrowwidth": 1
          },
          "autotypenumbers": "strict",
          "coloraxis": {
           "colorbar": {
            "outlinewidth": 0,
            "ticks": ""
           }
          },
          "colorscale": {
           "diverging": [
            [
             0,
             "#8e0152"
            ],
            [
             0.1,
             "#c51b7d"
            ],
            [
             0.2,
             "#de77ae"
            ],
            [
             0.3,
             "#f1b6da"
            ],
            [
             0.4,
             "#fde0ef"
            ],
            [
             0.5,
             "#f7f7f7"
            ],
            [
             0.6,
             "#e6f5d0"
            ],
            [
             0.7,
             "#b8e186"
            ],
            [
             0.8,
             "#7fbc41"
            ],
            [
             0.9,
             "#4d9221"
            ],
            [
             1,
             "#276419"
            ]
           ],
           "sequential": [
            [
             0,
             "#0d0887"
            ],
            [
             0.1111111111111111,
             "#46039f"
            ],
            [
             0.2222222222222222,
             "#7201a8"
            ],
            [
             0.3333333333333333,
             "#9c179e"
            ],
            [
             0.4444444444444444,
             "#bd3786"
            ],
            [
             0.5555555555555556,
             "#d8576b"
            ],
            [
             0.6666666666666666,
             "#ed7953"
            ],
            [
             0.7777777777777778,
             "#fb9f3a"
            ],
            [
             0.8888888888888888,
             "#fdca26"
            ],
            [
             1,
             "#f0f921"
            ]
           ],
           "sequentialminus": [
            [
             0,
             "#0d0887"
            ],
            [
             0.1111111111111111,
             "#46039f"
            ],
            [
             0.2222222222222222,
             "#7201a8"
            ],
            [
             0.3333333333333333,
             "#9c179e"
            ],
            [
             0.4444444444444444,
             "#bd3786"
            ],
            [
             0.5555555555555556,
             "#d8576b"
            ],
            [
             0.6666666666666666,
             "#ed7953"
            ],
            [
             0.7777777777777778,
             "#fb9f3a"
            ],
            [
             0.8888888888888888,
             "#fdca26"
            ],
            [
             1,
             "#f0f921"
            ]
           ]
          },
          "colorway": [
           "#636efa",
           "#EF553B",
           "#00cc96",
           "#ab63fa",
           "#FFA15A",
           "#19d3f3",
           "#FF6692",
           "#B6E880",
           "#FF97FF",
           "#FECB52"
          ],
          "font": {
           "color": "#2a3f5f"
          },
          "geo": {
           "bgcolor": "white",
           "lakecolor": "white",
           "landcolor": "#E5ECF6",
           "showlakes": true,
           "showland": true,
           "subunitcolor": "white"
          },
          "hoverlabel": {
           "align": "left"
          },
          "hovermode": "closest",
          "mapbox": {
           "style": "light"
          },
          "paper_bgcolor": "white",
          "plot_bgcolor": "#E5ECF6",
          "polar": {
           "angularaxis": {
            "gridcolor": "white",
            "linecolor": "white",
            "ticks": ""
           },
           "bgcolor": "#E5ECF6",
           "radialaxis": {
            "gridcolor": "white",
            "linecolor": "white",
            "ticks": ""
           }
          },
          "scene": {
           "xaxis": {
            "backgroundcolor": "#E5ECF6",
            "gridcolor": "white",
            "gridwidth": 2,
            "linecolor": "white",
            "showbackground": true,
            "ticks": "",
            "zerolinecolor": "white"
           },
           "yaxis": {
            "backgroundcolor": "#E5ECF6",
            "gridcolor": "white",
            "gridwidth": 2,
            "linecolor": "white",
            "showbackground": true,
            "ticks": "",
            "zerolinecolor": "white"
           },
           "zaxis": {
            "backgroundcolor": "#E5ECF6",
            "gridcolor": "white",
            "gridwidth": 2,
            "linecolor": "white",
            "showbackground": true,
            "ticks": "",
            "zerolinecolor": "white"
           }
          },
          "shapedefaults": {
           "line": {
            "color": "#2a3f5f"
           }
          },
          "ternary": {
           "aaxis": {
            "gridcolor": "white",
            "linecolor": "white",
            "ticks": ""
           },
           "baxis": {
            "gridcolor": "white",
            "linecolor": "white",
            "ticks": ""
           },
           "bgcolor": "#E5ECF6",
           "caxis": {
            "gridcolor": "white",
            "linecolor": "white",
            "ticks": ""
           }
          },
          "title": {
           "x": 0.05
          },
          "xaxis": {
           "automargin": true,
           "gridcolor": "white",
           "linecolor": "white",
           "ticks": "",
           "title": {
            "standoff": 15
           },
           "zerolinecolor": "white",
           "zerolinewidth": 2
          },
          "yaxis": {
           "automargin": true,
           "gridcolor": "white",
           "linecolor": "white",
           "ticks": "",
           "title": {
            "standoff": 15
           },
           "zerolinecolor": "white",
           "zerolinewidth": 2
          }
         }
        }
       }
      },
      "text/html": [
       "<div>                            <div id=\"7f442d0d-bbda-40fe-9776-a9b05ee2bf31\" class=\"plotly-graph-div\" style=\"height:525px; width:100%;\"></div>            <script type=\"text/javascript\">                require([\"plotly\"], function(Plotly) {                    window.PLOTLYENV=window.PLOTLYENV || {};                                    if (document.getElementById(\"7f442d0d-bbda-40fe-9776-a9b05ee2bf31\")) {                    Plotly.newPlot(                        \"7f442d0d-bbda-40fe-9776-a9b05ee2bf31\",                        [{\"marker\":{\"cmax\":7,\"cmin\":0,\"color\":[1.435483870967742,1.435483870967742,1.435483870967742,1.2903225806451613,2.0161290322580645],\"colorbar\":{\"title\":{\"text\":\"Fator\"}},\"colorscale\":[[0.0,\"rgb(165,0,38)\"],[0.1,\"rgb(215,48,39)\"],[0.2,\"rgb(244,109,67)\"],[0.3,\"rgb(253,174,97)\"],[0.4,\"rgb(254,224,139)\"],[0.5,\"rgb(255,255,191)\"],[0.6,\"rgb(217,239,139)\"],[0.7,\"rgb(166,217,106)\"],[0.8,\"rgb(102,189,99)\"],[0.9,\"rgb(26,152,80)\"],[1.0,\"rgb(0,104,55)\"]],\"size\":[56,57,62,57,41]},\"mode\":\"markers\",\"x\":[\"Estudante-Escola\",\"Estudante-Profissionais da Escola\",\"Estudante-Familia\",\"Estudante-Comunidade\",\"Estudante-Estudante\"],\"y\":[1.435483870967742,1.435483870967742,1.435483870967742,1.2903225806451613,2.0161290322580645],\"type\":\"scatter\"}],                        {\"template\":{\"data\":{\"bar\":[{\"error_x\":{\"color\":\"#2a3f5f\"},\"error_y\":{\"color\":\"#2a3f5f\"},\"marker\":{\"line\":{\"color\":\"#E5ECF6\",\"width\":0.5},\"pattern\":{\"fillmode\":\"overlay\",\"size\":10,\"solidity\":0.2}},\"type\":\"bar\"}],\"barpolar\":[{\"marker\":{\"line\":{\"color\":\"#E5ECF6\",\"width\":0.5},\"pattern\":{\"fillmode\":\"overlay\",\"size\":10,\"solidity\":0.2}},\"type\":\"barpolar\"}],\"carpet\":[{\"aaxis\":{\"endlinecolor\":\"#2a3f5f\",\"gridcolor\":\"white\",\"linecolor\":\"white\",\"minorgridcolor\":\"white\",\"startlinecolor\":\"#2a3f5f\"},\"baxis\":{\"endlinecolor\":\"#2a3f5f\",\"gridcolor\":\"white\",\"linecolor\":\"white\",\"minorgridcolor\":\"white\",\"startlinecolor\":\"#2a3f5f\"},\"type\":\"carpet\"}],\"choropleth\":[{\"colorbar\":{\"outlinewidth\":0,\"ticks\":\"\"},\"type\":\"choropleth\"}],\"contour\":[{\"colorbar\":{\"outlinewidth\":0,\"ticks\":\"\"},\"colorscale\":[[0.0,\"#0d0887\"],[0.1111111111111111,\"#46039f\"],[0.2222222222222222,\"#7201a8\"],[0.3333333333333333,\"#9c179e\"],[0.4444444444444444,\"#bd3786\"],[0.5555555555555556,\"#d8576b\"],[0.6666666666666666,\"#ed7953\"],[0.7777777777777778,\"#fb9f3a\"],[0.8888888888888888,\"#fdca26\"],[1.0,\"#f0f921\"]],\"type\":\"contour\"}],\"contourcarpet\":[{\"colorbar\":{\"outlinewidth\":0,\"ticks\":\"\"},\"type\":\"contourcarpet\"}],\"heatmap\":[{\"colorbar\":{\"outlinewidth\":0,\"ticks\":\"\"},\"colorscale\":[[0.0,\"#0d0887\"],[0.1111111111111111,\"#46039f\"],[0.2222222222222222,\"#7201a8\"],[0.3333333333333333,\"#9c179e\"],[0.4444444444444444,\"#bd3786\"],[0.5555555555555556,\"#d8576b\"],[0.6666666666666666,\"#ed7953\"],[0.7777777777777778,\"#fb9f3a\"],[0.8888888888888888,\"#fdca26\"],[1.0,\"#f0f921\"]],\"type\":\"heatmap\"}],\"heatmapgl\":[{\"colorbar\":{\"outlinewidth\":0,\"ticks\":\"\"},\"colorscale\":[[0.0,\"#0d0887\"],[0.1111111111111111,\"#46039f\"],[0.2222222222222222,\"#7201a8\"],[0.3333333333333333,\"#9c179e\"],[0.4444444444444444,\"#bd3786\"],[0.5555555555555556,\"#d8576b\"],[0.6666666666666666,\"#ed7953\"],[0.7777777777777778,\"#fb9f3a\"],[0.8888888888888888,\"#fdca26\"],[1.0,\"#f0f921\"]],\"type\":\"heatmapgl\"}],\"histogram\":[{\"marker\":{\"pattern\":{\"fillmode\":\"overlay\",\"size\":10,\"solidity\":0.2}},\"type\":\"histogram\"}],\"histogram2d\":[{\"colorbar\":{\"outlinewidth\":0,\"ticks\":\"\"},\"colorscale\":[[0.0,\"#0d0887\"],[0.1111111111111111,\"#46039f\"],[0.2222222222222222,\"#7201a8\"],[0.3333333333333333,\"#9c179e\"],[0.4444444444444444,\"#bd3786\"],[0.5555555555555556,\"#d8576b\"],[0.6666666666666666,\"#ed7953\"],[0.7777777777777778,\"#fb9f3a\"],[0.8888888888888888,\"#fdca26\"],[1.0,\"#f0f921\"]],\"type\":\"histogram2d\"}],\"histogram2dcontour\":[{\"colorbar\":{\"outlinewidth\":0,\"ticks\":\"\"},\"colorscale\":[[0.0,\"#0d0887\"],[0.1111111111111111,\"#46039f\"],[0.2222222222222222,\"#7201a8\"],[0.3333333333333333,\"#9c179e\"],[0.4444444444444444,\"#bd3786\"],[0.5555555555555556,\"#d8576b\"],[0.6666666666666666,\"#ed7953\"],[0.7777777777777778,\"#fb9f3a\"],[0.8888888888888888,\"#fdca26\"],[1.0,\"#f0f921\"]],\"type\":\"histogram2dcontour\"}],\"mesh3d\":[{\"colorbar\":{\"outlinewidth\":0,\"ticks\":\"\"},\"type\":\"mesh3d\"}],\"parcoords\":[{\"line\":{\"colorbar\":{\"outlinewidth\":0,\"ticks\":\"\"}},\"type\":\"parcoords\"}],\"pie\":[{\"automargin\":true,\"type\":\"pie\"}],\"scatter\":[{\"marker\":{\"colorbar\":{\"outlinewidth\":0,\"ticks\":\"\"}},\"type\":\"scatter\"}],\"scatter3d\":[{\"line\":{\"colorbar\":{\"outlinewidth\":0,\"ticks\":\"\"}},\"marker\":{\"colorbar\":{\"outlinewidth\":0,\"ticks\":\"\"}},\"type\":\"scatter3d\"}],\"scattercarpet\":[{\"marker\":{\"colorbar\":{\"outlinewidth\":0,\"ticks\":\"\"}},\"type\":\"scattercarpet\"}],\"scattergeo\":[{\"marker\":{\"colorbar\":{\"outlinewidth\":0,\"ticks\":\"\"}},\"type\":\"scattergeo\"}],\"scattergl\":[{\"marker\":{\"colorbar\":{\"outlinewidth\":0,\"ticks\":\"\"}},\"type\":\"scattergl\"}],\"scattermapbox\":[{\"marker\":{\"colorbar\":{\"outlinewidth\":0,\"ticks\":\"\"}},\"type\":\"scattermapbox\"}],\"scatterpolar\":[{\"marker\":{\"colorbar\":{\"outlinewidth\":0,\"ticks\":\"\"}},\"type\":\"scatterpolar\"}],\"scatterpolargl\":[{\"marker\":{\"colorbar\":{\"outlinewidth\":0,\"ticks\":\"\"}},\"type\":\"scatterpolargl\"}],\"scatterternary\":[{\"marker\":{\"colorbar\":{\"outlinewidth\":0,\"ticks\":\"\"}},\"type\":\"scatterternary\"}],\"surface\":[{\"colorbar\":{\"outlinewidth\":0,\"ticks\":\"\"},\"colorscale\":[[0.0,\"#0d0887\"],[0.1111111111111111,\"#46039f\"],[0.2222222222222222,\"#7201a8\"],[0.3333333333333333,\"#9c179e\"],[0.4444444444444444,\"#bd3786\"],[0.5555555555555556,\"#d8576b\"],[0.6666666666666666,\"#ed7953\"],[0.7777777777777778,\"#fb9f3a\"],[0.8888888888888888,\"#fdca26\"],[1.0,\"#f0f921\"]],\"type\":\"surface\"}],\"table\":[{\"cells\":{\"fill\":{\"color\":\"#EBF0F8\"},\"line\":{\"color\":\"white\"}},\"header\":{\"fill\":{\"color\":\"#C8D4E3\"},\"line\":{\"color\":\"white\"}},\"type\":\"table\"}]},\"layout\":{\"annotationdefaults\":{\"arrowcolor\":\"#2a3f5f\",\"arrowhead\":0,\"arrowwidth\":1},\"autotypenumbers\":\"strict\",\"coloraxis\":{\"colorbar\":{\"outlinewidth\":0,\"ticks\":\"\"}},\"colorscale\":{\"diverging\":[[0,\"#8e0152\"],[0.1,\"#c51b7d\"],[0.2,\"#de77ae\"],[0.3,\"#f1b6da\"],[0.4,\"#fde0ef\"],[0.5,\"#f7f7f7\"],[0.6,\"#e6f5d0\"],[0.7,\"#b8e186\"],[0.8,\"#7fbc41\"],[0.9,\"#4d9221\"],[1,\"#276419\"]],\"sequential\":[[0.0,\"#0d0887\"],[0.1111111111111111,\"#46039f\"],[0.2222222222222222,\"#7201a8\"],[0.3333333333333333,\"#9c179e\"],[0.4444444444444444,\"#bd3786\"],[0.5555555555555556,\"#d8576b\"],[0.6666666666666666,\"#ed7953\"],[0.7777777777777778,\"#fb9f3a\"],[0.8888888888888888,\"#fdca26\"],[1.0,\"#f0f921\"]],\"sequentialminus\":[[0.0,\"#0d0887\"],[0.1111111111111111,\"#46039f\"],[0.2222222222222222,\"#7201a8\"],[0.3333333333333333,\"#9c179e\"],[0.4444444444444444,\"#bd3786\"],[0.5555555555555556,\"#d8576b\"],[0.6666666666666666,\"#ed7953\"],[0.7777777777777778,\"#fb9f3a\"],[0.8888888888888888,\"#fdca26\"],[1.0,\"#f0f921\"]]},\"colorway\":[\"#636efa\",\"#EF553B\",\"#00cc96\",\"#ab63fa\",\"#FFA15A\",\"#19d3f3\",\"#FF6692\",\"#B6E880\",\"#FF97FF\",\"#FECB52\"],\"font\":{\"color\":\"#2a3f5f\"},\"geo\":{\"bgcolor\":\"white\",\"lakecolor\":\"white\",\"landcolor\":\"#E5ECF6\",\"showlakes\":true,\"showland\":true,\"subunitcolor\":\"white\"},\"hoverlabel\":{\"align\":\"left\"},\"hovermode\":\"closest\",\"mapbox\":{\"style\":\"light\"},\"paper_bgcolor\":\"white\",\"plot_bgcolor\":\"#E5ECF6\",\"polar\":{\"angularaxis\":{\"gridcolor\":\"white\",\"linecolor\":\"white\",\"ticks\":\"\"},\"bgcolor\":\"#E5ECF6\",\"radialaxis\":{\"gridcolor\":\"white\",\"linecolor\":\"white\",\"ticks\":\"\"}},\"scene\":{\"xaxis\":{\"backgroundcolor\":\"#E5ECF6\",\"gridcolor\":\"white\",\"gridwidth\":2,\"linecolor\":\"white\",\"showbackground\":true,\"ticks\":\"\",\"zerolinecolor\":\"white\"},\"yaxis\":{\"backgroundcolor\":\"#E5ECF6\",\"gridcolor\":\"white\",\"gridwidth\":2,\"linecolor\":\"white\",\"showbackground\":true,\"ticks\":\"\",\"zerolinecolor\":\"white\"},\"zaxis\":{\"backgroundcolor\":\"#E5ECF6\",\"gridcolor\":\"white\",\"gridwidth\":2,\"linecolor\":\"white\",\"showbackground\":true,\"ticks\":\"\",\"zerolinecolor\":\"white\"}},\"shapedefaults\":{\"line\":{\"color\":\"#2a3f5f\"}},\"ternary\":{\"aaxis\":{\"gridcolor\":\"white\",\"linecolor\":\"white\",\"ticks\":\"\"},\"baxis\":{\"gridcolor\":\"white\",\"linecolor\":\"white\",\"ticks\":\"\"},\"bgcolor\":\"#E5ECF6\",\"caxis\":{\"gridcolor\":\"white\",\"linecolor\":\"white\",\"ticks\":\"\"}},\"title\":{\"x\":0.05},\"xaxis\":{\"automargin\":true,\"gridcolor\":\"white\",\"linecolor\":\"white\",\"ticks\":\"\",\"title\":{\"standoff\":15},\"zerolinecolor\":\"white\",\"zerolinewidth\":2},\"yaxis\":{\"automargin\":true,\"gridcolor\":\"white\",\"linecolor\":\"white\",\"ticks\":\"\",\"title\":{\"standoff\":15},\"zerolinecolor\":\"white\",\"zerolinewidth\":2}}}},                        {\"responsive\": true}                    ).then(function(){\n",
       "                            \n",
       "var gd = document.getElementById('7f442d0d-bbda-40fe-9776-a9b05ee2bf31');\n",
       "var x = new MutationObserver(function (mutations, observer) {{\n",
       "        var display = window.getComputedStyle(gd).display;\n",
       "        if (!display || display === 'none') {{\n",
       "            console.log([gd, 'removed!']);\n",
       "            Plotly.purge(gd);\n",
       "            observer.disconnect();\n",
       "        }}\n",
       "}});\n",
       "\n",
       "// Listen for the removal of the full notebook cells\n",
       "var notebookContainer = gd.closest('#notebook-container');\n",
       "if (notebookContainer) {{\n",
       "    x.observe(notebookContainer, {childList: true});\n",
       "}}\n",
       "\n",
       "// Listen for the clearing of the current output cell\n",
       "var outputEl = gd.closest('.output');\n",
       "if (outputEl) {{\n",
       "    x.observe(outputEl, {childList: true});\n",
       "}}\n",
       "\n",
       "                        })                };                });            </script>        </div>"
      ]
     },
     "metadata": {},
     "output_type": "display_data"
    }
   ],
   "source": [
    "df_aux = data_aluno_turma_escola_dimensoes[~data_aluno_turma_escola_dimensoes['Estudante-Comunidade'].isna()]\n",
    "\n",
    "lst = []\n",
    "colunas =['Estudante-Escola',\n",
    "          'Estudante-Profissionais da Escola',\n",
    "           'Estudante-Familia',\n",
    "          'Estudante-Comunidade',           \n",
    "          'Estudante-Estudante',           \n",
    "          ]\n",
    "\n",
    "\n",
    "\n",
    "\n",
    "\n",
    "for nome in colunas:\n",
    "    lst.append(df_aux[nome].mean())\n",
    "print(lst)\n",
    "fig = go.Figure(data=[go.Scatter(\n",
    "    x=colunas,\n",
    "    y=lst,\n",
    "    mode='markers',\n",
    "    marker=dict(\n",
    "            size=[E_ESC_baixo,E_PROF_baixo,E_FAM_baixo,E_COM_baixo,E_EST_baixo],\n",
    "            cmax=7,\n",
    "            cmin=0,\n",
    "            color=lst,\n",
    "            colorbar=dict(\n",
    "                title='Fator'\n",
    "            ),\n",
    "            colorscale='RdYlGn'\n",
    "        )\n",
    ")])\n",
    "\n",
    "fig.show()"
   ]
  },
  {
   "cell_type": "code",
   "execution_count": 130,
   "id": "db8f9ff2",
   "metadata": {},
   "outputs": [
    {
     "name": "stdout",
     "output_type": "stream",
     "text": [
      "<class 'pandas.core.frame.DataFrame'>\n",
      "Int64Index: 131804 entries, 0 to 131803\n",
      "Data columns (total 38 columns):\n",
      " #   Column                             Non-Null Count   Dtype  \n",
      "---  ------                             --------------   -----  \n",
      " 0   id_aluno                           14076 non-null   float64\n",
      " 1   id_turma                           14076 non-null   float64\n",
      " 2   cod_matricula                      9 non-null       float64\n",
      " 3   nome_turma                         8 non-null       object \n",
      " 4   nome_aluno                         14076 non-null   object \n",
      " 5   tp_sexo                            8 non-null       object \n",
      " 6   ano_turma                          382 non-null     object \n",
      " 7   data_criacao                       382 non-null     object \n",
      " 8   etapa_ensino                       360 non-null     object \n",
      " 9   id_escola                          382 non-null     float64\n",
      " 10  modo_ensino                        360 non-null     object \n",
      " 11  categoria_administrativa           131804 non-null  object \n",
      " 12  categoria_escola                   131804 non-null  object \n",
      " 13  cod_estado                         131804 non-null  int64  \n",
      " 14  cod_regiao                         131804 non-null  int64  \n",
      " 15  conveniada_poder_publico           131804 non-null  object \n",
      " 16  dependencia_administrativa         131804 non-null  object \n",
      " 17  endereco                           131804 non-null  object \n",
      " 18  escola                             131804 non-null  object \n",
      " 19  etapas_e_modalidade_ensino         131804 non-null  object \n",
      " 20  localidade_diferenciada            131804 non-null  object \n",
      " 21  localizacao                        131804 non-null  object \n",
      " 22  meso                               131804 non-null  object \n",
      " 23  micro                              131804 non-null  object \n",
      " 24  municipio                          131804 non-null  object \n",
      " 25  outras_ofertas                     36975 non-null   object \n",
      " 26  porte                              131804 non-null  object \n",
      " 27  regiao                             131804 non-null  object \n",
      " 28  regulamentacao_conselho            131804 non-null  object \n",
      " 29  resticao_de_atendimento            131804 non-null  object \n",
      " 30  telefone                           112040 non-null  object \n",
      " 31  uf                                 131804 non-null  object \n",
      " 32  Estudante-Comunidade               62 non-null      float64\n",
      " 33  Estudante-Escola                   62 non-null      float64\n",
      " 34  Estudante-Estudante                62 non-null      float64\n",
      " 35  Estudante-Familia                  62 non-null      float64\n",
      " 36  Estudante-Profissionais da Escola  62 non-null      float64\n",
      " 37  aluno                              62 non-null      object \n",
      "dtypes: float64(9), int64(2), object(27)\n",
      "memory usage: 39.2+ MB\n"
     ]
    }
   ],
   "source": [
    "data_aluno_turma_escola_dimensoes.info()"
   ]
  },
  {
   "cell_type": "code",
   "execution_count": 132,
   "id": "b39245cf",
   "metadata": {},
   "outputs": [
    {
     "name": "stdout",
     "output_type": "stream",
     "text": [
      "<class 'pandas.core.frame.DataFrame'>\n",
      "RangeIndex: 15 entries, 0 to 14\n",
      "Data columns (total 4 columns):\n",
      " #   Column      Non-Null Count  Dtype  \n",
      "---  ------      --------------  -----  \n",
      " 0   dimensao    15 non-null     object \n",
      " 1   nivel       15 non-null     object \n",
      " 2   quantidade  15 non-null     int64  \n",
      " 3   percentual  15 non-null     float64\n",
      "dtypes: float64(1), int64(1), object(2)\n",
      "memory usage: 608.0+ bytes\n"
     ]
    }
   ],
   "source": [
    "df_aux = data_aluno_turma_escola_dimensoes.copy()\n",
    "\n",
    "E_ESC_baixo = len(df_aux.loc[df_aux['Estudante-Escola'] <= 2.83])\n",
    "E_ESC_medio = len(df_aux.loc[(df_aux['Estudante-Escola'] > 2.83) & (df_aux['Estudante-Escola'] <= 4)])\n",
    "E_ESC_alto = len(df_aux.loc[df_aux['Estudante-Escola'] > 4])\n",
    "E_ESC_total = df_dimensao.loc[df_dimensao['dimensao']=='Estudante-Escola',['quantidade']].sum()[0]\n",
    "\n",
    "E_PROF_baixo = len(df_aux.loc[df_aux['Estudante-Profissionais da Escola'] <= 2.66])\n",
    "E_PROF_medio = len(df_aux.loc[(df_aux['Estudante-Profissionais da Escola'] > 2.66) & (df_aux['Estudante-Profissionais da Escola'] <= 3.66)])\n",
    "E_PROF_alto = len(df_aux.loc[df_aux['Estudante-Profissionais da Escola'] > 3.66])\n",
    "E_PROF_total = df_dimensao.loc[df_dimensao['dimensao']=='Estudante-Profissionais da Escola',['quantidade']].sum()[0]\n",
    "\n",
    "\n",
    "E_FAM_baixo = len(df_aux.loc[df_aux['Estudante-Familia'] <= 3.33])\n",
    "E_FAM_medio = len(df_aux.loc[(df_aux['Estudante-Familia'] > 3.33) & (df_aux['Estudante-Familia'] <= 4.33)])\n",
    "E_FAM_alto = len(df_aux.loc[df_aux['Estudante-Familia'] > 4.33])\n",
    "E_FAM_total = df_dimensao.loc[df_dimensao['dimensao']=='Estudante-Familia',['quantidade']].sum()[0]\n",
    "\n",
    "\n",
    "E_COM_baixo = len(df_aux.loc[df_aux['Estudante-Comunidade'] <= 2.44])\n",
    "E_COM_medio = len(df_aux.loc[(df_aux['Estudante-Comunidade'] > 2.44) & (df_aux['Estudante-Comunidade'] <= 3.55)])\n",
    "E_COM_alto = len(df_aux.loc[df_aux['Estudante-Comunidade'] > 3.55])\n",
    "E_COM_total = df_dimensao.loc[df_dimensao['dimensao']=='Estudante-Comunidade',['quantidade']].sum()[0]\n",
    "\n",
    "\n",
    "E_EST_baixo = len(df_aux.loc[df_aux['Estudante-Estudante'] <= 2.44])\n",
    "E_EST_medio = len(df_aux.loc[(df_aux['Estudante-Estudante'] > 2.44) & (df_aux['Estudante-Estudante'] <= 3.41)])\n",
    "E_EST_alto = len(df_aux.loc[df_aux['Estudante-Estudante'] > 3.41])\n",
    "E_EST_total = df_dimensao.loc[df_dimensao['dimensao']=='Estudante-Estudante',['quantidade']].sum()[0]\n",
    "\n",
    "data =[['Estudante-Escola','baixo',E_ESC_baixo,E_ESC_baixo/E_ESC_total],\n",
    "       ['Estudante-Escola','medio',E_ESC_medio,E_ESC_medio/E_ESC_total],\n",
    "       ['Estudante-Escola','alto',E_ESC_alto,E_ESC_alto/E_ESC_total],\n",
    "       \n",
    "       ['Estudante-Profissionais da Escola','baixo',E_PROF_baixo,E_PROF_baixo/E_PROF_total],\n",
    "       ['Estudante-Profissionais da Escola','medio',E_PROF_medio,E_PROF_medio/E_PROF_total],\n",
    "       ['Estudante-Profissionais da Escola','alto',E_PROF_alto,E_PROF_alto/E_PROF_total],\n",
    "       \n",
    "       ['Estudante-Familia','baixo',E_FAM_baixo,E_FAM_baixo/E_FAM_total],\n",
    "       ['Estudante-Familia','medio',E_FAM_medio,E_FAM_medio/E_FAM_total],\n",
    "       ['Estudante-Familia','alto',E_FAM_alto,E_FAM_alto/E_FAM_total],\n",
    "       \n",
    "       ['Estudante-Comunidade','baixo',E_COM_baixo,E_COM_baixo/E_COM_total],\n",
    "       ['Estudante-Comunidade','medio',E_COM_medio,E_COM_medio/E_COM_total],\n",
    "       ['Estudante-Comunidade','alto',E_COM_alto,E_COM_alto/E_COM_total],\n",
    "       \n",
    "       ['Estudante-Estudante','baixo',E_EST_baixo,E_EST_baixo/E_EST_total],\n",
    "       ['Estudante-Estudante','medio',E_EST_medio,E_EST_medio/E_EST_total],\n",
    "       ['Estudante-Estudante','alto',E_EST_alto,E_EST_alto/E_EST_total],\n",
    "       \n",
    "      ]\n",
    "df_dimensao = pd.DataFrame(data, columns=['dimensao','nivel', 'quantidade','percentual'])\n",
    "df_dimensao.info()"
   ]
  },
  {
   "cell_type": "code",
   "execution_count": 127,
   "id": "cfc0cf53",
   "metadata": {},
   "outputs": [
    {
     "data": {
      "application/vnd.plotly.v1+json": {
       "config": {
        "plotlyServerURL": "https://plot.ly"
       },
       "data": [
        {
         "alignmentgroup": "True",
         "hovertemplate": "nivel=baixo<br><b>Dimensao</b>=%{x}<br>percentual=%{y}<extra></extra>",
         "legendgroup": "baixo",
         "marker": {
          "color": "red",
          "pattern": {
           "shape": ""
          }
         },
         "name": "baixo",
         "offsetgroup": "baixo",
         "orientation": "v",
         "showlegend": true,
         "textposition": "auto",
         "type": "bar",
         "x": [
          "Estudante-Escola",
          "Estudante-Profissionais da Escola",
          "Estudante-Familia",
          "Estudante-Comunidade",
          "Estudante-Estudante"
         ],
         "xaxis": "x",
         "y": [
          0.9032258064516129,
          0.9193548387096774,
          1,
          0.9193548387096774,
          0.6612903225806451
         ],
         "yaxis": "y"
        },
        {
         "alignmentgroup": "True",
         "hovertemplate": "nivel=medio<br><b>Dimensao</b>=%{x}<br>percentual=%{y}<extra></extra>",
         "legendgroup": "medio",
         "marker": {
          "color": "yellow",
          "pattern": {
           "shape": ""
          }
         },
         "name": "medio",
         "offsetgroup": "medio",
         "orientation": "v",
         "showlegend": true,
         "textposition": "auto",
         "type": "bar",
         "x": [
          "Estudante-Escola",
          "Estudante-Profissionais da Escola",
          "Estudante-Familia",
          "Estudante-Comunidade",
          "Estudante-Estudante"
         ],
         "xaxis": "x",
         "y": [
          0.0967741935483871,
          0.08064516129032258,
          0,
          0.08064516129032258,
          0.3387096774193548
         ],
         "yaxis": "y"
        },
        {
         "alignmentgroup": "True",
         "hovertemplate": "nivel=alto<br><b>Dimensao</b>=%{x}<br>percentual=%{y}<extra></extra>",
         "legendgroup": "alto",
         "marker": {
          "color": "green",
          "pattern": {
           "shape": ""
          }
         },
         "name": "alto",
         "offsetgroup": "alto",
         "orientation": "v",
         "showlegend": true,
         "textposition": "auto",
         "type": "bar",
         "x": [
          "Estudante-Escola",
          "Estudante-Profissionais da Escola",
          "Estudante-Familia",
          "Estudante-Comunidade",
          "Estudante-Estudante"
         ],
         "xaxis": "x",
         "y": [
          0,
          0,
          0,
          0,
          0
         ],
         "yaxis": "y"
        }
       ],
       "layout": {
        "barmode": "relative",
        "legend": {
         "title": {
          "text": "<b>Nível</b>"
         },
         "tracegroupgap": 0
        },
        "template": {
         "data": {
          "bar": [
           {
            "error_x": {
             "color": "#2a3f5f"
            },
            "error_y": {
             "color": "#2a3f5f"
            },
            "marker": {
             "line": {
              "color": "#E5ECF6",
              "width": 0.5
             },
             "pattern": {
              "fillmode": "overlay",
              "size": 10,
              "solidity": 0.2
             }
            },
            "type": "bar"
           }
          ],
          "barpolar": [
           {
            "marker": {
             "line": {
              "color": "#E5ECF6",
              "width": 0.5
             },
             "pattern": {
              "fillmode": "overlay",
              "size": 10,
              "solidity": 0.2
             }
            },
            "type": "barpolar"
           }
          ],
          "carpet": [
           {
            "aaxis": {
             "endlinecolor": "#2a3f5f",
             "gridcolor": "white",
             "linecolor": "white",
             "minorgridcolor": "white",
             "startlinecolor": "#2a3f5f"
            },
            "baxis": {
             "endlinecolor": "#2a3f5f",
             "gridcolor": "white",
             "linecolor": "white",
             "minorgridcolor": "white",
             "startlinecolor": "#2a3f5f"
            },
            "type": "carpet"
           }
          ],
          "choropleth": [
           {
            "colorbar": {
             "outlinewidth": 0,
             "ticks": ""
            },
            "type": "choropleth"
           }
          ],
          "contour": [
           {
            "colorbar": {
             "outlinewidth": 0,
             "ticks": ""
            },
            "colorscale": [
             [
              0,
              "#0d0887"
             ],
             [
              0.1111111111111111,
              "#46039f"
             ],
             [
              0.2222222222222222,
              "#7201a8"
             ],
             [
              0.3333333333333333,
              "#9c179e"
             ],
             [
              0.4444444444444444,
              "#bd3786"
             ],
             [
              0.5555555555555556,
              "#d8576b"
             ],
             [
              0.6666666666666666,
              "#ed7953"
             ],
             [
              0.7777777777777778,
              "#fb9f3a"
             ],
             [
              0.8888888888888888,
              "#fdca26"
             ],
             [
              1,
              "#f0f921"
             ]
            ],
            "type": "contour"
           }
          ],
          "contourcarpet": [
           {
            "colorbar": {
             "outlinewidth": 0,
             "ticks": ""
            },
            "type": "contourcarpet"
           }
          ],
          "heatmap": [
           {
            "colorbar": {
             "outlinewidth": 0,
             "ticks": ""
            },
            "colorscale": [
             [
              0,
              "#0d0887"
             ],
             [
              0.1111111111111111,
              "#46039f"
             ],
             [
              0.2222222222222222,
              "#7201a8"
             ],
             [
              0.3333333333333333,
              "#9c179e"
             ],
             [
              0.4444444444444444,
              "#bd3786"
             ],
             [
              0.5555555555555556,
              "#d8576b"
             ],
             [
              0.6666666666666666,
              "#ed7953"
             ],
             [
              0.7777777777777778,
              "#fb9f3a"
             ],
             [
              0.8888888888888888,
              "#fdca26"
             ],
             [
              1,
              "#f0f921"
             ]
            ],
            "type": "heatmap"
           }
          ],
          "heatmapgl": [
           {
            "colorbar": {
             "outlinewidth": 0,
             "ticks": ""
            },
            "colorscale": [
             [
              0,
              "#0d0887"
             ],
             [
              0.1111111111111111,
              "#46039f"
             ],
             [
              0.2222222222222222,
              "#7201a8"
             ],
             [
              0.3333333333333333,
              "#9c179e"
             ],
             [
              0.4444444444444444,
              "#bd3786"
             ],
             [
              0.5555555555555556,
              "#d8576b"
             ],
             [
              0.6666666666666666,
              "#ed7953"
             ],
             [
              0.7777777777777778,
              "#fb9f3a"
             ],
             [
              0.8888888888888888,
              "#fdca26"
             ],
             [
              1,
              "#f0f921"
             ]
            ],
            "type": "heatmapgl"
           }
          ],
          "histogram": [
           {
            "marker": {
             "pattern": {
              "fillmode": "overlay",
              "size": 10,
              "solidity": 0.2
             }
            },
            "type": "histogram"
           }
          ],
          "histogram2d": [
           {
            "colorbar": {
             "outlinewidth": 0,
             "ticks": ""
            },
            "colorscale": [
             [
              0,
              "#0d0887"
             ],
             [
              0.1111111111111111,
              "#46039f"
             ],
             [
              0.2222222222222222,
              "#7201a8"
             ],
             [
              0.3333333333333333,
              "#9c179e"
             ],
             [
              0.4444444444444444,
              "#bd3786"
             ],
             [
              0.5555555555555556,
              "#d8576b"
             ],
             [
              0.6666666666666666,
              "#ed7953"
             ],
             [
              0.7777777777777778,
              "#fb9f3a"
             ],
             [
              0.8888888888888888,
              "#fdca26"
             ],
             [
              1,
              "#f0f921"
             ]
            ],
            "type": "histogram2d"
           }
          ],
          "histogram2dcontour": [
           {
            "colorbar": {
             "outlinewidth": 0,
             "ticks": ""
            },
            "colorscale": [
             [
              0,
              "#0d0887"
             ],
             [
              0.1111111111111111,
              "#46039f"
             ],
             [
              0.2222222222222222,
              "#7201a8"
             ],
             [
              0.3333333333333333,
              "#9c179e"
             ],
             [
              0.4444444444444444,
              "#bd3786"
             ],
             [
              0.5555555555555556,
              "#d8576b"
             ],
             [
              0.6666666666666666,
              "#ed7953"
             ],
             [
              0.7777777777777778,
              "#fb9f3a"
             ],
             [
              0.8888888888888888,
              "#fdca26"
             ],
             [
              1,
              "#f0f921"
             ]
            ],
            "type": "histogram2dcontour"
           }
          ],
          "mesh3d": [
           {
            "colorbar": {
             "outlinewidth": 0,
             "ticks": ""
            },
            "type": "mesh3d"
           }
          ],
          "parcoords": [
           {
            "line": {
             "colorbar": {
              "outlinewidth": 0,
              "ticks": ""
             }
            },
            "type": "parcoords"
           }
          ],
          "pie": [
           {
            "automargin": true,
            "type": "pie"
           }
          ],
          "scatter": [
           {
            "marker": {
             "colorbar": {
              "outlinewidth": 0,
              "ticks": ""
             }
            },
            "type": "scatter"
           }
          ],
          "scatter3d": [
           {
            "line": {
             "colorbar": {
              "outlinewidth": 0,
              "ticks": ""
             }
            },
            "marker": {
             "colorbar": {
              "outlinewidth": 0,
              "ticks": ""
             }
            },
            "type": "scatter3d"
           }
          ],
          "scattercarpet": [
           {
            "marker": {
             "colorbar": {
              "outlinewidth": 0,
              "ticks": ""
             }
            },
            "type": "scattercarpet"
           }
          ],
          "scattergeo": [
           {
            "marker": {
             "colorbar": {
              "outlinewidth": 0,
              "ticks": ""
             }
            },
            "type": "scattergeo"
           }
          ],
          "scattergl": [
           {
            "marker": {
             "colorbar": {
              "outlinewidth": 0,
              "ticks": ""
             }
            },
            "type": "scattergl"
           }
          ],
          "scattermapbox": [
           {
            "marker": {
             "colorbar": {
              "outlinewidth": 0,
              "ticks": ""
             }
            },
            "type": "scattermapbox"
           }
          ],
          "scatterpolar": [
           {
            "marker": {
             "colorbar": {
              "outlinewidth": 0,
              "ticks": ""
             }
            },
            "type": "scatterpolar"
           }
          ],
          "scatterpolargl": [
           {
            "marker": {
             "colorbar": {
              "outlinewidth": 0,
              "ticks": ""
             }
            },
            "type": "scatterpolargl"
           }
          ],
          "scatterternary": [
           {
            "marker": {
             "colorbar": {
              "outlinewidth": 0,
              "ticks": ""
             }
            },
            "type": "scatterternary"
           }
          ],
          "surface": [
           {
            "colorbar": {
             "outlinewidth": 0,
             "ticks": ""
            },
            "colorscale": [
             [
              0,
              "#0d0887"
             ],
             [
              0.1111111111111111,
              "#46039f"
             ],
             [
              0.2222222222222222,
              "#7201a8"
             ],
             [
              0.3333333333333333,
              "#9c179e"
             ],
             [
              0.4444444444444444,
              "#bd3786"
             ],
             [
              0.5555555555555556,
              "#d8576b"
             ],
             [
              0.6666666666666666,
              "#ed7953"
             ],
             [
              0.7777777777777778,
              "#fb9f3a"
             ],
             [
              0.8888888888888888,
              "#fdca26"
             ],
             [
              1,
              "#f0f921"
             ]
            ],
            "type": "surface"
           }
          ],
          "table": [
           {
            "cells": {
             "fill": {
              "color": "#EBF0F8"
             },
             "line": {
              "color": "white"
             }
            },
            "header": {
             "fill": {
              "color": "#C8D4E3"
             },
             "line": {
              "color": "white"
             }
            },
            "type": "table"
           }
          ]
         },
         "layout": {
          "annotationdefaults": {
           "arrowcolor": "#2a3f5f",
           "arrowhead": 0,
           "arrowwidth": 1
          },
          "autotypenumbers": "strict",
          "coloraxis": {
           "colorbar": {
            "outlinewidth": 0,
            "ticks": ""
           }
          },
          "colorscale": {
           "diverging": [
            [
             0,
             "#8e0152"
            ],
            [
             0.1,
             "#c51b7d"
            ],
            [
             0.2,
             "#de77ae"
            ],
            [
             0.3,
             "#f1b6da"
            ],
            [
             0.4,
             "#fde0ef"
            ],
            [
             0.5,
             "#f7f7f7"
            ],
            [
             0.6,
             "#e6f5d0"
            ],
            [
             0.7,
             "#b8e186"
            ],
            [
             0.8,
             "#7fbc41"
            ],
            [
             0.9,
             "#4d9221"
            ],
            [
             1,
             "#276419"
            ]
           ],
           "sequential": [
            [
             0,
             "#0d0887"
            ],
            [
             0.1111111111111111,
             "#46039f"
            ],
            [
             0.2222222222222222,
             "#7201a8"
            ],
            [
             0.3333333333333333,
             "#9c179e"
            ],
            [
             0.4444444444444444,
             "#bd3786"
            ],
            [
             0.5555555555555556,
             "#d8576b"
            ],
            [
             0.6666666666666666,
             "#ed7953"
            ],
            [
             0.7777777777777778,
             "#fb9f3a"
            ],
            [
             0.8888888888888888,
             "#fdca26"
            ],
            [
             1,
             "#f0f921"
            ]
           ],
           "sequentialminus": [
            [
             0,
             "#0d0887"
            ],
            [
             0.1111111111111111,
             "#46039f"
            ],
            [
             0.2222222222222222,
             "#7201a8"
            ],
            [
             0.3333333333333333,
             "#9c179e"
            ],
            [
             0.4444444444444444,
             "#bd3786"
            ],
            [
             0.5555555555555556,
             "#d8576b"
            ],
            [
             0.6666666666666666,
             "#ed7953"
            ],
            [
             0.7777777777777778,
             "#fb9f3a"
            ],
            [
             0.8888888888888888,
             "#fdca26"
            ],
            [
             1,
             "#f0f921"
            ]
           ]
          },
          "colorway": [
           "#636efa",
           "#EF553B",
           "#00cc96",
           "#ab63fa",
           "#FFA15A",
           "#19d3f3",
           "#FF6692",
           "#B6E880",
           "#FF97FF",
           "#FECB52"
          ],
          "font": {
           "color": "#2a3f5f"
          },
          "geo": {
           "bgcolor": "white",
           "lakecolor": "white",
           "landcolor": "#E5ECF6",
           "showlakes": true,
           "showland": true,
           "subunitcolor": "white"
          },
          "hoverlabel": {
           "align": "left"
          },
          "hovermode": "closest",
          "mapbox": {
           "style": "light"
          },
          "paper_bgcolor": "white",
          "plot_bgcolor": "#E5ECF6",
          "polar": {
           "angularaxis": {
            "gridcolor": "white",
            "linecolor": "white",
            "ticks": ""
           },
           "bgcolor": "#E5ECF6",
           "radialaxis": {
            "gridcolor": "white",
            "linecolor": "white",
            "ticks": ""
           }
          },
          "scene": {
           "xaxis": {
            "backgroundcolor": "#E5ECF6",
            "gridcolor": "white",
            "gridwidth": 2,
            "linecolor": "white",
            "showbackground": true,
            "ticks": "",
            "zerolinecolor": "white"
           },
           "yaxis": {
            "backgroundcolor": "#E5ECF6",
            "gridcolor": "white",
            "gridwidth": 2,
            "linecolor": "white",
            "showbackground": true,
            "ticks": "",
            "zerolinecolor": "white"
           },
           "zaxis": {
            "backgroundcolor": "#E5ECF6",
            "gridcolor": "white",
            "gridwidth": 2,
            "linecolor": "white",
            "showbackground": true,
            "ticks": "",
            "zerolinecolor": "white"
           }
          },
          "shapedefaults": {
           "line": {
            "color": "#2a3f5f"
           }
          },
          "ternary": {
           "aaxis": {
            "gridcolor": "white",
            "linecolor": "white",
            "ticks": ""
           },
           "baxis": {
            "gridcolor": "white",
            "linecolor": "white",
            "ticks": ""
           },
           "bgcolor": "#E5ECF6",
           "caxis": {
            "gridcolor": "white",
            "linecolor": "white",
            "ticks": ""
           }
          },
          "title": {
           "x": 0.05
          },
          "xaxis": {
           "automargin": true,
           "gridcolor": "white",
           "linecolor": "white",
           "ticks": "",
           "title": {
            "standoff": 15
           },
           "zerolinecolor": "white",
           "zerolinewidth": 2
          },
          "yaxis": {
           "automargin": true,
           "gridcolor": "white",
           "linecolor": "white",
           "ticks": "",
           "title": {
            "standoff": 15
           },
           "zerolinecolor": "white",
           "zerolinewidth": 2
          }
         }
        },
        "title": {
         "text": "<b>Dimensoes por Quantidade de Alunos</b>",
         "x": 0.5
        },
        "xaxis": {
         "anchor": "y",
         "domain": [
          0,
          1
         ],
         "title": {
          "text": "<b>Dimensao</b>"
         }
        },
        "yaxis": {
         "anchor": "x",
         "domain": [
          0,
          1
         ],
         "title": {
          "text": "percentual"
         }
        }
       }
      },
      "text/html": [
       "<div>                            <div id=\"5dec7605-8ae0-4250-83c0-866db4d5aad9\" class=\"plotly-graph-div\" style=\"height:525px; width:100%;\"></div>            <script type=\"text/javascript\">                require([\"plotly\"], function(Plotly) {                    window.PLOTLYENV=window.PLOTLYENV || {};                                    if (document.getElementById(\"5dec7605-8ae0-4250-83c0-866db4d5aad9\")) {                    Plotly.newPlot(                        \"5dec7605-8ae0-4250-83c0-866db4d5aad9\",                        [{\"alignmentgroup\":\"True\",\"hovertemplate\":\"nivel=baixo<br><b>Dimensao</b>=%{x}<br>percentual=%{y}<extra></extra>\",\"legendgroup\":\"baixo\",\"marker\":{\"color\":\"red\",\"pattern\":{\"shape\":\"\"}},\"name\":\"baixo\",\"offsetgroup\":\"baixo\",\"orientation\":\"v\",\"showlegend\":true,\"textposition\":\"auto\",\"x\":[\"Estudante-Escola\",\"Estudante-Profissionais da Escola\",\"Estudante-Familia\",\"Estudante-Comunidade\",\"Estudante-Estudante\"],\"xaxis\":\"x\",\"y\":[0.9032258064516129,0.9193548387096774,1.0,0.9193548387096774,0.6612903225806451],\"yaxis\":\"y\",\"type\":\"bar\"},{\"alignmentgroup\":\"True\",\"hovertemplate\":\"nivel=medio<br><b>Dimensao</b>=%{x}<br>percentual=%{y}<extra></extra>\",\"legendgroup\":\"medio\",\"marker\":{\"color\":\"yellow\",\"pattern\":{\"shape\":\"\"}},\"name\":\"medio\",\"offsetgroup\":\"medio\",\"orientation\":\"v\",\"showlegend\":true,\"textposition\":\"auto\",\"x\":[\"Estudante-Escola\",\"Estudante-Profissionais da Escola\",\"Estudante-Familia\",\"Estudante-Comunidade\",\"Estudante-Estudante\"],\"xaxis\":\"x\",\"y\":[0.0967741935483871,0.08064516129032258,0.0,0.08064516129032258,0.3387096774193548],\"yaxis\":\"y\",\"type\":\"bar\"},{\"alignmentgroup\":\"True\",\"hovertemplate\":\"nivel=alto<br><b>Dimensao</b>=%{x}<br>percentual=%{y}<extra></extra>\",\"legendgroup\":\"alto\",\"marker\":{\"color\":\"green\",\"pattern\":{\"shape\":\"\"}},\"name\":\"alto\",\"offsetgroup\":\"alto\",\"orientation\":\"v\",\"showlegend\":true,\"textposition\":\"auto\",\"x\":[\"Estudante-Escola\",\"Estudante-Profissionais da Escola\",\"Estudante-Familia\",\"Estudante-Comunidade\",\"Estudante-Estudante\"],\"xaxis\":\"x\",\"y\":[0.0,0.0,0.0,0.0,0.0],\"yaxis\":\"y\",\"type\":\"bar\"}],                        {\"template\":{\"data\":{\"bar\":[{\"error_x\":{\"color\":\"#2a3f5f\"},\"error_y\":{\"color\":\"#2a3f5f\"},\"marker\":{\"line\":{\"color\":\"#E5ECF6\",\"width\":0.5},\"pattern\":{\"fillmode\":\"overlay\",\"size\":10,\"solidity\":0.2}},\"type\":\"bar\"}],\"barpolar\":[{\"marker\":{\"line\":{\"color\":\"#E5ECF6\",\"width\":0.5},\"pattern\":{\"fillmode\":\"overlay\",\"size\":10,\"solidity\":0.2}},\"type\":\"barpolar\"}],\"carpet\":[{\"aaxis\":{\"endlinecolor\":\"#2a3f5f\",\"gridcolor\":\"white\",\"linecolor\":\"white\",\"minorgridcolor\":\"white\",\"startlinecolor\":\"#2a3f5f\"},\"baxis\":{\"endlinecolor\":\"#2a3f5f\",\"gridcolor\":\"white\",\"linecolor\":\"white\",\"minorgridcolor\":\"white\",\"startlinecolor\":\"#2a3f5f\"},\"type\":\"carpet\"}],\"choropleth\":[{\"colorbar\":{\"outlinewidth\":0,\"ticks\":\"\"},\"type\":\"choropleth\"}],\"contour\":[{\"colorbar\":{\"outlinewidth\":0,\"ticks\":\"\"},\"colorscale\":[[0.0,\"#0d0887\"],[0.1111111111111111,\"#46039f\"],[0.2222222222222222,\"#7201a8\"],[0.3333333333333333,\"#9c179e\"],[0.4444444444444444,\"#bd3786\"],[0.5555555555555556,\"#d8576b\"],[0.6666666666666666,\"#ed7953\"],[0.7777777777777778,\"#fb9f3a\"],[0.8888888888888888,\"#fdca26\"],[1.0,\"#f0f921\"]],\"type\":\"contour\"}],\"contourcarpet\":[{\"colorbar\":{\"outlinewidth\":0,\"ticks\":\"\"},\"type\":\"contourcarpet\"}],\"heatmap\":[{\"colorbar\":{\"outlinewidth\":0,\"ticks\":\"\"},\"colorscale\":[[0.0,\"#0d0887\"],[0.1111111111111111,\"#46039f\"],[0.2222222222222222,\"#7201a8\"],[0.3333333333333333,\"#9c179e\"],[0.4444444444444444,\"#bd3786\"],[0.5555555555555556,\"#d8576b\"],[0.6666666666666666,\"#ed7953\"],[0.7777777777777778,\"#fb9f3a\"],[0.8888888888888888,\"#fdca26\"],[1.0,\"#f0f921\"]],\"type\":\"heatmap\"}],\"heatmapgl\":[{\"colorbar\":{\"outlinewidth\":0,\"ticks\":\"\"},\"colorscale\":[[0.0,\"#0d0887\"],[0.1111111111111111,\"#46039f\"],[0.2222222222222222,\"#7201a8\"],[0.3333333333333333,\"#9c179e\"],[0.4444444444444444,\"#bd3786\"],[0.5555555555555556,\"#d8576b\"],[0.6666666666666666,\"#ed7953\"],[0.7777777777777778,\"#fb9f3a\"],[0.8888888888888888,\"#fdca26\"],[1.0,\"#f0f921\"]],\"type\":\"heatmapgl\"}],\"histogram\":[{\"marker\":{\"pattern\":{\"fillmode\":\"overlay\",\"size\":10,\"solidity\":0.2}},\"type\":\"histogram\"}],\"histogram2d\":[{\"colorbar\":{\"outlinewidth\":0,\"ticks\":\"\"},\"colorscale\":[[0.0,\"#0d0887\"],[0.1111111111111111,\"#46039f\"],[0.2222222222222222,\"#7201a8\"],[0.3333333333333333,\"#9c179e\"],[0.4444444444444444,\"#bd3786\"],[0.5555555555555556,\"#d8576b\"],[0.6666666666666666,\"#ed7953\"],[0.7777777777777778,\"#fb9f3a\"],[0.8888888888888888,\"#fdca26\"],[1.0,\"#f0f921\"]],\"type\":\"histogram2d\"}],\"histogram2dcontour\":[{\"colorbar\":{\"outlinewidth\":0,\"ticks\":\"\"},\"colorscale\":[[0.0,\"#0d0887\"],[0.1111111111111111,\"#46039f\"],[0.2222222222222222,\"#7201a8\"],[0.3333333333333333,\"#9c179e\"],[0.4444444444444444,\"#bd3786\"],[0.5555555555555556,\"#d8576b\"],[0.6666666666666666,\"#ed7953\"],[0.7777777777777778,\"#fb9f3a\"],[0.8888888888888888,\"#fdca26\"],[1.0,\"#f0f921\"]],\"type\":\"histogram2dcontour\"}],\"mesh3d\":[{\"colorbar\":{\"outlinewidth\":0,\"ticks\":\"\"},\"type\":\"mesh3d\"}],\"parcoords\":[{\"line\":{\"colorbar\":{\"outlinewidth\":0,\"ticks\":\"\"}},\"type\":\"parcoords\"}],\"pie\":[{\"automargin\":true,\"type\":\"pie\"}],\"scatter\":[{\"marker\":{\"colorbar\":{\"outlinewidth\":0,\"ticks\":\"\"}},\"type\":\"scatter\"}],\"scatter3d\":[{\"line\":{\"colorbar\":{\"outlinewidth\":0,\"ticks\":\"\"}},\"marker\":{\"colorbar\":{\"outlinewidth\":0,\"ticks\":\"\"}},\"type\":\"scatter3d\"}],\"scattercarpet\":[{\"marker\":{\"colorbar\":{\"outlinewidth\":0,\"ticks\":\"\"}},\"type\":\"scattercarpet\"}],\"scattergeo\":[{\"marker\":{\"colorbar\":{\"outlinewidth\":0,\"ticks\":\"\"}},\"type\":\"scattergeo\"}],\"scattergl\":[{\"marker\":{\"colorbar\":{\"outlinewidth\":0,\"ticks\":\"\"}},\"type\":\"scattergl\"}],\"scattermapbox\":[{\"marker\":{\"colorbar\":{\"outlinewidth\":0,\"ticks\":\"\"}},\"type\":\"scattermapbox\"}],\"scatterpolar\":[{\"marker\":{\"colorbar\":{\"outlinewidth\":0,\"ticks\":\"\"}},\"type\":\"scatterpolar\"}],\"scatterpolargl\":[{\"marker\":{\"colorbar\":{\"outlinewidth\":0,\"ticks\":\"\"}},\"type\":\"scatterpolargl\"}],\"scatterternary\":[{\"marker\":{\"colorbar\":{\"outlinewidth\":0,\"ticks\":\"\"}},\"type\":\"scatterternary\"}],\"surface\":[{\"colorbar\":{\"outlinewidth\":0,\"ticks\":\"\"},\"colorscale\":[[0.0,\"#0d0887\"],[0.1111111111111111,\"#46039f\"],[0.2222222222222222,\"#7201a8\"],[0.3333333333333333,\"#9c179e\"],[0.4444444444444444,\"#bd3786\"],[0.5555555555555556,\"#d8576b\"],[0.6666666666666666,\"#ed7953\"],[0.7777777777777778,\"#fb9f3a\"],[0.8888888888888888,\"#fdca26\"],[1.0,\"#f0f921\"]],\"type\":\"surface\"}],\"table\":[{\"cells\":{\"fill\":{\"color\":\"#EBF0F8\"},\"line\":{\"color\":\"white\"}},\"header\":{\"fill\":{\"color\":\"#C8D4E3\"},\"line\":{\"color\":\"white\"}},\"type\":\"table\"}]},\"layout\":{\"annotationdefaults\":{\"arrowcolor\":\"#2a3f5f\",\"arrowhead\":0,\"arrowwidth\":1},\"autotypenumbers\":\"strict\",\"coloraxis\":{\"colorbar\":{\"outlinewidth\":0,\"ticks\":\"\"}},\"colorscale\":{\"diverging\":[[0,\"#8e0152\"],[0.1,\"#c51b7d\"],[0.2,\"#de77ae\"],[0.3,\"#f1b6da\"],[0.4,\"#fde0ef\"],[0.5,\"#f7f7f7\"],[0.6,\"#e6f5d0\"],[0.7,\"#b8e186\"],[0.8,\"#7fbc41\"],[0.9,\"#4d9221\"],[1,\"#276419\"]],\"sequential\":[[0.0,\"#0d0887\"],[0.1111111111111111,\"#46039f\"],[0.2222222222222222,\"#7201a8\"],[0.3333333333333333,\"#9c179e\"],[0.4444444444444444,\"#bd3786\"],[0.5555555555555556,\"#d8576b\"],[0.6666666666666666,\"#ed7953\"],[0.7777777777777778,\"#fb9f3a\"],[0.8888888888888888,\"#fdca26\"],[1.0,\"#f0f921\"]],\"sequentialminus\":[[0.0,\"#0d0887\"],[0.1111111111111111,\"#46039f\"],[0.2222222222222222,\"#7201a8\"],[0.3333333333333333,\"#9c179e\"],[0.4444444444444444,\"#bd3786\"],[0.5555555555555556,\"#d8576b\"],[0.6666666666666666,\"#ed7953\"],[0.7777777777777778,\"#fb9f3a\"],[0.8888888888888888,\"#fdca26\"],[1.0,\"#f0f921\"]]},\"colorway\":[\"#636efa\",\"#EF553B\",\"#00cc96\",\"#ab63fa\",\"#FFA15A\",\"#19d3f3\",\"#FF6692\",\"#B6E880\",\"#FF97FF\",\"#FECB52\"],\"font\":{\"color\":\"#2a3f5f\"},\"geo\":{\"bgcolor\":\"white\",\"lakecolor\":\"white\",\"landcolor\":\"#E5ECF6\",\"showlakes\":true,\"showland\":true,\"subunitcolor\":\"white\"},\"hoverlabel\":{\"align\":\"left\"},\"hovermode\":\"closest\",\"mapbox\":{\"style\":\"light\"},\"paper_bgcolor\":\"white\",\"plot_bgcolor\":\"#E5ECF6\",\"polar\":{\"angularaxis\":{\"gridcolor\":\"white\",\"linecolor\":\"white\",\"ticks\":\"\"},\"bgcolor\":\"#E5ECF6\",\"radialaxis\":{\"gridcolor\":\"white\",\"linecolor\":\"white\",\"ticks\":\"\"}},\"scene\":{\"xaxis\":{\"backgroundcolor\":\"#E5ECF6\",\"gridcolor\":\"white\",\"gridwidth\":2,\"linecolor\":\"white\",\"showbackground\":true,\"ticks\":\"\",\"zerolinecolor\":\"white\"},\"yaxis\":{\"backgroundcolor\":\"#E5ECF6\",\"gridcolor\":\"white\",\"gridwidth\":2,\"linecolor\":\"white\",\"showbackground\":true,\"ticks\":\"\",\"zerolinecolor\":\"white\"},\"zaxis\":{\"backgroundcolor\":\"#E5ECF6\",\"gridcolor\":\"white\",\"gridwidth\":2,\"linecolor\":\"white\",\"showbackground\":true,\"ticks\":\"\",\"zerolinecolor\":\"white\"}},\"shapedefaults\":{\"line\":{\"color\":\"#2a3f5f\"}},\"ternary\":{\"aaxis\":{\"gridcolor\":\"white\",\"linecolor\":\"white\",\"ticks\":\"\"},\"baxis\":{\"gridcolor\":\"white\",\"linecolor\":\"white\",\"ticks\":\"\"},\"bgcolor\":\"#E5ECF6\",\"caxis\":{\"gridcolor\":\"white\",\"linecolor\":\"white\",\"ticks\":\"\"}},\"title\":{\"x\":0.05},\"xaxis\":{\"automargin\":true,\"gridcolor\":\"white\",\"linecolor\":\"white\",\"ticks\":\"\",\"title\":{\"standoff\":15},\"zerolinecolor\":\"white\",\"zerolinewidth\":2},\"yaxis\":{\"automargin\":true,\"gridcolor\":\"white\",\"linecolor\":\"white\",\"ticks\":\"\",\"title\":{\"standoff\":15},\"zerolinecolor\":\"white\",\"zerolinewidth\":2}}},\"xaxis\":{\"anchor\":\"y\",\"domain\":[0.0,1.0],\"title\":{\"text\":\"<b>Dimensao</b>\"}},\"yaxis\":{\"anchor\":\"x\",\"domain\":[0.0,1.0],\"title\":{\"text\":\"percentual\"}},\"legend\":{\"title\":{\"text\":\"<b>N\\u00edvel</b>\"},\"tracegroupgap\":0},\"title\":{\"text\":\"<b>Dimensoes por Quantidade de Alunos</b>\",\"x\":0.5},\"barmode\":\"relative\"},                        {\"responsive\": true}                    ).then(function(){\n",
       "                            \n",
       "var gd = document.getElementById('5dec7605-8ae0-4250-83c0-866db4d5aad9');\n",
       "var x = new MutationObserver(function (mutations, observer) {{\n",
       "        var display = window.getComputedStyle(gd).display;\n",
       "        if (!display || display === 'none') {{\n",
       "            console.log([gd, 'removed!']);\n",
       "            Plotly.purge(gd);\n",
       "            observer.disconnect();\n",
       "        }}\n",
       "}});\n",
       "\n",
       "// Listen for the removal of the full notebook cells\n",
       "var notebookContainer = gd.closest('#notebook-container');\n",
       "if (notebookContainer) {{\n",
       "    x.observe(notebookContainer, {childList: true});\n",
       "}}\n",
       "\n",
       "// Listen for the clearing of the current output cell\n",
       "var outputEl = gd.closest('.output');\n",
       "if (outputEl) {{\n",
       "    x.observe(outputEl, {childList: true});\n",
       "}}\n",
       "\n",
       "                        })                };                });            </script>        </div>"
      ]
     },
     "metadata": {},
     "output_type": "display_data"
    }
   ],
   "source": [
    "fig = px.bar(df_dimensao, x=\"dimensao\", y=\"percentual\",color=\"nivel\",\n",
    "                 color_discrete_map={'alto': 'green','medio': 'yellow', 'baixo': 'red'}, \n",
    "                 labels={'quantidade':'<b>Quantidade</b>','dimensao':'<b>Dimensao</b>',},\n",
    "                 title=\"<b>Dimensoes por Quantidade de Alunos</b>\")\n",
    "\n",
    "fig.update_layout(\n",
    "        legend_title=\"<b>Nível</b>\",title_x=0.5\n",
    "\n",
    "    )\n",
    "\n",
    "fig.update_traces(showlegend=True)\n",
    "fig.show()"
   ]
  },
  {
   "cell_type": "code",
   "execution_count": 128,
   "id": "31278e99",
   "metadata": {},
   "outputs": [
    {
     "name": "stdout",
     "output_type": "stream",
     "text": [
      "<class 'pandas.core.frame.DataFrame'>\n",
      "RangeIndex: 15 entries, 0 to 14\n",
      "Data columns (total 4 columns):\n",
      " #   Column      Non-Null Count  Dtype  \n",
      "---  ------      --------------  -----  \n",
      " 0   dimensao    15 non-null     object \n",
      " 1   nivel       15 non-null     object \n",
      " 2   quantidade  15 non-null     int64  \n",
      " 3   percentual  15 non-null     float64\n",
      "dtypes: float64(1), int64(1), object(2)\n",
      "memory usage: 608.0+ bytes\n"
     ]
    }
   ],
   "source": [
    "df_dimensao.info()"
   ]
  },
  {
   "cell_type": "code",
   "execution_count": 129,
   "id": "bc176077",
   "metadata": {},
   "outputs": [
    {
     "data": {
      "application/vnd.plotly.v1+json": {
       "config": {
        "plotlyServerURL": "https://plot.ly"
       },
       "data": [
        {
         "alignmentgroup": "True",
         "hovertemplate": "nivel=baixo<br><b>Dimensao</b>=%{x}<br><b>Quantidade</b>=%{y}<extra></extra>",
         "legendgroup": "baixo",
         "marker": {
          "color": "red",
          "pattern": {
           "shape": ""
          }
         },
         "name": "baixo",
         "offsetgroup": "baixo",
         "orientation": "v",
         "showlegend": true,
         "textposition": "auto",
         "type": "bar",
         "x": [
          "Estudante-Escola",
          "Estudante-Profissionais da Escola",
          "Estudante-Familia",
          "Estudante-Comunidade",
          "Estudante-Estudante"
         ],
         "xaxis": "x",
         "y": [
          56,
          57,
          62,
          57,
          41
         ],
         "yaxis": "y"
        },
        {
         "alignmentgroup": "True",
         "hovertemplate": "nivel=medio<br><b>Dimensao</b>=%{x}<br><b>Quantidade</b>=%{y}<extra></extra>",
         "legendgroup": "medio",
         "marker": {
          "color": "yellow",
          "pattern": {
           "shape": ""
          }
         },
         "name": "medio",
         "offsetgroup": "medio",
         "orientation": "v",
         "showlegend": true,
         "textposition": "auto",
         "type": "bar",
         "x": [
          "Estudante-Escola",
          "Estudante-Profissionais da Escola",
          "Estudante-Familia",
          "Estudante-Comunidade",
          "Estudante-Estudante"
         ],
         "xaxis": "x",
         "y": [
          6,
          5,
          0,
          5,
          21
         ],
         "yaxis": "y"
        },
        {
         "alignmentgroup": "True",
         "hovertemplate": "nivel=alto<br><b>Dimensao</b>=%{x}<br><b>Quantidade</b>=%{y}<extra></extra>",
         "legendgroup": "alto",
         "marker": {
          "color": "green",
          "pattern": {
           "shape": ""
          }
         },
         "name": "alto",
         "offsetgroup": "alto",
         "orientation": "v",
         "showlegend": true,
         "textposition": "auto",
         "type": "bar",
         "x": [
          "Estudante-Escola",
          "Estudante-Profissionais da Escola",
          "Estudante-Familia",
          "Estudante-Comunidade",
          "Estudante-Estudante"
         ],
         "xaxis": "x",
         "y": [
          0,
          0,
          0,
          0,
          0
         ],
         "yaxis": "y"
        }
       ],
       "layout": {
        "barmode": "relative",
        "legend": {
         "title": {
          "text": "<b>Nível</b>"
         },
         "tracegroupgap": 0
        },
        "template": {
         "data": {
          "bar": [
           {
            "error_x": {
             "color": "#2a3f5f"
            },
            "error_y": {
             "color": "#2a3f5f"
            },
            "marker": {
             "line": {
              "color": "#E5ECF6",
              "width": 0.5
             },
             "pattern": {
              "fillmode": "overlay",
              "size": 10,
              "solidity": 0.2
             }
            },
            "type": "bar"
           }
          ],
          "barpolar": [
           {
            "marker": {
             "line": {
              "color": "#E5ECF6",
              "width": 0.5
             },
             "pattern": {
              "fillmode": "overlay",
              "size": 10,
              "solidity": 0.2
             }
            },
            "type": "barpolar"
           }
          ],
          "carpet": [
           {
            "aaxis": {
             "endlinecolor": "#2a3f5f",
             "gridcolor": "white",
             "linecolor": "white",
             "minorgridcolor": "white",
             "startlinecolor": "#2a3f5f"
            },
            "baxis": {
             "endlinecolor": "#2a3f5f",
             "gridcolor": "white",
             "linecolor": "white",
             "minorgridcolor": "white",
             "startlinecolor": "#2a3f5f"
            },
            "type": "carpet"
           }
          ],
          "choropleth": [
           {
            "colorbar": {
             "outlinewidth": 0,
             "ticks": ""
            },
            "type": "choropleth"
           }
          ],
          "contour": [
           {
            "colorbar": {
             "outlinewidth": 0,
             "ticks": ""
            },
            "colorscale": [
             [
              0,
              "#0d0887"
             ],
             [
              0.1111111111111111,
              "#46039f"
             ],
             [
              0.2222222222222222,
              "#7201a8"
             ],
             [
              0.3333333333333333,
              "#9c179e"
             ],
             [
              0.4444444444444444,
              "#bd3786"
             ],
             [
              0.5555555555555556,
              "#d8576b"
             ],
             [
              0.6666666666666666,
              "#ed7953"
             ],
             [
              0.7777777777777778,
              "#fb9f3a"
             ],
             [
              0.8888888888888888,
              "#fdca26"
             ],
             [
              1,
              "#f0f921"
             ]
            ],
            "type": "contour"
           }
          ],
          "contourcarpet": [
           {
            "colorbar": {
             "outlinewidth": 0,
             "ticks": ""
            },
            "type": "contourcarpet"
           }
          ],
          "heatmap": [
           {
            "colorbar": {
             "outlinewidth": 0,
             "ticks": ""
            },
            "colorscale": [
             [
              0,
              "#0d0887"
             ],
             [
              0.1111111111111111,
              "#46039f"
             ],
             [
              0.2222222222222222,
              "#7201a8"
             ],
             [
              0.3333333333333333,
              "#9c179e"
             ],
             [
              0.4444444444444444,
              "#bd3786"
             ],
             [
              0.5555555555555556,
              "#d8576b"
             ],
             [
              0.6666666666666666,
              "#ed7953"
             ],
             [
              0.7777777777777778,
              "#fb9f3a"
             ],
             [
              0.8888888888888888,
              "#fdca26"
             ],
             [
              1,
              "#f0f921"
             ]
            ],
            "type": "heatmap"
           }
          ],
          "heatmapgl": [
           {
            "colorbar": {
             "outlinewidth": 0,
             "ticks": ""
            },
            "colorscale": [
             [
              0,
              "#0d0887"
             ],
             [
              0.1111111111111111,
              "#46039f"
             ],
             [
              0.2222222222222222,
              "#7201a8"
             ],
             [
              0.3333333333333333,
              "#9c179e"
             ],
             [
              0.4444444444444444,
              "#bd3786"
             ],
             [
              0.5555555555555556,
              "#d8576b"
             ],
             [
              0.6666666666666666,
              "#ed7953"
             ],
             [
              0.7777777777777778,
              "#fb9f3a"
             ],
             [
              0.8888888888888888,
              "#fdca26"
             ],
             [
              1,
              "#f0f921"
             ]
            ],
            "type": "heatmapgl"
           }
          ],
          "histogram": [
           {
            "marker": {
             "pattern": {
              "fillmode": "overlay",
              "size": 10,
              "solidity": 0.2
             }
            },
            "type": "histogram"
           }
          ],
          "histogram2d": [
           {
            "colorbar": {
             "outlinewidth": 0,
             "ticks": ""
            },
            "colorscale": [
             [
              0,
              "#0d0887"
             ],
             [
              0.1111111111111111,
              "#46039f"
             ],
             [
              0.2222222222222222,
              "#7201a8"
             ],
             [
              0.3333333333333333,
              "#9c179e"
             ],
             [
              0.4444444444444444,
              "#bd3786"
             ],
             [
              0.5555555555555556,
              "#d8576b"
             ],
             [
              0.6666666666666666,
              "#ed7953"
             ],
             [
              0.7777777777777778,
              "#fb9f3a"
             ],
             [
              0.8888888888888888,
              "#fdca26"
             ],
             [
              1,
              "#f0f921"
             ]
            ],
            "type": "histogram2d"
           }
          ],
          "histogram2dcontour": [
           {
            "colorbar": {
             "outlinewidth": 0,
             "ticks": ""
            },
            "colorscale": [
             [
              0,
              "#0d0887"
             ],
             [
              0.1111111111111111,
              "#46039f"
             ],
             [
              0.2222222222222222,
              "#7201a8"
             ],
             [
              0.3333333333333333,
              "#9c179e"
             ],
             [
              0.4444444444444444,
              "#bd3786"
             ],
             [
              0.5555555555555556,
              "#d8576b"
             ],
             [
              0.6666666666666666,
              "#ed7953"
             ],
             [
              0.7777777777777778,
              "#fb9f3a"
             ],
             [
              0.8888888888888888,
              "#fdca26"
             ],
             [
              1,
              "#f0f921"
             ]
            ],
            "type": "histogram2dcontour"
           }
          ],
          "mesh3d": [
           {
            "colorbar": {
             "outlinewidth": 0,
             "ticks": ""
            },
            "type": "mesh3d"
           }
          ],
          "parcoords": [
           {
            "line": {
             "colorbar": {
              "outlinewidth": 0,
              "ticks": ""
             }
            },
            "type": "parcoords"
           }
          ],
          "pie": [
           {
            "automargin": true,
            "type": "pie"
           }
          ],
          "scatter": [
           {
            "marker": {
             "colorbar": {
              "outlinewidth": 0,
              "ticks": ""
             }
            },
            "type": "scatter"
           }
          ],
          "scatter3d": [
           {
            "line": {
             "colorbar": {
              "outlinewidth": 0,
              "ticks": ""
             }
            },
            "marker": {
             "colorbar": {
              "outlinewidth": 0,
              "ticks": ""
             }
            },
            "type": "scatter3d"
           }
          ],
          "scattercarpet": [
           {
            "marker": {
             "colorbar": {
              "outlinewidth": 0,
              "ticks": ""
             }
            },
            "type": "scattercarpet"
           }
          ],
          "scattergeo": [
           {
            "marker": {
             "colorbar": {
              "outlinewidth": 0,
              "ticks": ""
             }
            },
            "type": "scattergeo"
           }
          ],
          "scattergl": [
           {
            "marker": {
             "colorbar": {
              "outlinewidth": 0,
              "ticks": ""
             }
            },
            "type": "scattergl"
           }
          ],
          "scattermapbox": [
           {
            "marker": {
             "colorbar": {
              "outlinewidth": 0,
              "ticks": ""
             }
            },
            "type": "scattermapbox"
           }
          ],
          "scatterpolar": [
           {
            "marker": {
             "colorbar": {
              "outlinewidth": 0,
              "ticks": ""
             }
            },
            "type": "scatterpolar"
           }
          ],
          "scatterpolargl": [
           {
            "marker": {
             "colorbar": {
              "outlinewidth": 0,
              "ticks": ""
             }
            },
            "type": "scatterpolargl"
           }
          ],
          "scatterternary": [
           {
            "marker": {
             "colorbar": {
              "outlinewidth": 0,
              "ticks": ""
             }
            },
            "type": "scatterternary"
           }
          ],
          "surface": [
           {
            "colorbar": {
             "outlinewidth": 0,
             "ticks": ""
            },
            "colorscale": [
             [
              0,
              "#0d0887"
             ],
             [
              0.1111111111111111,
              "#46039f"
             ],
             [
              0.2222222222222222,
              "#7201a8"
             ],
             [
              0.3333333333333333,
              "#9c179e"
             ],
             [
              0.4444444444444444,
              "#bd3786"
             ],
             [
              0.5555555555555556,
              "#d8576b"
             ],
             [
              0.6666666666666666,
              "#ed7953"
             ],
             [
              0.7777777777777778,
              "#fb9f3a"
             ],
             [
              0.8888888888888888,
              "#fdca26"
             ],
             [
              1,
              "#f0f921"
             ]
            ],
            "type": "surface"
           }
          ],
          "table": [
           {
            "cells": {
             "fill": {
              "color": "#EBF0F8"
             },
             "line": {
              "color": "white"
             }
            },
            "header": {
             "fill": {
              "color": "#C8D4E3"
             },
             "line": {
              "color": "white"
             }
            },
            "type": "table"
           }
          ]
         },
         "layout": {
          "annotationdefaults": {
           "arrowcolor": "#2a3f5f",
           "arrowhead": 0,
           "arrowwidth": 1
          },
          "autotypenumbers": "strict",
          "coloraxis": {
           "colorbar": {
            "outlinewidth": 0,
            "ticks": ""
           }
          },
          "colorscale": {
           "diverging": [
            [
             0,
             "#8e0152"
            ],
            [
             0.1,
             "#c51b7d"
            ],
            [
             0.2,
             "#de77ae"
            ],
            [
             0.3,
             "#f1b6da"
            ],
            [
             0.4,
             "#fde0ef"
            ],
            [
             0.5,
             "#f7f7f7"
            ],
            [
             0.6,
             "#e6f5d0"
            ],
            [
             0.7,
             "#b8e186"
            ],
            [
             0.8,
             "#7fbc41"
            ],
            [
             0.9,
             "#4d9221"
            ],
            [
             1,
             "#276419"
            ]
           ],
           "sequential": [
            [
             0,
             "#0d0887"
            ],
            [
             0.1111111111111111,
             "#46039f"
            ],
            [
             0.2222222222222222,
             "#7201a8"
            ],
            [
             0.3333333333333333,
             "#9c179e"
            ],
            [
             0.4444444444444444,
             "#bd3786"
            ],
            [
             0.5555555555555556,
             "#d8576b"
            ],
            [
             0.6666666666666666,
             "#ed7953"
            ],
            [
             0.7777777777777778,
             "#fb9f3a"
            ],
            [
             0.8888888888888888,
             "#fdca26"
            ],
            [
             1,
             "#f0f921"
            ]
           ],
           "sequentialminus": [
            [
             0,
             "#0d0887"
            ],
            [
             0.1111111111111111,
             "#46039f"
            ],
            [
             0.2222222222222222,
             "#7201a8"
            ],
            [
             0.3333333333333333,
             "#9c179e"
            ],
            [
             0.4444444444444444,
             "#bd3786"
            ],
            [
             0.5555555555555556,
             "#d8576b"
            ],
            [
             0.6666666666666666,
             "#ed7953"
            ],
            [
             0.7777777777777778,
             "#fb9f3a"
            ],
            [
             0.8888888888888888,
             "#fdca26"
            ],
            [
             1,
             "#f0f921"
            ]
           ]
          },
          "colorway": [
           "#636efa",
           "#EF553B",
           "#00cc96",
           "#ab63fa",
           "#FFA15A",
           "#19d3f3",
           "#FF6692",
           "#B6E880",
           "#FF97FF",
           "#FECB52"
          ],
          "font": {
           "color": "#2a3f5f"
          },
          "geo": {
           "bgcolor": "white",
           "lakecolor": "white",
           "landcolor": "#E5ECF6",
           "showlakes": true,
           "showland": true,
           "subunitcolor": "white"
          },
          "hoverlabel": {
           "align": "left"
          },
          "hovermode": "closest",
          "mapbox": {
           "style": "light"
          },
          "paper_bgcolor": "white",
          "plot_bgcolor": "#E5ECF6",
          "polar": {
           "angularaxis": {
            "gridcolor": "white",
            "linecolor": "white",
            "ticks": ""
           },
           "bgcolor": "#E5ECF6",
           "radialaxis": {
            "gridcolor": "white",
            "linecolor": "white",
            "ticks": ""
           }
          },
          "scene": {
           "xaxis": {
            "backgroundcolor": "#E5ECF6",
            "gridcolor": "white",
            "gridwidth": 2,
            "linecolor": "white",
            "showbackground": true,
            "ticks": "",
            "zerolinecolor": "white"
           },
           "yaxis": {
            "backgroundcolor": "#E5ECF6",
            "gridcolor": "white",
            "gridwidth": 2,
            "linecolor": "white",
            "showbackground": true,
            "ticks": "",
            "zerolinecolor": "white"
           },
           "zaxis": {
            "backgroundcolor": "#E5ECF6",
            "gridcolor": "white",
            "gridwidth": 2,
            "linecolor": "white",
            "showbackground": true,
            "ticks": "",
            "zerolinecolor": "white"
           }
          },
          "shapedefaults": {
           "line": {
            "color": "#2a3f5f"
           }
          },
          "ternary": {
           "aaxis": {
            "gridcolor": "white",
            "linecolor": "white",
            "ticks": ""
           },
           "baxis": {
            "gridcolor": "white",
            "linecolor": "white",
            "ticks": ""
           },
           "bgcolor": "#E5ECF6",
           "caxis": {
            "gridcolor": "white",
            "linecolor": "white",
            "ticks": ""
           }
          },
          "title": {
           "x": 0.05
          },
          "xaxis": {
           "automargin": true,
           "gridcolor": "white",
           "linecolor": "white",
           "ticks": "",
           "title": {
            "standoff": 15
           },
           "zerolinecolor": "white",
           "zerolinewidth": 2
          },
          "yaxis": {
           "automargin": true,
           "gridcolor": "white",
           "linecolor": "white",
           "ticks": "",
           "title": {
            "standoff": 15
           },
           "zerolinecolor": "white",
           "zerolinewidth": 2
          }
         }
        },
        "title": {
         "text": "<b>Dimensoes por Quantidade de Alunos</b>",
         "x": 0.5
        },
        "xaxis": {
         "anchor": "y",
         "domain": [
          0,
          1
         ],
         "title": {
          "text": "<b>Dimensao</b>"
         }
        },
        "yaxis": {
         "anchor": "x",
         "domain": [
          0,
          1
         ],
         "title": {
          "text": "<b>Quantidade</b>"
         }
        }
       }
      },
      "text/html": [
       "<div>                            <div id=\"8244cb11-1b21-4fcc-98ab-1286effdc423\" class=\"plotly-graph-div\" style=\"height:525px; width:100%;\"></div>            <script type=\"text/javascript\">                require([\"plotly\"], function(Plotly) {                    window.PLOTLYENV=window.PLOTLYENV || {};                                    if (document.getElementById(\"8244cb11-1b21-4fcc-98ab-1286effdc423\")) {                    Plotly.newPlot(                        \"8244cb11-1b21-4fcc-98ab-1286effdc423\",                        [{\"alignmentgroup\":\"True\",\"hovertemplate\":\"nivel=baixo<br><b>Dimensao</b>=%{x}<br><b>Quantidade</b>=%{y}<extra></extra>\",\"legendgroup\":\"baixo\",\"marker\":{\"color\":\"red\",\"pattern\":{\"shape\":\"\"}},\"name\":\"baixo\",\"offsetgroup\":\"baixo\",\"orientation\":\"v\",\"showlegend\":true,\"textposition\":\"auto\",\"x\":[\"Estudante-Escola\",\"Estudante-Profissionais da Escola\",\"Estudante-Familia\",\"Estudante-Comunidade\",\"Estudante-Estudante\"],\"xaxis\":\"x\",\"y\":[56,57,62,57,41],\"yaxis\":\"y\",\"type\":\"bar\"},{\"alignmentgroup\":\"True\",\"hovertemplate\":\"nivel=medio<br><b>Dimensao</b>=%{x}<br><b>Quantidade</b>=%{y}<extra></extra>\",\"legendgroup\":\"medio\",\"marker\":{\"color\":\"yellow\",\"pattern\":{\"shape\":\"\"}},\"name\":\"medio\",\"offsetgroup\":\"medio\",\"orientation\":\"v\",\"showlegend\":true,\"textposition\":\"auto\",\"x\":[\"Estudante-Escola\",\"Estudante-Profissionais da Escola\",\"Estudante-Familia\",\"Estudante-Comunidade\",\"Estudante-Estudante\"],\"xaxis\":\"x\",\"y\":[6,5,0,5,21],\"yaxis\":\"y\",\"type\":\"bar\"},{\"alignmentgroup\":\"True\",\"hovertemplate\":\"nivel=alto<br><b>Dimensao</b>=%{x}<br><b>Quantidade</b>=%{y}<extra></extra>\",\"legendgroup\":\"alto\",\"marker\":{\"color\":\"green\",\"pattern\":{\"shape\":\"\"}},\"name\":\"alto\",\"offsetgroup\":\"alto\",\"orientation\":\"v\",\"showlegend\":true,\"textposition\":\"auto\",\"x\":[\"Estudante-Escola\",\"Estudante-Profissionais da Escola\",\"Estudante-Familia\",\"Estudante-Comunidade\",\"Estudante-Estudante\"],\"xaxis\":\"x\",\"y\":[0,0,0,0,0],\"yaxis\":\"y\",\"type\":\"bar\"}],                        {\"template\":{\"data\":{\"bar\":[{\"error_x\":{\"color\":\"#2a3f5f\"},\"error_y\":{\"color\":\"#2a3f5f\"},\"marker\":{\"line\":{\"color\":\"#E5ECF6\",\"width\":0.5},\"pattern\":{\"fillmode\":\"overlay\",\"size\":10,\"solidity\":0.2}},\"type\":\"bar\"}],\"barpolar\":[{\"marker\":{\"line\":{\"color\":\"#E5ECF6\",\"width\":0.5},\"pattern\":{\"fillmode\":\"overlay\",\"size\":10,\"solidity\":0.2}},\"type\":\"barpolar\"}],\"carpet\":[{\"aaxis\":{\"endlinecolor\":\"#2a3f5f\",\"gridcolor\":\"white\",\"linecolor\":\"white\",\"minorgridcolor\":\"white\",\"startlinecolor\":\"#2a3f5f\"},\"baxis\":{\"endlinecolor\":\"#2a3f5f\",\"gridcolor\":\"white\",\"linecolor\":\"white\",\"minorgridcolor\":\"white\",\"startlinecolor\":\"#2a3f5f\"},\"type\":\"carpet\"}],\"choropleth\":[{\"colorbar\":{\"outlinewidth\":0,\"ticks\":\"\"},\"type\":\"choropleth\"}],\"contour\":[{\"colorbar\":{\"outlinewidth\":0,\"ticks\":\"\"},\"colorscale\":[[0.0,\"#0d0887\"],[0.1111111111111111,\"#46039f\"],[0.2222222222222222,\"#7201a8\"],[0.3333333333333333,\"#9c179e\"],[0.4444444444444444,\"#bd3786\"],[0.5555555555555556,\"#d8576b\"],[0.6666666666666666,\"#ed7953\"],[0.7777777777777778,\"#fb9f3a\"],[0.8888888888888888,\"#fdca26\"],[1.0,\"#f0f921\"]],\"type\":\"contour\"}],\"contourcarpet\":[{\"colorbar\":{\"outlinewidth\":0,\"ticks\":\"\"},\"type\":\"contourcarpet\"}],\"heatmap\":[{\"colorbar\":{\"outlinewidth\":0,\"ticks\":\"\"},\"colorscale\":[[0.0,\"#0d0887\"],[0.1111111111111111,\"#46039f\"],[0.2222222222222222,\"#7201a8\"],[0.3333333333333333,\"#9c179e\"],[0.4444444444444444,\"#bd3786\"],[0.5555555555555556,\"#d8576b\"],[0.6666666666666666,\"#ed7953\"],[0.7777777777777778,\"#fb9f3a\"],[0.8888888888888888,\"#fdca26\"],[1.0,\"#f0f921\"]],\"type\":\"heatmap\"}],\"heatmapgl\":[{\"colorbar\":{\"outlinewidth\":0,\"ticks\":\"\"},\"colorscale\":[[0.0,\"#0d0887\"],[0.1111111111111111,\"#46039f\"],[0.2222222222222222,\"#7201a8\"],[0.3333333333333333,\"#9c179e\"],[0.4444444444444444,\"#bd3786\"],[0.5555555555555556,\"#d8576b\"],[0.6666666666666666,\"#ed7953\"],[0.7777777777777778,\"#fb9f3a\"],[0.8888888888888888,\"#fdca26\"],[1.0,\"#f0f921\"]],\"type\":\"heatmapgl\"}],\"histogram\":[{\"marker\":{\"pattern\":{\"fillmode\":\"overlay\",\"size\":10,\"solidity\":0.2}},\"type\":\"histogram\"}],\"histogram2d\":[{\"colorbar\":{\"outlinewidth\":0,\"ticks\":\"\"},\"colorscale\":[[0.0,\"#0d0887\"],[0.1111111111111111,\"#46039f\"],[0.2222222222222222,\"#7201a8\"],[0.3333333333333333,\"#9c179e\"],[0.4444444444444444,\"#bd3786\"],[0.5555555555555556,\"#d8576b\"],[0.6666666666666666,\"#ed7953\"],[0.7777777777777778,\"#fb9f3a\"],[0.8888888888888888,\"#fdca26\"],[1.0,\"#f0f921\"]],\"type\":\"histogram2d\"}],\"histogram2dcontour\":[{\"colorbar\":{\"outlinewidth\":0,\"ticks\":\"\"},\"colorscale\":[[0.0,\"#0d0887\"],[0.1111111111111111,\"#46039f\"],[0.2222222222222222,\"#7201a8\"],[0.3333333333333333,\"#9c179e\"],[0.4444444444444444,\"#bd3786\"],[0.5555555555555556,\"#d8576b\"],[0.6666666666666666,\"#ed7953\"],[0.7777777777777778,\"#fb9f3a\"],[0.8888888888888888,\"#fdca26\"],[1.0,\"#f0f921\"]],\"type\":\"histogram2dcontour\"}],\"mesh3d\":[{\"colorbar\":{\"outlinewidth\":0,\"ticks\":\"\"},\"type\":\"mesh3d\"}],\"parcoords\":[{\"line\":{\"colorbar\":{\"outlinewidth\":0,\"ticks\":\"\"}},\"type\":\"parcoords\"}],\"pie\":[{\"automargin\":true,\"type\":\"pie\"}],\"scatter\":[{\"marker\":{\"colorbar\":{\"outlinewidth\":0,\"ticks\":\"\"}},\"type\":\"scatter\"}],\"scatter3d\":[{\"line\":{\"colorbar\":{\"outlinewidth\":0,\"ticks\":\"\"}},\"marker\":{\"colorbar\":{\"outlinewidth\":0,\"ticks\":\"\"}},\"type\":\"scatter3d\"}],\"scattercarpet\":[{\"marker\":{\"colorbar\":{\"outlinewidth\":0,\"ticks\":\"\"}},\"type\":\"scattercarpet\"}],\"scattergeo\":[{\"marker\":{\"colorbar\":{\"outlinewidth\":0,\"ticks\":\"\"}},\"type\":\"scattergeo\"}],\"scattergl\":[{\"marker\":{\"colorbar\":{\"outlinewidth\":0,\"ticks\":\"\"}},\"type\":\"scattergl\"}],\"scattermapbox\":[{\"marker\":{\"colorbar\":{\"outlinewidth\":0,\"ticks\":\"\"}},\"type\":\"scattermapbox\"}],\"scatterpolar\":[{\"marker\":{\"colorbar\":{\"outlinewidth\":0,\"ticks\":\"\"}},\"type\":\"scatterpolar\"}],\"scatterpolargl\":[{\"marker\":{\"colorbar\":{\"outlinewidth\":0,\"ticks\":\"\"}},\"type\":\"scatterpolargl\"}],\"scatterternary\":[{\"marker\":{\"colorbar\":{\"outlinewidth\":0,\"ticks\":\"\"}},\"type\":\"scatterternary\"}],\"surface\":[{\"colorbar\":{\"outlinewidth\":0,\"ticks\":\"\"},\"colorscale\":[[0.0,\"#0d0887\"],[0.1111111111111111,\"#46039f\"],[0.2222222222222222,\"#7201a8\"],[0.3333333333333333,\"#9c179e\"],[0.4444444444444444,\"#bd3786\"],[0.5555555555555556,\"#d8576b\"],[0.6666666666666666,\"#ed7953\"],[0.7777777777777778,\"#fb9f3a\"],[0.8888888888888888,\"#fdca26\"],[1.0,\"#f0f921\"]],\"type\":\"surface\"}],\"table\":[{\"cells\":{\"fill\":{\"color\":\"#EBF0F8\"},\"line\":{\"color\":\"white\"}},\"header\":{\"fill\":{\"color\":\"#C8D4E3\"},\"line\":{\"color\":\"white\"}},\"type\":\"table\"}]},\"layout\":{\"annotationdefaults\":{\"arrowcolor\":\"#2a3f5f\",\"arrowhead\":0,\"arrowwidth\":1},\"autotypenumbers\":\"strict\",\"coloraxis\":{\"colorbar\":{\"outlinewidth\":0,\"ticks\":\"\"}},\"colorscale\":{\"diverging\":[[0,\"#8e0152\"],[0.1,\"#c51b7d\"],[0.2,\"#de77ae\"],[0.3,\"#f1b6da\"],[0.4,\"#fde0ef\"],[0.5,\"#f7f7f7\"],[0.6,\"#e6f5d0\"],[0.7,\"#b8e186\"],[0.8,\"#7fbc41\"],[0.9,\"#4d9221\"],[1,\"#276419\"]],\"sequential\":[[0.0,\"#0d0887\"],[0.1111111111111111,\"#46039f\"],[0.2222222222222222,\"#7201a8\"],[0.3333333333333333,\"#9c179e\"],[0.4444444444444444,\"#bd3786\"],[0.5555555555555556,\"#d8576b\"],[0.6666666666666666,\"#ed7953\"],[0.7777777777777778,\"#fb9f3a\"],[0.8888888888888888,\"#fdca26\"],[1.0,\"#f0f921\"]],\"sequentialminus\":[[0.0,\"#0d0887\"],[0.1111111111111111,\"#46039f\"],[0.2222222222222222,\"#7201a8\"],[0.3333333333333333,\"#9c179e\"],[0.4444444444444444,\"#bd3786\"],[0.5555555555555556,\"#d8576b\"],[0.6666666666666666,\"#ed7953\"],[0.7777777777777778,\"#fb9f3a\"],[0.8888888888888888,\"#fdca26\"],[1.0,\"#f0f921\"]]},\"colorway\":[\"#636efa\",\"#EF553B\",\"#00cc96\",\"#ab63fa\",\"#FFA15A\",\"#19d3f3\",\"#FF6692\",\"#B6E880\",\"#FF97FF\",\"#FECB52\"],\"font\":{\"color\":\"#2a3f5f\"},\"geo\":{\"bgcolor\":\"white\",\"lakecolor\":\"white\",\"landcolor\":\"#E5ECF6\",\"showlakes\":true,\"showland\":true,\"subunitcolor\":\"white\"},\"hoverlabel\":{\"align\":\"left\"},\"hovermode\":\"closest\",\"mapbox\":{\"style\":\"light\"},\"paper_bgcolor\":\"white\",\"plot_bgcolor\":\"#E5ECF6\",\"polar\":{\"angularaxis\":{\"gridcolor\":\"white\",\"linecolor\":\"white\",\"ticks\":\"\"},\"bgcolor\":\"#E5ECF6\",\"radialaxis\":{\"gridcolor\":\"white\",\"linecolor\":\"white\",\"ticks\":\"\"}},\"scene\":{\"xaxis\":{\"backgroundcolor\":\"#E5ECF6\",\"gridcolor\":\"white\",\"gridwidth\":2,\"linecolor\":\"white\",\"showbackground\":true,\"ticks\":\"\",\"zerolinecolor\":\"white\"},\"yaxis\":{\"backgroundcolor\":\"#E5ECF6\",\"gridcolor\":\"white\",\"gridwidth\":2,\"linecolor\":\"white\",\"showbackground\":true,\"ticks\":\"\",\"zerolinecolor\":\"white\"},\"zaxis\":{\"backgroundcolor\":\"#E5ECF6\",\"gridcolor\":\"white\",\"gridwidth\":2,\"linecolor\":\"white\",\"showbackground\":true,\"ticks\":\"\",\"zerolinecolor\":\"white\"}},\"shapedefaults\":{\"line\":{\"color\":\"#2a3f5f\"}},\"ternary\":{\"aaxis\":{\"gridcolor\":\"white\",\"linecolor\":\"white\",\"ticks\":\"\"},\"baxis\":{\"gridcolor\":\"white\",\"linecolor\":\"white\",\"ticks\":\"\"},\"bgcolor\":\"#E5ECF6\",\"caxis\":{\"gridcolor\":\"white\",\"linecolor\":\"white\",\"ticks\":\"\"}},\"title\":{\"x\":0.05},\"xaxis\":{\"automargin\":true,\"gridcolor\":\"white\",\"linecolor\":\"white\",\"ticks\":\"\",\"title\":{\"standoff\":15},\"zerolinecolor\":\"white\",\"zerolinewidth\":2},\"yaxis\":{\"automargin\":true,\"gridcolor\":\"white\",\"linecolor\":\"white\",\"ticks\":\"\",\"title\":{\"standoff\":15},\"zerolinecolor\":\"white\",\"zerolinewidth\":2}}},\"xaxis\":{\"anchor\":\"y\",\"domain\":[0.0,1.0],\"title\":{\"text\":\"<b>Dimensao</b>\"}},\"yaxis\":{\"anchor\":\"x\",\"domain\":[0.0,1.0],\"title\":{\"text\":\"<b>Quantidade</b>\"}},\"legend\":{\"title\":{\"text\":\"<b>N\\u00edvel</b>\"},\"tracegroupgap\":0},\"title\":{\"text\":\"<b>Dimensoes por Quantidade de Alunos</b>\",\"x\":0.5},\"barmode\":\"relative\"},                        {\"responsive\": true}                    ).then(function(){\n",
       "                            \n",
       "var gd = document.getElementById('8244cb11-1b21-4fcc-98ab-1286effdc423');\n",
       "var x = new MutationObserver(function (mutations, observer) {{\n",
       "        var display = window.getComputedStyle(gd).display;\n",
       "        if (!display || display === 'none') {{\n",
       "            console.log([gd, 'removed!']);\n",
       "            Plotly.purge(gd);\n",
       "            observer.disconnect();\n",
       "        }}\n",
       "}});\n",
       "\n",
       "// Listen for the removal of the full notebook cells\n",
       "var notebookContainer = gd.closest('#notebook-container');\n",
       "if (notebookContainer) {{\n",
       "    x.observe(notebookContainer, {childList: true});\n",
       "}}\n",
       "\n",
       "// Listen for the clearing of the current output cell\n",
       "var outputEl = gd.closest('.output');\n",
       "if (outputEl) {{\n",
       "    x.observe(outputEl, {childList: true});\n",
       "}}\n",
       "\n",
       "                        })                };                });            </script>        </div>"
      ]
     },
     "metadata": {},
     "output_type": "display_data"
    }
   ],
   "source": [
    "fig = px.bar(df_dimensao, x=\"dimensao\", y=\"quantidade\",color=\"nivel\",\n",
    "                 color_discrete_map={'alto': 'green','medio': 'yellow', 'baixo': 'red'}, \n",
    "                 labels={'quantidade':'<b>Quantidade</b>','dimensao':'<b>Dimensao</b>',},\n",
    "                 title=\"<b>Dimensoes por Quantidade de Alunos</b>\")\n",
    "\n",
    "fig.update_layout(\n",
    "        legend_title=\"<b>Nível</b>\",title_x=0.5\n",
    "\n",
    "    )\n",
    "\n",
    "fig.update_traces(showlegend=True)\n",
    "fig.show()"
   ]
  },
  {
   "cell_type": "code",
   "execution_count": 52,
   "id": "e9b5239e",
   "metadata": {},
   "outputs": [],
   "source": [
    "df = connection(sql_fatores_turma)"
   ]
  },
  {
   "cell_type": "code",
   "execution_count": 94,
   "id": "1546f470",
   "metadata": {},
   "outputs": [
    {
     "name": "stdout",
     "output_type": "stream",
     "text": [
      "<class 'pandas.core.frame.DataFrame'>\n",
      "RangeIndex: 132 entries, 0 to 131\n",
      "Data columns (total 3 columns):\n",
      " #   Column             Non-Null Count  Dtype  \n",
      "---  ------             --------------  -----  \n",
      " 0   aluno              132 non-null    object \n",
      " 1   fatores_dimensões  132 non-null    object \n",
      " 2   value              132 non-null    float64\n",
      "dtypes: float64(1), object(2)\n",
      "memory usage: 3.2+ KB\n"
     ]
    }
   ],
   "source": [
    "df.info()"
   ]
  },
  {
   "cell_type": "code",
   "execution_count": 101,
   "id": "4f75602e",
   "metadata": {},
   "outputs": [
    {
     "data": {
      "text/plain": [
       "{'Acessibilidade e frequência escolar',\n",
       " 'Aspectos Emocionais e Afetivos',\n",
       " 'Aspectos infracionais e violência',\n",
       " 'Condições Materiais da Escola',\n",
       " 'Condições Materiais do Estudante',\n",
       " 'Distanciamento escola – comunidade',\n",
       " 'Gravidez/parentalidade e atividades de cuidado',\n",
       " 'Inflexibilidade Pedagógica',\n",
       " 'Qualidade Pedagógica',\n",
       " 'Reprovações/distorção idade –série',\n",
       " 'Significados da Escolarização/ Engajamento',\n",
       " 'Suporte Familiar'}"
      ]
     },
     "execution_count": 101,
     "metadata": {},
     "output_type": "execute_result"
    }
   ],
   "source": [
    "set(df['fatores_dimensões'])"
   ]
  },
  {
   "cell_type": "code",
   "execution_count": 102,
   "id": "78dcf7b7",
   "metadata": {},
   "outputs": [
    {
     "data": {
      "text/plain": [
       "{'6 C',\n",
       " '6* ANO',\n",
       " '6º ANO B',\n",
       " '7° ANO A',\n",
       " '7° ANO B',\n",
       " '7º ANO A',\n",
       " '8° ANO B',\n",
       " '8º ANO A',\n",
       " '8º ANO B',\n",
       " '9º ANO',\n",
       " '9º ANO A'}"
      ]
     },
     "execution_count": 102,
     "metadata": {},
     "output_type": "execute_result"
    }
   ],
   "source": [
    "set(df['aluno'])"
   ]
  },
  {
   "cell_type": "code",
   "execution_count": 100,
   "id": "bfa0d1eb",
   "metadata": {},
   "outputs": [
    {
     "data": {
      "text/html": [
       "<div>\n",
       "<style scoped>\n",
       "    .dataframe tbody tr th:only-of-type {\n",
       "        vertical-align: middle;\n",
       "    }\n",
       "\n",
       "    .dataframe tbody tr th {\n",
       "        vertical-align: top;\n",
       "    }\n",
       "\n",
       "    .dataframe thead th {\n",
       "        text-align: right;\n",
       "    }\n",
       "</style>\n",
       "<table border=\"1\" class=\"dataframe\">\n",
       "  <thead>\n",
       "    <tr style=\"text-align: right;\">\n",
       "      <th>fatores_dimensões</th>\n",
       "      <th>aluno</th>\n",
       "      <th>Acessibilidade e frequência escolar</th>\n",
       "      <th>Aspectos Emocionais e Afetivos</th>\n",
       "      <th>Aspectos infracionais e violência</th>\n",
       "      <th>Condições Materiais da Escola</th>\n",
       "      <th>Condições Materiais do Estudante</th>\n",
       "      <th>Distanciamento escola – comunidade</th>\n",
       "      <th>Gravidez/parentalidade e atividades de cuidado</th>\n",
       "      <th>Inflexibilidade Pedagógica</th>\n",
       "      <th>Qualidade Pedagógica</th>\n",
       "      <th>Reprovações/distorção idade –série</th>\n",
       "      <th>Significados da Escolarização/ Engajamento</th>\n",
       "      <th>Suporte Familiar</th>\n",
       "    </tr>\n",
       "  </thead>\n",
       "  <tbody>\n",
       "    <tr>\n",
       "      <th>0</th>\n",
       "      <td>6 C</td>\n",
       "      <td>0.00</td>\n",
       "      <td>0.00</td>\n",
       "      <td>0.00</td>\n",
       "      <td>0.00</td>\n",
       "      <td>0.00</td>\n",
       "      <td>0.00</td>\n",
       "      <td>0.00</td>\n",
       "      <td>0.00</td>\n",
       "      <td>0.00</td>\n",
       "      <td>0.00</td>\n",
       "      <td>0.00</td>\n",
       "      <td>0.00</td>\n",
       "    </tr>\n",
       "    <tr>\n",
       "      <th>1</th>\n",
       "      <td>6* ANO</td>\n",
       "      <td>2.00</td>\n",
       "      <td>2.00</td>\n",
       "      <td>3.00</td>\n",
       "      <td>1.00</td>\n",
       "      <td>3.00</td>\n",
       "      <td>2.00</td>\n",
       "      <td>2.00</td>\n",
       "      <td>2.00</td>\n",
       "      <td>1.00</td>\n",
       "      <td>3.00</td>\n",
       "      <td>1.00</td>\n",
       "      <td>3.00</td>\n",
       "    </tr>\n",
       "    <tr>\n",
       "      <th>2</th>\n",
       "      <td>6º ANO B</td>\n",
       "      <td>1.50</td>\n",
       "      <td>1.50</td>\n",
       "      <td>1.00</td>\n",
       "      <td>1.00</td>\n",
       "      <td>1.50</td>\n",
       "      <td>1.00</td>\n",
       "      <td>1.00</td>\n",
       "      <td>1.00</td>\n",
       "      <td>1.00</td>\n",
       "      <td>1.50</td>\n",
       "      <td>2.00</td>\n",
       "      <td>1.00</td>\n",
       "    </tr>\n",
       "    <tr>\n",
       "      <th>3</th>\n",
       "      <td>7° ANO A</td>\n",
       "      <td>1.29</td>\n",
       "      <td>1.57</td>\n",
       "      <td>1.00</td>\n",
       "      <td>1.00</td>\n",
       "      <td>1.43</td>\n",
       "      <td>1.14</td>\n",
       "      <td>1.00</td>\n",
       "      <td>1.14</td>\n",
       "      <td>1.43</td>\n",
       "      <td>1.43</td>\n",
       "      <td>1.86</td>\n",
       "      <td>1.71</td>\n",
       "    </tr>\n",
       "    <tr>\n",
       "      <th>4</th>\n",
       "      <td>7° ANO B</td>\n",
       "      <td>1.64</td>\n",
       "      <td>1.36</td>\n",
       "      <td>0.91</td>\n",
       "      <td>1.45</td>\n",
       "      <td>1.91</td>\n",
       "      <td>1.64</td>\n",
       "      <td>1.36</td>\n",
       "      <td>1.64</td>\n",
       "      <td>1.82</td>\n",
       "      <td>1.82</td>\n",
       "      <td>2.00</td>\n",
       "      <td>1.45</td>\n",
       "    </tr>\n",
       "    <tr>\n",
       "      <th>5</th>\n",
       "      <td>7º ANO A</td>\n",
       "      <td>1.00</td>\n",
       "      <td>1.00</td>\n",
       "      <td>1.33</td>\n",
       "      <td>1.00</td>\n",
       "      <td>2.00</td>\n",
       "      <td>1.00</td>\n",
       "      <td>1.00</td>\n",
       "      <td>1.00</td>\n",
       "      <td>1.00</td>\n",
       "      <td>2.00</td>\n",
       "      <td>1.67</td>\n",
       "      <td>1.00</td>\n",
       "    </tr>\n",
       "    <tr>\n",
       "      <th>6</th>\n",
       "      <td>8° ANO B</td>\n",
       "      <td>1.60</td>\n",
       "      <td>1.60</td>\n",
       "      <td>1.00</td>\n",
       "      <td>1.00</td>\n",
       "      <td>2.60</td>\n",
       "      <td>1.60</td>\n",
       "      <td>1.40</td>\n",
       "      <td>1.40</td>\n",
       "      <td>1.00</td>\n",
       "      <td>1.80</td>\n",
       "      <td>2.20</td>\n",
       "      <td>1.60</td>\n",
       "    </tr>\n",
       "    <tr>\n",
       "      <th>7</th>\n",
       "      <td>8º ANO A</td>\n",
       "      <td>1.83</td>\n",
       "      <td>1.78</td>\n",
       "      <td>0.94</td>\n",
       "      <td>1.28</td>\n",
       "      <td>2.06</td>\n",
       "      <td>1.67</td>\n",
       "      <td>1.39</td>\n",
       "      <td>1.72</td>\n",
       "      <td>1.72</td>\n",
       "      <td>1.89</td>\n",
       "      <td>2.22</td>\n",
       "      <td>1.78</td>\n",
       "    </tr>\n",
       "    <tr>\n",
       "      <th>8</th>\n",
       "      <td>8º ANO B</td>\n",
       "      <td>1.00</td>\n",
       "      <td>1.75</td>\n",
       "      <td>1.00</td>\n",
       "      <td>1.50</td>\n",
       "      <td>2.25</td>\n",
       "      <td>2.00</td>\n",
       "      <td>1.75</td>\n",
       "      <td>1.50</td>\n",
       "      <td>1.25</td>\n",
       "      <td>2.75</td>\n",
       "      <td>2.25</td>\n",
       "      <td>1.25</td>\n",
       "    </tr>\n",
       "    <tr>\n",
       "      <th>9</th>\n",
       "      <td>9º ANO</td>\n",
       "      <td>1.00</td>\n",
       "      <td>1.00</td>\n",
       "      <td>1.00</td>\n",
       "      <td>1.00</td>\n",
       "      <td>1.60</td>\n",
       "      <td>1.60</td>\n",
       "      <td>1.40</td>\n",
       "      <td>1.00</td>\n",
       "      <td>1.00</td>\n",
       "      <td>1.60</td>\n",
       "      <td>2.00</td>\n",
       "      <td>1.00</td>\n",
       "    </tr>\n",
       "    <tr>\n",
       "      <th>10</th>\n",
       "      <td>9º ANO A</td>\n",
       "      <td>2.00</td>\n",
       "      <td>1.80</td>\n",
       "      <td>1.20</td>\n",
       "      <td>1.20</td>\n",
       "      <td>1.80</td>\n",
       "      <td>1.60</td>\n",
       "      <td>1.80</td>\n",
       "      <td>1.60</td>\n",
       "      <td>1.40</td>\n",
       "      <td>1.80</td>\n",
       "      <td>2.40</td>\n",
       "      <td>1.60</td>\n",
       "    </tr>\n",
       "  </tbody>\n",
       "</table>\n",
       "</div>"
      ],
      "text/plain": [
       "fatores_dimensões     aluno  Acessibilidade e frequência escolar  \\\n",
       "0                       6 C                                 0.00   \n",
       "1                    6* ANO                                 2.00   \n",
       "2                  6º ANO B                                 1.50   \n",
       "3                  7° ANO A                                 1.29   \n",
       "4                  7° ANO B                                 1.64   \n",
       "5                  7º ANO A                                 1.00   \n",
       "6                  8° ANO B                                 1.60   \n",
       "7                  8º ANO A                                 1.83   \n",
       "8                  8º ANO B                                 1.00   \n",
       "9                    9º ANO                                 1.00   \n",
       "10                 9º ANO A                                 2.00   \n",
       "\n",
       "fatores_dimensões  Aspectos Emocionais e Afetivos  \\\n",
       "0                                            0.00   \n",
       "1                                            2.00   \n",
       "2                                            1.50   \n",
       "3                                            1.57   \n",
       "4                                            1.36   \n",
       "5                                            1.00   \n",
       "6                                            1.60   \n",
       "7                                            1.78   \n",
       "8                                            1.75   \n",
       "9                                            1.00   \n",
       "10                                           1.80   \n",
       "\n",
       "fatores_dimensões  Aspectos infracionais e violência  \\\n",
       "0                                               0.00   \n",
       "1                                               3.00   \n",
       "2                                               1.00   \n",
       "3                                               1.00   \n",
       "4                                               0.91   \n",
       "5                                               1.33   \n",
       "6                                               1.00   \n",
       "7                                               0.94   \n",
       "8                                               1.00   \n",
       "9                                               1.00   \n",
       "10                                              1.20   \n",
       "\n",
       "fatores_dimensões  Condições Materiais da Escola  \\\n",
       "0                                           0.00   \n",
       "1                                           1.00   \n",
       "2                                           1.00   \n",
       "3                                           1.00   \n",
       "4                                           1.45   \n",
       "5                                           1.00   \n",
       "6                                           1.00   \n",
       "7                                           1.28   \n",
       "8                                           1.50   \n",
       "9                                           1.00   \n",
       "10                                          1.20   \n",
       "\n",
       "fatores_dimensões  Condições Materiais do Estudante  \\\n",
       "0                                              0.00   \n",
       "1                                              3.00   \n",
       "2                                              1.50   \n",
       "3                                              1.43   \n",
       "4                                              1.91   \n",
       "5                                              2.00   \n",
       "6                                              2.60   \n",
       "7                                              2.06   \n",
       "8                                              2.25   \n",
       "9                                              1.60   \n",
       "10                                             1.80   \n",
       "\n",
       "fatores_dimensões  Distanciamento escola – comunidade  \\\n",
       "0                                                0.00   \n",
       "1                                                2.00   \n",
       "2                                                1.00   \n",
       "3                                                1.14   \n",
       "4                                                1.64   \n",
       "5                                                1.00   \n",
       "6                                                1.60   \n",
       "7                                                1.67   \n",
       "8                                                2.00   \n",
       "9                                                1.60   \n",
       "10                                               1.60   \n",
       "\n",
       "fatores_dimensões  Gravidez/parentalidade e atividades de cuidado  \\\n",
       "0                                                            0.00   \n",
       "1                                                            2.00   \n",
       "2                                                            1.00   \n",
       "3                                                            1.00   \n",
       "4                                                            1.36   \n",
       "5                                                            1.00   \n",
       "6                                                            1.40   \n",
       "7                                                            1.39   \n",
       "8                                                            1.75   \n",
       "9                                                            1.40   \n",
       "10                                                           1.80   \n",
       "\n",
       "fatores_dimensões  Inflexibilidade Pedagógica  Qualidade Pedagógica  \\\n",
       "0                                        0.00                  0.00   \n",
       "1                                        2.00                  1.00   \n",
       "2                                        1.00                  1.00   \n",
       "3                                        1.14                  1.43   \n",
       "4                                        1.64                  1.82   \n",
       "5                                        1.00                  1.00   \n",
       "6                                        1.40                  1.00   \n",
       "7                                        1.72                  1.72   \n",
       "8                                        1.50                  1.25   \n",
       "9                                        1.00                  1.00   \n",
       "10                                       1.60                  1.40   \n",
       "\n",
       "fatores_dimensões  Reprovações/distorção idade –série  \\\n",
       "0                                                0.00   \n",
       "1                                                3.00   \n",
       "2                                                1.50   \n",
       "3                                                1.43   \n",
       "4                                                1.82   \n",
       "5                                                2.00   \n",
       "6                                                1.80   \n",
       "7                                                1.89   \n",
       "8                                                2.75   \n",
       "9                                                1.60   \n",
       "10                                               1.80   \n",
       "\n",
       "fatores_dimensões  Significados da Escolarização/ Engajamento  \\\n",
       "0                                                        0.00   \n",
       "1                                                        1.00   \n",
       "2                                                        2.00   \n",
       "3                                                        1.86   \n",
       "4                                                        2.00   \n",
       "5                                                        1.67   \n",
       "6                                                        2.20   \n",
       "7                                                        2.22   \n",
       "8                                                        2.25   \n",
       "9                                                        2.00   \n",
       "10                                                       2.40   \n",
       "\n",
       "fatores_dimensões  Suporte Familiar  \n",
       "0                              0.00  \n",
       "1                              3.00  \n",
       "2                              1.00  \n",
       "3                              1.71  \n",
       "4                              1.45  \n",
       "5                              1.00  \n",
       "6                              1.60  \n",
       "7                              1.78  \n",
       "8                              1.25  \n",
       "9                              1.00  \n",
       "10                             1.60  "
      ]
     },
     "execution_count": 100,
     "metadata": {},
     "output_type": "execute_result"
    }
   ],
   "source": [
    "cross_tab_prop = df.pivot(index='aluno', columns='fatores_dimensões', values='value')\n",
    "\n",
    "cross_tab_prop.reset_index(inplace=True)\n",
    "cross_tab_prop"
   ]
  },
  {
   "cell_type": "code",
   "execution_count": 136,
   "id": "02dac9b9",
   "metadata": {},
   "outputs": [
    {
     "name": "stdout",
     "output_type": "stream",
     "text": [
      "<class 'pandas.core.frame.DataFrame'>\n",
      "RangeIndex: 744 entries, 0 to 743\n",
      "Data columns (total 3 columns):\n",
      " #   Column             Non-Null Count  Dtype \n",
      "---  ------             --------------  ----- \n",
      " 0   aluno              744 non-null    object\n",
      " 1   fatores_dimensões  744 non-null    object\n",
      " 2   value              744 non-null    int64 \n",
      "dtypes: int64(1), object(2)\n",
      "memory usage: 17.6+ KB\n"
     ]
    },
    {
     "data": {
      "text/plain": [
       "{'Acessibilidade e frequência escolar',\n",
       " 'Aspectos Emocionais e Afetivos',\n",
       " 'Aspectos infracionais e violência',\n",
       " 'Condições Materiais da Escola',\n",
       " 'Condições Materiais do Estudante',\n",
       " 'Distanciamento escola – comunidade',\n",
       " 'Gravidez/parentalidade e atividades de cuidado',\n",
       " 'Inflexibilidade Pedagógica',\n",
       " 'Qualidade Pedagógica',\n",
       " 'Reprovações/distorção idade –série',\n",
       " 'Significados da Escolarização/ Engajamento',\n",
       " 'Suporte Familiar'}"
      ]
     },
     "execution_count": 136,
     "metadata": {},
     "output_type": "execute_result"
    }
   ],
   "source": [
    "data_alunos_fatores = pd.read_csv('/home/eltonss/Documents/MEC/data/fatores_alunos.csv');\n",
    "data_alunos_fatores.info()\n",
    "df = data_alunos_fatores\n",
    "set(df['fatores_dimensões'])"
   ]
  },
  {
   "cell_type": "code",
   "execution_count": 137,
   "id": "3432c0d5",
   "metadata": {},
   "outputs": [
    {
     "data": {
      "text/html": [
       "<div>\n",
       "<style scoped>\n",
       "    .dataframe tbody tr th:only-of-type {\n",
       "        vertical-align: middle;\n",
       "    }\n",
       "\n",
       "    .dataframe tbody tr th {\n",
       "        vertical-align: top;\n",
       "    }\n",
       "\n",
       "    .dataframe thead th {\n",
       "        text-align: right;\n",
       "    }\n",
       "</style>\n",
       "<table border=\"1\" class=\"dataframe\">\n",
       "  <thead>\n",
       "    <tr style=\"text-align: right;\">\n",
       "      <th>fatores_dimensões</th>\n",
       "      <th>id_aluno</th>\n",
       "      <th>Acessibilidade e frequência escolar</th>\n",
       "      <th>Aspectos Emocionais e Afetivos</th>\n",
       "      <th>Aspectos infracionais e violência</th>\n",
       "      <th>Condições Materiais da Escola</th>\n",
       "      <th>Condições Materiais do Estudante</th>\n",
       "      <th>Distanciamento escola – comunidade</th>\n",
       "      <th>Gravidez/parentalidade e atividades de cuidado</th>\n",
       "      <th>Inflexibilidade Pedagógica</th>\n",
       "      <th>Qualidade Pedagógica</th>\n",
       "      <th>Reprovações/distorção idade –série</th>\n",
       "      <th>Significados da Escolarização/ Engajamento</th>\n",
       "      <th>Suporte Familiar</th>\n",
       "    </tr>\n",
       "  </thead>\n",
       "  <tbody>\n",
       "    <tr>\n",
       "      <th>0</th>\n",
       "      <td>A14799</td>\n",
       "      <td>0</td>\n",
       "      <td>0</td>\n",
       "      <td>0</td>\n",
       "      <td>0</td>\n",
       "      <td>0</td>\n",
       "      <td>0</td>\n",
       "      <td>0</td>\n",
       "      <td>0</td>\n",
       "      <td>0</td>\n",
       "      <td>0</td>\n",
       "      <td>0</td>\n",
       "      <td>0</td>\n",
       "    </tr>\n",
       "    <tr>\n",
       "      <th>1</th>\n",
       "      <td>A17927</td>\n",
       "      <td>1</td>\n",
       "      <td>2</td>\n",
       "      <td>1</td>\n",
       "      <td>1</td>\n",
       "      <td>1</td>\n",
       "      <td>1</td>\n",
       "      <td>3</td>\n",
       "      <td>1</td>\n",
       "      <td>1</td>\n",
       "      <td>2</td>\n",
       "      <td>2</td>\n",
       "      <td>1</td>\n",
       "    </tr>\n",
       "    <tr>\n",
       "      <th>2</th>\n",
       "      <td>A17936</td>\n",
       "      <td>1</td>\n",
       "      <td>2</td>\n",
       "      <td>1</td>\n",
       "      <td>2</td>\n",
       "      <td>2</td>\n",
       "      <td>2</td>\n",
       "      <td>1</td>\n",
       "      <td>2</td>\n",
       "      <td>1</td>\n",
       "      <td>3</td>\n",
       "      <td>2</td>\n",
       "      <td>1</td>\n",
       "    </tr>\n",
       "    <tr>\n",
       "      <th>3</th>\n",
       "      <td>A17947</td>\n",
       "      <td>1</td>\n",
       "      <td>2</td>\n",
       "      <td>1</td>\n",
       "      <td>2</td>\n",
       "      <td>3</td>\n",
       "      <td>2</td>\n",
       "      <td>1</td>\n",
       "      <td>2</td>\n",
       "      <td>2</td>\n",
       "      <td>3</td>\n",
       "      <td>3</td>\n",
       "      <td>2</td>\n",
       "    </tr>\n",
       "    <tr>\n",
       "      <th>4</th>\n",
       "      <td>A18171</td>\n",
       "      <td>1</td>\n",
       "      <td>1</td>\n",
       "      <td>2</td>\n",
       "      <td>1</td>\n",
       "      <td>2</td>\n",
       "      <td>1</td>\n",
       "      <td>1</td>\n",
       "      <td>1</td>\n",
       "      <td>1</td>\n",
       "      <td>3</td>\n",
       "      <td>2</td>\n",
       "      <td>1</td>\n",
       "    </tr>\n",
       "    <tr>\n",
       "      <th>...</th>\n",
       "      <td>...</td>\n",
       "      <td>...</td>\n",
       "      <td>...</td>\n",
       "      <td>...</td>\n",
       "      <td>...</td>\n",
       "      <td>...</td>\n",
       "      <td>...</td>\n",
       "      <td>...</td>\n",
       "      <td>...</td>\n",
       "      <td>...</td>\n",
       "      <td>...</td>\n",
       "      <td>...</td>\n",
       "      <td>...</td>\n",
       "    </tr>\n",
       "    <tr>\n",
       "      <th>57</th>\n",
       "      <td>A19209</td>\n",
       "      <td>1</td>\n",
       "      <td>1</td>\n",
       "      <td>1</td>\n",
       "      <td>1</td>\n",
       "      <td>2</td>\n",
       "      <td>1</td>\n",
       "      <td>1</td>\n",
       "      <td>1</td>\n",
       "      <td>1</td>\n",
       "      <td>1</td>\n",
       "      <td>2</td>\n",
       "      <td>1</td>\n",
       "    </tr>\n",
       "    <tr>\n",
       "      <th>58</th>\n",
       "      <td>A19210</td>\n",
       "      <td>1</td>\n",
       "      <td>1</td>\n",
       "      <td>1</td>\n",
       "      <td>1</td>\n",
       "      <td>3</td>\n",
       "      <td>1</td>\n",
       "      <td>1</td>\n",
       "      <td>1</td>\n",
       "      <td>1</td>\n",
       "      <td>3</td>\n",
       "      <td>2</td>\n",
       "      <td>1</td>\n",
       "    </tr>\n",
       "    <tr>\n",
       "      <th>59</th>\n",
       "      <td>A19211</td>\n",
       "      <td>2</td>\n",
       "      <td>1</td>\n",
       "      <td>1</td>\n",
       "      <td>1</td>\n",
       "      <td>2</td>\n",
       "      <td>1</td>\n",
       "      <td>1</td>\n",
       "      <td>1</td>\n",
       "      <td>1</td>\n",
       "      <td>1</td>\n",
       "      <td>2</td>\n",
       "      <td>2</td>\n",
       "    </tr>\n",
       "    <tr>\n",
       "      <th>60</th>\n",
       "      <td>A19212</td>\n",
       "      <td>3</td>\n",
       "      <td>2</td>\n",
       "      <td>1</td>\n",
       "      <td>2</td>\n",
       "      <td>2</td>\n",
       "      <td>1</td>\n",
       "      <td>1</td>\n",
       "      <td>2</td>\n",
       "      <td>2</td>\n",
       "      <td>1</td>\n",
       "      <td>3</td>\n",
       "      <td>2</td>\n",
       "    </tr>\n",
       "    <tr>\n",
       "      <th>61</th>\n",
       "      <td>A4734</td>\n",
       "      <td>2</td>\n",
       "      <td>2</td>\n",
       "      <td>3</td>\n",
       "      <td>1</td>\n",
       "      <td>3</td>\n",
       "      <td>2</td>\n",
       "      <td>2</td>\n",
       "      <td>2</td>\n",
       "      <td>1</td>\n",
       "      <td>3</td>\n",
       "      <td>1</td>\n",
       "      <td>3</td>\n",
       "    </tr>\n",
       "  </tbody>\n",
       "</table>\n",
       "<p>62 rows × 13 columns</p>\n",
       "</div>"
      ],
      "text/plain": [
       "fatores_dimensões id_aluno  Acessibilidade e frequência escolar  \\\n",
       "0                   A14799                                    0   \n",
       "1                   A17927                                    1   \n",
       "2                   A17936                                    1   \n",
       "3                   A17947                                    1   \n",
       "4                   A18171                                    1   \n",
       "..                     ...                                  ...   \n",
       "57                  A19209                                    1   \n",
       "58                  A19210                                    1   \n",
       "59                  A19211                                    2   \n",
       "60                  A19212                                    3   \n",
       "61                   A4734                                    2   \n",
       "\n",
       "fatores_dimensões  Aspectos Emocionais e Afetivos  \\\n",
       "0                                               0   \n",
       "1                                               2   \n",
       "2                                               2   \n",
       "3                                               2   \n",
       "4                                               1   \n",
       "..                                            ...   \n",
       "57                                              1   \n",
       "58                                              1   \n",
       "59                                              1   \n",
       "60                                              2   \n",
       "61                                              2   \n",
       "\n",
       "fatores_dimensões  Aspectos infracionais e violência  \\\n",
       "0                                                  0   \n",
       "1                                                  1   \n",
       "2                                                  1   \n",
       "3                                                  1   \n",
       "4                                                  2   \n",
       "..                                               ...   \n",
       "57                                                 1   \n",
       "58                                                 1   \n",
       "59                                                 1   \n",
       "60                                                 1   \n",
       "61                                                 3   \n",
       "\n",
       "fatores_dimensões  Condições Materiais da Escola  \\\n",
       "0                                              0   \n",
       "1                                              1   \n",
       "2                                              2   \n",
       "3                                              2   \n",
       "4                                              1   \n",
       "..                                           ...   \n",
       "57                                             1   \n",
       "58                                             1   \n",
       "59                                             1   \n",
       "60                                             2   \n",
       "61                                             1   \n",
       "\n",
       "fatores_dimensões  Condições Materiais do Estudante  \\\n",
       "0                                                 0   \n",
       "1                                                 1   \n",
       "2                                                 2   \n",
       "3                                                 3   \n",
       "4                                                 2   \n",
       "..                                              ...   \n",
       "57                                                2   \n",
       "58                                                3   \n",
       "59                                                2   \n",
       "60                                                2   \n",
       "61                                                3   \n",
       "\n",
       "fatores_dimensões  Distanciamento escola – comunidade  \\\n",
       "0                                                   0   \n",
       "1                                                   1   \n",
       "2                                                   2   \n",
       "3                                                   2   \n",
       "4                                                   1   \n",
       "..                                                ...   \n",
       "57                                                  1   \n",
       "58                                                  1   \n",
       "59                                                  1   \n",
       "60                                                  1   \n",
       "61                                                  2   \n",
       "\n",
       "fatores_dimensões  Gravidez/parentalidade e atividades de cuidado  \\\n",
       "0                                                               0   \n",
       "1                                                               3   \n",
       "2                                                               1   \n",
       "3                                                               1   \n",
       "4                                                               1   \n",
       "..                                                            ...   \n",
       "57                                                              1   \n",
       "58                                                              1   \n",
       "59                                                              1   \n",
       "60                                                              1   \n",
       "61                                                              2   \n",
       "\n",
       "fatores_dimensões  Inflexibilidade Pedagógica  Qualidade Pedagógica  \\\n",
       "0                                           0                     0   \n",
       "1                                           1                     1   \n",
       "2                                           2                     1   \n",
       "3                                           2                     2   \n",
       "4                                           1                     1   \n",
       "..                                        ...                   ...   \n",
       "57                                          1                     1   \n",
       "58                                          1                     1   \n",
       "59                                          1                     1   \n",
       "60                                          2                     2   \n",
       "61                                          2                     1   \n",
       "\n",
       "fatores_dimensões  Reprovações/distorção idade –série  \\\n",
       "0                                                   0   \n",
       "1                                                   2   \n",
       "2                                                   3   \n",
       "3                                                   3   \n",
       "4                                                   3   \n",
       "..                                                ...   \n",
       "57                                                  1   \n",
       "58                                                  3   \n",
       "59                                                  1   \n",
       "60                                                  1   \n",
       "61                                                  3   \n",
       "\n",
       "fatores_dimensões  Significados da Escolarização/ Engajamento  \\\n",
       "0                                                           0   \n",
       "1                                                           2   \n",
       "2                                                           2   \n",
       "3                                                           3   \n",
       "4                                                           2   \n",
       "..                                                        ...   \n",
       "57                                                          2   \n",
       "58                                                          2   \n",
       "59                                                          2   \n",
       "60                                                          3   \n",
       "61                                                          1   \n",
       "\n",
       "fatores_dimensões  Suporte Familiar  \n",
       "0                                 0  \n",
       "1                                 1  \n",
       "2                                 1  \n",
       "3                                 2  \n",
       "4                                 1  \n",
       "..                              ...  \n",
       "57                                1  \n",
       "58                                1  \n",
       "59                                2  \n",
       "60                                2  \n",
       "61                                3  \n",
       "\n",
       "[62 rows x 13 columns]"
      ]
     },
     "execution_count": 137,
     "metadata": {},
     "output_type": "execute_result"
    }
   ],
   "source": [
    "cross_tab_prop = df.pivot(index='aluno', columns='fatores_dimensões', values='value')\n",
    "\n",
    "cross_tab_prop.reset_index(inplace=True)\n",
    "cross_tab_prop.rename(columns={'aluno': 'id_aluno'}, inplace=True)\n",
    "cross_tab_prop"
   ]
  },
  {
   "cell_type": "code",
   "execution_count": 139,
   "id": "27523881",
   "metadata": {},
   "outputs": [
    {
     "name": "stdout",
     "output_type": "stream",
     "text": [
      "<class 'pandas.core.frame.DataFrame'>\n",
      "Int64Index: 131804 entries, 0 to 131803\n",
      "Data columns (total 44 columns):\n",
      " #   Column                                          Non-Null Count   Dtype  \n",
      "---  ------                                          --------------   -----  \n",
      " 0   id_aluno                                        14076 non-null   float64\n",
      " 1   id_turma                                        14076 non-null   float64\n",
      " 2   cod_matricula                                   9 non-null       float64\n",
      " 3   nome_turma                                      8 non-null       object \n",
      " 4   nome_aluno                                      14076 non-null   object \n",
      " 5   tp_sexo                                         8 non-null       object \n",
      " 6   ano_turma                                       382 non-null     object \n",
      " 7   data_criacao                                    382 non-null     object \n",
      " 8   etapa_ensino                                    360 non-null     object \n",
      " 9   id_escola                                       382 non-null     float64\n",
      " 10  modo_ensino                                     360 non-null     object \n",
      " 11  categoria_administrativa                        131804 non-null  object \n",
      " 12  categoria_escola                                131804 non-null  object \n",
      " 13  cod_estado                                      131804 non-null  int64  \n",
      " 14  cod_regiao                                      131804 non-null  int64  \n",
      " 15  conveniada_poder_publico                        131804 non-null  object \n",
      " 16  dependencia_administrativa                      131804 non-null  object \n",
      " 17  endereco                                        131804 non-null  object \n",
      " 18  escola                                          131804 non-null  object \n",
      " 19  etapas_e_modalidade_ensino                      131804 non-null  object \n",
      " 20  localidade_diferenciada                         131804 non-null  object \n",
      " 21  localizacao                                     131804 non-null  object \n",
      " 22  meso                                            131804 non-null  object \n",
      " 23  micro                                           131804 non-null  object \n",
      " 24  municipio                                       131804 non-null  object \n",
      " 25  outras_ofertas                                  36975 non-null   object \n",
      " 26  porte                                           131804 non-null  object \n",
      " 27  regiao                                          131804 non-null  object \n",
      " 28  regulamentacao_conselho                         131804 non-null  object \n",
      " 29  resticao_de_atendimento                         131804 non-null  object \n",
      " 30  telefone                                        112040 non-null  object \n",
      " 31  uf                                              131804 non-null  object \n",
      " 32  Acessibilidade e frequência escolar             62 non-null      float64\n",
      " 33  Aspectos Emocionais e Afetivos                  62 non-null      float64\n",
      " 34  Aspectos infracionais e violência               62 non-null      float64\n",
      " 35  Condições Materiais da Escola                   62 non-null      float64\n",
      " 36  Condições Materiais do Estudante                62 non-null      float64\n",
      " 37  Distanciamento escola – comunidade              62 non-null      float64\n",
      " 38  Gravidez/parentalidade e atividades de cuidado  62 non-null      float64\n",
      " 39  Inflexibilidade Pedagógica                      62 non-null      float64\n",
      " 40  Qualidade Pedagógica                            62 non-null      float64\n",
      " 41  Reprovações/distorção idade –série              62 non-null      float64\n",
      " 42  Significados da Escolarização/ Engajamento      62 non-null      float64\n",
      " 43  Suporte Familiar                                62 non-null      float64\n",
      "dtypes: float64(16), int64(2), object(26)\n",
      "memory usage: 45.3+ MB\n"
     ]
    }
   ],
   "source": [
    "cols_to_use = cross_tab_prop.columns.difference(data_aluno_turma_escola.columns)\n",
    "#print(cols_to_use)\n",
    "data_aluno_turma_escola_fatores = pd.merge(data_aluno_turma_escola, cross_tab_prop[cols_to_use], \n",
    "                                   left_index=True, right_index=True, how='outer')\n",
    "data_aluno_turma_escola_fatores.info()"
   ]
  },
  {
   "cell_type": "code",
   "execution_count": 154,
   "id": "31096153",
   "metadata": {},
   "outputs": [
    {
     "data": {
      "text/html": [
       "<div>\n",
       "<style scoped>\n",
       "    .dataframe tbody tr th:only-of-type {\n",
       "        vertical-align: middle;\n",
       "    }\n",
       "\n",
       "    .dataframe tbody tr th {\n",
       "        vertical-align: top;\n",
       "    }\n",
       "\n",
       "    .dataframe thead th {\n",
       "        text-align: right;\n",
       "    }\n",
       "</style>\n",
       "<table border=\"1\" class=\"dataframe\">\n",
       "  <thead>\n",
       "    <tr style=\"text-align: right;\">\n",
       "      <th></th>\n",
       "      <th>fator</th>\n",
       "      <th>nivel</th>\n",
       "      <th>quantidade</th>\n",
       "      <th>percentual</th>\n",
       "    </tr>\n",
       "  </thead>\n",
       "  <tbody>\n",
       "    <tr>\n",
       "      <th>0</th>\n",
       "      <td>Condições Materiais da Escola</td>\n",
       "      <td>baixo</td>\n",
       "      <td>62</td>\n",
       "      <td>1.000000</td>\n",
       "    </tr>\n",
       "    <tr>\n",
       "      <th>1</th>\n",
       "      <td>Condições Materiais da Escola</td>\n",
       "      <td>medio</td>\n",
       "      <td>0</td>\n",
       "      <td>0.000000</td>\n",
       "    </tr>\n",
       "    <tr>\n",
       "      <th>2</th>\n",
       "      <td>Condições Materiais da Escola</td>\n",
       "      <td>alto</td>\n",
       "      <td>0</td>\n",
       "      <td>0.000000</td>\n",
       "    </tr>\n",
       "    <tr>\n",
       "      <th>3</th>\n",
       "      <td>Condições Materiais do Estudante</td>\n",
       "      <td>baixo</td>\n",
       "      <td>40</td>\n",
       "      <td>0.645161</td>\n",
       "    </tr>\n",
       "    <tr>\n",
       "      <th>4</th>\n",
       "      <td>Condições Materiais do Estudante</td>\n",
       "      <td>medio</td>\n",
       "      <td>22</td>\n",
       "      <td>0.354839</td>\n",
       "    </tr>\n",
       "    <tr>\n",
       "      <th>5</th>\n",
       "      <td>Condições Materiais do Estudante</td>\n",
       "      <td>alto</td>\n",
       "      <td>0</td>\n",
       "      <td>0.000000</td>\n",
       "    </tr>\n",
       "    <tr>\n",
       "      <th>6</th>\n",
       "      <td>Inflexibilidade Pedagógica</td>\n",
       "      <td>baixo</td>\n",
       "      <td>58</td>\n",
       "      <td>0.935484</td>\n",
       "    </tr>\n",
       "    <tr>\n",
       "      <th>7</th>\n",
       "      <td>Inflexibilidade Pedagógica</td>\n",
       "      <td>medio</td>\n",
       "      <td>4</td>\n",
       "      <td>0.064516</td>\n",
       "    </tr>\n",
       "    <tr>\n",
       "      <th>8</th>\n",
       "      <td>Inflexibilidade Pedagógica</td>\n",
       "      <td>alto</td>\n",
       "      <td>0</td>\n",
       "      <td>0.000000</td>\n",
       "    </tr>\n",
       "    <tr>\n",
       "      <th>9</th>\n",
       "      <td>Qualidade Pedagógica</td>\n",
       "      <td>baixo</td>\n",
       "      <td>59</td>\n",
       "      <td>0.951613</td>\n",
       "    </tr>\n",
       "    <tr>\n",
       "      <th>10</th>\n",
       "      <td>Qualidade Pedagógica</td>\n",
       "      <td>medio</td>\n",
       "      <td>3</td>\n",
       "      <td>0.048387</td>\n",
       "    </tr>\n",
       "    <tr>\n",
       "      <th>11</th>\n",
       "      <td>Qualidade Pedagógica</td>\n",
       "      <td>alto</td>\n",
       "      <td>0</td>\n",
       "      <td>0.000000</td>\n",
       "    </tr>\n",
       "    <tr>\n",
       "      <th>12</th>\n",
       "      <td>Suporte Familiar</td>\n",
       "      <td>baixo</td>\n",
       "      <td>62</td>\n",
       "      <td>1.000000</td>\n",
       "    </tr>\n",
       "    <tr>\n",
       "      <th>13</th>\n",
       "      <td>Suporte Familiar</td>\n",
       "      <td>medio</td>\n",
       "      <td>0</td>\n",
       "      <td>0.000000</td>\n",
       "    </tr>\n",
       "    <tr>\n",
       "      <th>14</th>\n",
       "      <td>Suporte Familiar</td>\n",
       "      <td>alto</td>\n",
       "      <td>0</td>\n",
       "      <td>0.000000</td>\n",
       "    </tr>\n",
       "    <tr>\n",
       "      <th>15</th>\n",
       "      <td>Gravidez/parentalidade e atividades de cuidado</td>\n",
       "      <td>baixo</td>\n",
       "      <td>62</td>\n",
       "      <td>1.000000</td>\n",
       "    </tr>\n",
       "    <tr>\n",
       "      <th>16</th>\n",
       "      <td>Gravidez/parentalidade e atividades de cuidado</td>\n",
       "      <td>medio</td>\n",
       "      <td>0</td>\n",
       "      <td>0.000000</td>\n",
       "    </tr>\n",
       "    <tr>\n",
       "      <th>17</th>\n",
       "      <td>Gravidez/parentalidade e atividades de cuidado</td>\n",
       "      <td>alto</td>\n",
       "      <td>0</td>\n",
       "      <td>0.000000</td>\n",
       "    </tr>\n",
       "    <tr>\n",
       "      <th>18</th>\n",
       "      <td>Aspectos infracionais e violência</td>\n",
       "      <td>baixo</td>\n",
       "      <td>61</td>\n",
       "      <td>0.983871</td>\n",
       "    </tr>\n",
       "    <tr>\n",
       "      <th>19</th>\n",
       "      <td>Aspectos infracionais e violência</td>\n",
       "      <td>medio</td>\n",
       "      <td>1</td>\n",
       "      <td>0.016129</td>\n",
       "    </tr>\n",
       "    <tr>\n",
       "      <th>20</th>\n",
       "      <td>Aspectos infracionais e violência</td>\n",
       "      <td>alto</td>\n",
       "      <td>0</td>\n",
       "      <td>0.000000</td>\n",
       "    </tr>\n",
       "    <tr>\n",
       "      <th>21</th>\n",
       "      <td>Distanciamento escola – comunidade</td>\n",
       "      <td>baixo</td>\n",
       "      <td>51</td>\n",
       "      <td>0.822581</td>\n",
       "    </tr>\n",
       "    <tr>\n",
       "      <th>22</th>\n",
       "      <td>Distanciamento escola – comunidade</td>\n",
       "      <td>medio</td>\n",
       "      <td>11</td>\n",
       "      <td>0.177419</td>\n",
       "    </tr>\n",
       "    <tr>\n",
       "      <th>23</th>\n",
       "      <td>Distanciamento escola – comunidade</td>\n",
       "      <td>alto</td>\n",
       "      <td>0</td>\n",
       "      <td>0.000000</td>\n",
       "    </tr>\n",
       "    <tr>\n",
       "      <th>24</th>\n",
       "      <td>Acessibilidade e frequência escolar</td>\n",
       "      <td>baixo</td>\n",
       "      <td>51</td>\n",
       "      <td>0.822581</td>\n",
       "    </tr>\n",
       "    <tr>\n",
       "      <th>25</th>\n",
       "      <td>Acessibilidade e frequência escolar</td>\n",
       "      <td>medio</td>\n",
       "      <td>11</td>\n",
       "      <td>0.177419</td>\n",
       "    </tr>\n",
       "    <tr>\n",
       "      <th>26</th>\n",
       "      <td>Acessibilidade e frequência escolar</td>\n",
       "      <td>alto</td>\n",
       "      <td>0</td>\n",
       "      <td>0.000000</td>\n",
       "    </tr>\n",
       "    <tr>\n",
       "      <th>27</th>\n",
       "      <td>Significados da Escolarização/ Engajamento</td>\n",
       "      <td>baixo</td>\n",
       "      <td>50</td>\n",
       "      <td>0.806452</td>\n",
       "    </tr>\n",
       "    <tr>\n",
       "      <th>28</th>\n",
       "      <td>Significados da Escolarização/ Engajamento</td>\n",
       "      <td>medio</td>\n",
       "      <td>12</td>\n",
       "      <td>0.193548</td>\n",
       "    </tr>\n",
       "    <tr>\n",
       "      <th>29</th>\n",
       "      <td>Significados da Escolarização/ Engajamento</td>\n",
       "      <td>alto</td>\n",
       "      <td>0</td>\n",
       "      <td>0.000000</td>\n",
       "    </tr>\n",
       "    <tr>\n",
       "      <th>30</th>\n",
       "      <td>Aspectos Emocionais e Afetivos</td>\n",
       "      <td>baixo</td>\n",
       "      <td>56</td>\n",
       "      <td>0.903226</td>\n",
       "    </tr>\n",
       "    <tr>\n",
       "      <th>31</th>\n",
       "      <td>Aspectos Emocionais e Afetivos</td>\n",
       "      <td>medio</td>\n",
       "      <td>6</td>\n",
       "      <td>0.096774</td>\n",
       "    </tr>\n",
       "    <tr>\n",
       "      <th>32</th>\n",
       "      <td>Aspectos Emocionais e Afetivos</td>\n",
       "      <td>alto</td>\n",
       "      <td>0</td>\n",
       "      <td>0.000000</td>\n",
       "    </tr>\n",
       "    <tr>\n",
       "      <th>33</th>\n",
       "      <td>Reprovações/distorção idade –série</td>\n",
       "      <td>baixo</td>\n",
       "      <td>38</td>\n",
       "      <td>0.612903</td>\n",
       "    </tr>\n",
       "    <tr>\n",
       "      <th>34</th>\n",
       "      <td>Reprovações/distorção idade –série</td>\n",
       "      <td>medio</td>\n",
       "      <td>24</td>\n",
       "      <td>0.387097</td>\n",
       "    </tr>\n",
       "    <tr>\n",
       "      <th>35</th>\n",
       "      <td>Reprovações/distorção idade –série</td>\n",
       "      <td>alto</td>\n",
       "      <td>0</td>\n",
       "      <td>0.000000</td>\n",
       "    </tr>\n",
       "  </tbody>\n",
       "</table>\n",
       "</div>"
      ],
      "text/plain": [
       "                                             fator  nivel  quantidade  \\\n",
       "0                    Condições Materiais da Escola  baixo          62   \n",
       "1                    Condições Materiais da Escola  medio           0   \n",
       "2                    Condições Materiais da Escola   alto           0   \n",
       "3                 Condições Materiais do Estudante  baixo          40   \n",
       "4                 Condições Materiais do Estudante  medio          22   \n",
       "5                 Condições Materiais do Estudante   alto           0   \n",
       "6                       Inflexibilidade Pedagógica  baixo          58   \n",
       "7                       Inflexibilidade Pedagógica  medio           4   \n",
       "8                       Inflexibilidade Pedagógica   alto           0   \n",
       "9                             Qualidade Pedagógica  baixo          59   \n",
       "10                            Qualidade Pedagógica  medio           3   \n",
       "11                            Qualidade Pedagógica   alto           0   \n",
       "12                                Suporte Familiar  baixo          62   \n",
       "13                                Suporte Familiar  medio           0   \n",
       "14                                Suporte Familiar   alto           0   \n",
       "15  Gravidez/parentalidade e atividades de cuidado  baixo          62   \n",
       "16  Gravidez/parentalidade e atividades de cuidado  medio           0   \n",
       "17  Gravidez/parentalidade e atividades de cuidado   alto           0   \n",
       "18               Aspectos infracionais e violência  baixo          61   \n",
       "19               Aspectos infracionais e violência  medio           1   \n",
       "20               Aspectos infracionais e violência   alto           0   \n",
       "21              Distanciamento escola – comunidade  baixo          51   \n",
       "22              Distanciamento escola – comunidade  medio          11   \n",
       "23              Distanciamento escola – comunidade   alto           0   \n",
       "24             Acessibilidade e frequência escolar  baixo          51   \n",
       "25             Acessibilidade e frequência escolar  medio          11   \n",
       "26             Acessibilidade e frequência escolar   alto           0   \n",
       "27      Significados da Escolarização/ Engajamento  baixo          50   \n",
       "28      Significados da Escolarização/ Engajamento  medio          12   \n",
       "29      Significados da Escolarização/ Engajamento   alto           0   \n",
       "30                  Aspectos Emocionais e Afetivos  baixo          56   \n",
       "31                  Aspectos Emocionais e Afetivos  medio           6   \n",
       "32                  Aspectos Emocionais e Afetivos   alto           0   \n",
       "33              Reprovações/distorção idade –série  baixo          38   \n",
       "34              Reprovações/distorção idade –série  medio          24   \n",
       "35              Reprovações/distorção idade –série   alto           0   \n",
       "\n",
       "    percentual  \n",
       "0     1.000000  \n",
       "1     0.000000  \n",
       "2     0.000000  \n",
       "3     0.645161  \n",
       "4     0.354839  \n",
       "5     0.000000  \n",
       "6     0.935484  \n",
       "7     0.064516  \n",
       "8     0.000000  \n",
       "9     0.951613  \n",
       "10    0.048387  \n",
       "11    0.000000  \n",
       "12    1.000000  \n",
       "13    0.000000  \n",
       "14    0.000000  \n",
       "15    1.000000  \n",
       "16    0.000000  \n",
       "17    0.000000  \n",
       "18    0.983871  \n",
       "19    0.016129  \n",
       "20    0.000000  \n",
       "21    0.822581  \n",
       "22    0.177419  \n",
       "23    0.000000  \n",
       "24    0.822581  \n",
       "25    0.177419  \n",
       "26    0.000000  \n",
       "27    0.806452  \n",
       "28    0.193548  \n",
       "29    0.000000  \n",
       "30    0.903226  \n",
       "31    0.096774  \n",
       "32    0.000000  \n",
       "33    0.612903  \n",
       "34    0.387097  \n",
       "35    0.000000  "
      ]
     },
     "execution_count": 154,
     "metadata": {},
     "output_type": "execute_result"
    }
   ],
   "source": [
    "\n",
    "\n",
    "df_aux = data_aluno_turma_escola_fatores.copy()\n",
    "\n",
    "var = 'Condições Materiais da Escola';\n",
    "limite_inferior = 3.65;\n",
    "limite_superior = 5.33\n",
    "E_ESC_cond_mat_escola_baixo = len(df_aux.loc[df_aux[var] <= limite_inferior])\n",
    "E_ESC_cond_mat_escola_medio = len(df_aux.loc[(df_aux[var] > limite_inferior) & (df_aux[var] <= limite_superior)])\n",
    "E_ESC_cond_mat_escola_alto = len(df_aux.loc[df_aux[var] > limite_superior])\n",
    "E_ESC_cond_mat_escola_total =E_ESC_cond_mat_escola_baixo+E_ESC_cond_mat_escola_medio+E_ESC_cond_mat_escola_alto\n",
    "     \n",
    "var = 'Condições Materiais do Estudante';\n",
    "limite_inferior = 2;\n",
    "limite_superior = 3.33\n",
    "E_ESC_cond_mat_estudante_baixo = len(df_aux.loc[df_aux[var] <= limite_inferior])\n",
    "E_ESC_cond_mat_estudante_medio = len(df_aux.loc[(df_aux[var] > limite_inferior) & (df_aux[var] <= limite_superior)])\n",
    "E_ESC_cond_mat_estudante_alto = len(df_aux.loc[df_aux[var] > limite_superior])\n",
    "E_ESC_cond_mat_estudante_total = E_ESC_cond_mat_estudante_baixo+E_ESC_cond_mat_estudante_medio+E_ESC_cond_mat_estudante_alto\n",
    "\n",
    "var = 'Inflexibilidade Pedagógica';\n",
    "limite_inferior = 2.33;\n",
    "limite_superior = 4.33\n",
    "E_PROF_inf_ped_baixo = len(df_aux.loc[df_aux[var] <= limite_inferior])\n",
    "E_PROF_inf_ped_medio = len(df_aux.loc[(df_aux[var] > limite_inferior) & (df_aux[var] <= limite_superior)])\n",
    "E_PROF_inf_ped_alto = len(df_aux.loc[df_aux[var] > limite_superior])\n",
    "E_PROF_inf_ped_total = E_PROF_inf_ped_baixo+E_PROF_inf_ped_medio+E_PROF_inf_ped_alto\n",
    "\n",
    "var = 'Qualidade Pedagógica';\n",
    "limite_inferior = 2.33;\n",
    "limite_superior = 4;\n",
    "E_PROF_quali_ped_baixo = len(df_aux.loc[df_aux[var] <= limite_inferior])\n",
    "E_PROF_quali_ped_medio = len(df_aux.loc[(df_aux[var] > limite_inferior) & (df_aux[var] <= limite_superior)])\n",
    "E_PROF_quali_ped_alto = len(df_aux.loc[df_aux[var] > limite_superior])\n",
    "E_PROF_quali_ped_total = E_PROF_quali_ped_baixo+E_PROF_quali_ped_medio+E_PROF_quali_ped_alto\n",
    "\n",
    "\n",
    "  \n",
    "var = 'Suporte Familiar';\n",
    "limite_inferior = 3;\n",
    "limite_superior = 5;\n",
    "E_FAM_suporte_fam_baixo = len(df_aux.loc[df_aux[var] <= limite_inferior])\n",
    "E_FAM_suporte_fam_medio = len(df_aux.loc[(df_aux[var] > limite_inferior) & (df_aux[var] <= limite_superior)])\n",
    "E_FAM_suporte_fam_alto = len(df_aux.loc[df_aux[var] > limite_superior])\n",
    "E_FAM_suporte_fam_total = E_FAM_suporte_fam_baixo+E_FAM_suporte_fam_medio+E_FAM_suporte_fam_alto\n",
    "\n",
    "\n",
    "var = 'Gravidez/parentalidade e atividades de cuidado';\n",
    "limite_inferior = 3.33;\n",
    "limite_superior = 5;\n",
    "E_FAM_gravidez_baixo = len(df_aux.loc[df_aux[var] <= limite_inferior])\n",
    "E_FAM_gravidez_medio = len(df_aux.loc[(df_aux[var] > limite_inferior) & (df_aux[var] <= limite_superior)])\n",
    "E_FAM_gravidez_alto = len(df_aux.loc[df_aux[var] > limite_superior])\n",
    "E_FAM_gravidez_total = E_FAM_gravidez_baixo+E_FAM_gravidez_medio+E_FAM_gravidez_alto\n",
    "   \n",
    "\n",
    "var = 'Aspectos infracionais e violência';\n",
    "limite_inferior = 2;\n",
    "limite_superior = 3.66;\n",
    "E_COM_infracional_baixo = len(df_aux.loc[df_aux[var] <= limite_inferior])\n",
    "E_COM_infracional_medio = len(df_aux.loc[(df_aux[var] > limite_inferior) & (df_aux[var] <= limite_superior)])\n",
    "E_COM_infracional_alto = len(df_aux.loc[df_aux[var] > limite_superior])\n",
    "E_COM_infracional_total = E_COM_infracional_baixo+E_COM_infracional_medio+E_COM_infracional_alto\n",
    "\n",
    "\n",
    "\n",
    "var = 'Distanciamento escola – comunidade';\n",
    "limite_inferior = 2;\n",
    "limite_superior = 3.66;\n",
    "E_COM_dist_baixo = len(df_aux.loc[df_aux[var] <= limite_inferior])\n",
    "E_COM_dist_medio = len(df_aux.loc[(df_aux[var] > limite_inferior) & (df_aux[var] <= limite_superior)])\n",
    "E_COM_dist_alto = len(df_aux.loc[df_aux[var] > limite_superior])\n",
    "E_COM_dist_total = E_COM_dist_baixo+E_COM_dist_medio+E_COM_dist_alto\n",
    "\n",
    "\n",
    "var = 'Acessibilidade e frequência escolar';\n",
    "limite_inferior = 2;\n",
    "limite_superior = 3.66;\n",
    "E_COM_acessibilidade_baixo = len(df_aux.loc[df_aux[var] <= limite_inferior])\n",
    "E_COM_acessibilidade_medio = len(df_aux.loc[(df_aux[var] > limite_inferior) & (df_aux[var] <= limite_superior)])\n",
    "E_COM_acessibilidade_alto = len(df_aux.loc[df_aux[var] > limite_superior])\n",
    "E_COM_acessibilidade_total = E_COM_acessibilidade_baixo+E_COM_acessibilidade_medio+E_COM_acessibilidade_alto\n",
    "\n",
    "\n",
    "\n",
    "var = 'Significados da Escolarização/ Engajamento';\n",
    "limite_inferior = 2;\n",
    "limite_superior = 4;\n",
    "E_EST_engajamento_baixo = len(df_aux.loc[df_aux[var] <= limite_inferior])\n",
    "E_EST_engajamento_medio = len(df_aux.loc[(df_aux[var] > limite_inferior) & (df_aux[var] <= limite_superior)])\n",
    "E_EST_engajamento_alto = len(df_aux.loc[df_aux[var] > limite_superior])\n",
    "E_EST_engajamento_total = E_EST_engajamento_baixo+E_EST_engajamento_medio+E_EST_engajamento_alto\n",
    "\n",
    "\n",
    "\n",
    "var = 'Aspectos Emocionais e Afetivos';\n",
    "limite_inferior = 2.33;\n",
    "limite_superior = 4;\n",
    "E_EST_asp_emocional_baixo = len(df_aux.loc[df_aux[var] <= limite_inferior])\n",
    "E_EST_asp_emocional_medio = len(df_aux.loc[(df_aux[var] > limite_inferior) & (df_aux[var] <= limite_superior)])\n",
    "E_EST_asp_emocional_alto = len(df_aux.loc[df_aux[var] > limite_superior])\n",
    "E_EST_asp_emocional_total = E_EST_asp_emocional_baixo+E_EST_asp_emocional_medio+E_EST_asp_emocional_alto\n",
    "\n",
    "\n",
    "var = 'Reprovações/distorção idade –série';\n",
    "limite_inferior = 2;\n",
    "limite_superior = 3.33;\n",
    "E_EST_reprovacao_baixo = len(df_aux.loc[df_aux[var] <= limite_inferior])\n",
    "E_EST_reprovacao_medio = len(df_aux.loc[(df_aux[var] > limite_inferior) & (df_aux[var] <= limite_superior)])\n",
    "E_EST_reprovacao_alto = len(df_aux.loc[df_aux[var] > limite_superior])\n",
    "E_EST_reprovacao_total = E_EST_reprovacao_baixo+E_EST_reprovacao_medio+E_EST_reprovacao_alto \n",
    "\n",
    "\n",
    "\n",
    "data =[\n",
    "       ['Condições Materiais da Escola','baixo',E_ESC_cond_mat_escola_baixo,E_ESC_cond_mat_escola_baixo/E_ESC_cond_mat_escola_total],\n",
    "       ['Condições Materiais da Escola','medio',E_ESC_cond_mat_escola_medio,E_ESC_cond_mat_escola_medio/E_ESC_cond_mat_escola_total],\n",
    "       ['Condições Materiais da Escola','alto',E_ESC_cond_mat_escola_alto,E_ESC_cond_mat_escola_alto/E_ESC_cond_mat_escola_total],\n",
    "       \n",
    "       ['Condições Materiais do Estudante','baixo',E_ESC_cond_mat_estudante_baixo,E_ESC_cond_mat_estudante_baixo/E_ESC_cond_mat_estudante_total],\n",
    "       ['Condições Materiais do Estudante','medio',E_ESC_cond_mat_estudante_medio,E_ESC_cond_mat_estudante_medio/E_ESC_cond_mat_estudante_total],\n",
    "       ['Condições Materiais do Estudante','alto',E_ESC_cond_mat_estudante_alto,E_ESC_cond_mat_estudante_alto/E_ESC_cond_mat_estudante_total],\n",
    "       \n",
    "       ['Inflexibilidade Pedagógica','baixo',E_PROF_inf_ped_baixo,E_PROF_inf_ped_baixo/E_PROF_inf_ped_total],\n",
    "       ['Inflexibilidade Pedagógica','medio',E_PROF_inf_ped_medio,E_PROF_inf_ped_medio/E_PROF_inf_ped_total],\n",
    "       ['Inflexibilidade Pedagógica','alto',E_PROF_inf_ped_alto,E_PROF_inf_ped_alto/E_PROF_inf_ped_total],\n",
    "    \n",
    "       ['Qualidade Pedagógica','baixo',E_PROF_quali_ped_baixo,E_PROF_quali_ped_baixo/E_PROF_quali_ped_total],     \n",
    "       ['Qualidade Pedagógica','medio',E_PROF_quali_ped_medio,E_PROF_quali_ped_medio/E_PROF_quali_ped_total],\n",
    "       ['Qualidade Pedagógica','alto',E_PROF_quali_ped_alto,E_PROF_quali_ped_alto/E_PROF_quali_ped_total],\n",
    "\n",
    "       ['Suporte Familiar','baixo',E_FAM_suporte_fam_baixo,E_FAM_suporte_fam_baixo/E_FAM_suporte_fam_total],     \n",
    "       ['Suporte Familiar','medio',E_FAM_suporte_fam_medio,E_FAM_suporte_fam_medio/E_FAM_suporte_fam_total],\n",
    "       ['Suporte Familiar','alto',E_FAM_suporte_fam_alto,E_FAM_suporte_fam_alto/E_FAM_suporte_fam_total],\n",
    "\n",
    "       ['Gravidez/parentalidade e atividades de cuidado','baixo',E_FAM_gravidez_baixo,E_FAM_gravidez_baixo/E_FAM_gravidez_total],     \n",
    "       ['Gravidez/parentalidade e atividades de cuidado','medio',E_FAM_gravidez_medio,E_FAM_gravidez_medio/E_FAM_gravidez_total],\n",
    "       ['Gravidez/parentalidade e atividades de cuidado','alto',E_FAM_gravidez_alto,E_FAM_gravidez_alto/E_FAM_gravidez_total],\n",
    "        \n",
    "       ['Aspectos infracionais e violência','baixo',E_COM_infracional_baixo,E_COM_infracional_baixo/E_COM_infracional_total],     \n",
    "       ['Aspectos infracionais e violência','medio',E_COM_infracional_medio,E_COM_infracional_medio/E_COM_infracional_total],\n",
    "       ['Aspectos infracionais e violência','alto',E_COM_infracional_alto,E_COM_infracional_alto/E_COM_infracional_total],\n",
    "\n",
    "       ['Distanciamento escola – comunidade','baixo',E_COM_dist_baixo,E_COM_dist_baixo/E_COM_dist_total],     \n",
    "       ['Distanciamento escola – comunidade','medio',E_COM_dist_medio,E_COM_dist_medio/E_COM_dist_total],\n",
    "       ['Distanciamento escola – comunidade','alto',E_COM_dist_alto,E_COM_dist_alto/E_COM_dist_total],\n",
    "\n",
    "       ['Acessibilidade e frequência escolar','baixo',E_COM_acessibilidade_baixo,E_COM_acessibilidade_baixo/E_COM_acessibilidade_total],     \n",
    "       ['Acessibilidade e frequência escolar','medio',E_COM_acessibilidade_medio,E_COM_acessibilidade_medio/E_COM_acessibilidade_total],\n",
    "       ['Acessibilidade e frequência escolar','alto',E_COM_acessibilidade_alto,E_COM_acessibilidade_alto/E_COM_acessibilidade_total],\n",
    "       \n",
    "       ['Significados da Escolarização/ Engajamento','baixo',E_EST_engajamento_baixo,E_EST_engajamento_baixo/E_EST_engajamento_total],     \n",
    "       ['Significados da Escolarização/ Engajamento','medio',E_EST_engajamento_medio,E_EST_engajamento_medio/E_EST_engajamento_total],\n",
    "       ['Significados da Escolarização/ Engajamento','alto',E_EST_engajamento_alto,E_EST_engajamento_alto/E_EST_engajamento_total],\n",
    "\n",
    "       ['Aspectos Emocionais e Afetivos','baixo',E_EST_asp_emocional_baixo,E_EST_asp_emocional_baixo/E_EST_asp_emocional_total],     \n",
    "       ['Aspectos Emocionais e Afetivos','medio',E_EST_asp_emocional_medio,E_EST_asp_emocional_medio/E_EST_asp_emocional_total],\n",
    "       ['Aspectos Emocionais e Afetivos','alto',E_EST_asp_emocional_alto,E_EST_asp_emocional_alto/E_EST_asp_emocional_total],\n",
    "\n",
    "       ['Reprovações/distorção idade –série','baixo',E_EST_reprovacao_baixo,E_EST_reprovacao_baixo/E_EST_reprovacao_total],     \n",
    "       ['Reprovações/distorção idade –série','medio',E_EST_reprovacao_medio,E_EST_reprovacao_medio/E_EST_reprovacao_total],\n",
    "       ['Reprovações/distorção idade –série','alto',E_EST_reprovacao_alto,E_EST_reprovacao_alto/E_EST_reprovacao_total],\n",
    "\n",
    "      ]\n",
    "df_fator = pd.DataFrame(data, columns=['fator','nivel', 'quantidade','percentual'])\n",
    "df_fator"
   ]
  },
  {
   "cell_type": "code",
   "execution_count": 159,
   "id": "3de07fd2",
   "metadata": {},
   "outputs": [
    {
     "data": {
      "application/vnd.plotly.v1+json": {
       "config": {
        "plotlyServerURL": "https://plot.ly"
       },
       "data": [
        {
         "alignmentgroup": "True",
         "hovertemplate": "nivel=baixo<br><b>Fator</b>=%{x}<br><b>Percentual</b>=%{y}<extra></extra>",
         "legendgroup": "baixo",
         "marker": {
          "color": "red",
          "pattern": {
           "shape": ""
          }
         },
         "name": "baixo",
         "offsetgroup": "baixo",
         "orientation": "v",
         "showlegend": true,
         "textposition": "auto",
         "type": "bar",
         "x": [
          "Condições Materiais da Escola",
          "Condições Materiais do Estudante",
          "Inflexibilidade Pedagógica",
          "Qualidade Pedagógica",
          "Suporte Familiar",
          "Gravidez/parentalidade e atividades de cuidado",
          "Aspectos infracionais e violência",
          "Distanciamento escola – comunidade",
          "Acessibilidade e frequência escolar",
          "Significados da Escolarização/ Engajamento",
          "Aspectos Emocionais e Afetivos",
          "Reprovações/distorção idade –série"
         ],
         "xaxis": "x",
         "y": [
          1,
          0.6451612903225806,
          0.9354838709677419,
          0.9516129032258065,
          1,
          1,
          0.9838709677419355,
          0.8225806451612904,
          0.8225806451612904,
          0.8064516129032258,
          0.9032258064516129,
          0.6129032258064516
         ],
         "yaxis": "y"
        },
        {
         "alignmentgroup": "True",
         "hovertemplate": "nivel=medio<br><b>Fator</b>=%{x}<br><b>Percentual</b>=%{y}<extra></extra>",
         "legendgroup": "medio",
         "marker": {
          "color": "yellow",
          "pattern": {
           "shape": ""
          }
         },
         "name": "medio",
         "offsetgroup": "medio",
         "orientation": "v",
         "showlegend": true,
         "textposition": "auto",
         "type": "bar",
         "x": [
          "Condições Materiais da Escola",
          "Condições Materiais do Estudante",
          "Inflexibilidade Pedagógica",
          "Qualidade Pedagógica",
          "Suporte Familiar",
          "Gravidez/parentalidade e atividades de cuidado",
          "Aspectos infracionais e violência",
          "Distanciamento escola – comunidade",
          "Acessibilidade e frequência escolar",
          "Significados da Escolarização/ Engajamento",
          "Aspectos Emocionais e Afetivos",
          "Reprovações/distorção idade –série"
         ],
         "xaxis": "x",
         "y": [
          0,
          0.3548387096774194,
          0.06451612903225806,
          0.04838709677419355,
          0,
          0,
          0.016129032258064516,
          0.1774193548387097,
          0.1774193548387097,
          0.1935483870967742,
          0.0967741935483871,
          0.3870967741935484
         ],
         "yaxis": "y"
        },
        {
         "alignmentgroup": "True",
         "hovertemplate": "nivel=alto<br><b>Fator</b>=%{x}<br><b>Percentual</b>=%{y}<extra></extra>",
         "legendgroup": "alto",
         "marker": {
          "color": "green",
          "pattern": {
           "shape": ""
          }
         },
         "name": "alto",
         "offsetgroup": "alto",
         "orientation": "v",
         "showlegend": true,
         "textposition": "auto",
         "type": "bar",
         "x": [
          "Condições Materiais da Escola",
          "Condições Materiais do Estudante",
          "Inflexibilidade Pedagógica",
          "Qualidade Pedagógica",
          "Suporte Familiar",
          "Gravidez/parentalidade e atividades de cuidado",
          "Aspectos infracionais e violência",
          "Distanciamento escola – comunidade",
          "Acessibilidade e frequência escolar",
          "Significados da Escolarização/ Engajamento",
          "Aspectos Emocionais e Afetivos",
          "Reprovações/distorção idade –série"
         ],
         "xaxis": "x",
         "y": [
          0,
          0,
          0,
          0,
          0,
          0,
          0,
          0,
          0,
          0,
          0,
          0
         ],
         "yaxis": "y"
        }
       ],
       "layout": {
        "barmode": "relative",
        "legend": {
         "title": {
          "text": "<b>Nível</b>"
         },
         "tracegroupgap": 0
        },
        "template": {
         "data": {
          "bar": [
           {
            "error_x": {
             "color": "#2a3f5f"
            },
            "error_y": {
             "color": "#2a3f5f"
            },
            "marker": {
             "line": {
              "color": "#E5ECF6",
              "width": 0.5
             },
             "pattern": {
              "fillmode": "overlay",
              "size": 10,
              "solidity": 0.2
             }
            },
            "type": "bar"
           }
          ],
          "barpolar": [
           {
            "marker": {
             "line": {
              "color": "#E5ECF6",
              "width": 0.5
             },
             "pattern": {
              "fillmode": "overlay",
              "size": 10,
              "solidity": 0.2
             }
            },
            "type": "barpolar"
           }
          ],
          "carpet": [
           {
            "aaxis": {
             "endlinecolor": "#2a3f5f",
             "gridcolor": "white",
             "linecolor": "white",
             "minorgridcolor": "white",
             "startlinecolor": "#2a3f5f"
            },
            "baxis": {
             "endlinecolor": "#2a3f5f",
             "gridcolor": "white",
             "linecolor": "white",
             "minorgridcolor": "white",
             "startlinecolor": "#2a3f5f"
            },
            "type": "carpet"
           }
          ],
          "choropleth": [
           {
            "colorbar": {
             "outlinewidth": 0,
             "ticks": ""
            },
            "type": "choropleth"
           }
          ],
          "contour": [
           {
            "colorbar": {
             "outlinewidth": 0,
             "ticks": ""
            },
            "colorscale": [
             [
              0,
              "#0d0887"
             ],
             [
              0.1111111111111111,
              "#46039f"
             ],
             [
              0.2222222222222222,
              "#7201a8"
             ],
             [
              0.3333333333333333,
              "#9c179e"
             ],
             [
              0.4444444444444444,
              "#bd3786"
             ],
             [
              0.5555555555555556,
              "#d8576b"
             ],
             [
              0.6666666666666666,
              "#ed7953"
             ],
             [
              0.7777777777777778,
              "#fb9f3a"
             ],
             [
              0.8888888888888888,
              "#fdca26"
             ],
             [
              1,
              "#f0f921"
             ]
            ],
            "type": "contour"
           }
          ],
          "contourcarpet": [
           {
            "colorbar": {
             "outlinewidth": 0,
             "ticks": ""
            },
            "type": "contourcarpet"
           }
          ],
          "heatmap": [
           {
            "colorbar": {
             "outlinewidth": 0,
             "ticks": ""
            },
            "colorscale": [
             [
              0,
              "#0d0887"
             ],
             [
              0.1111111111111111,
              "#46039f"
             ],
             [
              0.2222222222222222,
              "#7201a8"
             ],
             [
              0.3333333333333333,
              "#9c179e"
             ],
             [
              0.4444444444444444,
              "#bd3786"
             ],
             [
              0.5555555555555556,
              "#d8576b"
             ],
             [
              0.6666666666666666,
              "#ed7953"
             ],
             [
              0.7777777777777778,
              "#fb9f3a"
             ],
             [
              0.8888888888888888,
              "#fdca26"
             ],
             [
              1,
              "#f0f921"
             ]
            ],
            "type": "heatmap"
           }
          ],
          "heatmapgl": [
           {
            "colorbar": {
             "outlinewidth": 0,
             "ticks": ""
            },
            "colorscale": [
             [
              0,
              "#0d0887"
             ],
             [
              0.1111111111111111,
              "#46039f"
             ],
             [
              0.2222222222222222,
              "#7201a8"
             ],
             [
              0.3333333333333333,
              "#9c179e"
             ],
             [
              0.4444444444444444,
              "#bd3786"
             ],
             [
              0.5555555555555556,
              "#d8576b"
             ],
             [
              0.6666666666666666,
              "#ed7953"
             ],
             [
              0.7777777777777778,
              "#fb9f3a"
             ],
             [
              0.8888888888888888,
              "#fdca26"
             ],
             [
              1,
              "#f0f921"
             ]
            ],
            "type": "heatmapgl"
           }
          ],
          "histogram": [
           {
            "marker": {
             "pattern": {
              "fillmode": "overlay",
              "size": 10,
              "solidity": 0.2
             }
            },
            "type": "histogram"
           }
          ],
          "histogram2d": [
           {
            "colorbar": {
             "outlinewidth": 0,
             "ticks": ""
            },
            "colorscale": [
             [
              0,
              "#0d0887"
             ],
             [
              0.1111111111111111,
              "#46039f"
             ],
             [
              0.2222222222222222,
              "#7201a8"
             ],
             [
              0.3333333333333333,
              "#9c179e"
             ],
             [
              0.4444444444444444,
              "#bd3786"
             ],
             [
              0.5555555555555556,
              "#d8576b"
             ],
             [
              0.6666666666666666,
              "#ed7953"
             ],
             [
              0.7777777777777778,
              "#fb9f3a"
             ],
             [
              0.8888888888888888,
              "#fdca26"
             ],
             [
              1,
              "#f0f921"
             ]
            ],
            "type": "histogram2d"
           }
          ],
          "histogram2dcontour": [
           {
            "colorbar": {
             "outlinewidth": 0,
             "ticks": ""
            },
            "colorscale": [
             [
              0,
              "#0d0887"
             ],
             [
              0.1111111111111111,
              "#46039f"
             ],
             [
              0.2222222222222222,
              "#7201a8"
             ],
             [
              0.3333333333333333,
              "#9c179e"
             ],
             [
              0.4444444444444444,
              "#bd3786"
             ],
             [
              0.5555555555555556,
              "#d8576b"
             ],
             [
              0.6666666666666666,
              "#ed7953"
             ],
             [
              0.7777777777777778,
              "#fb9f3a"
             ],
             [
              0.8888888888888888,
              "#fdca26"
             ],
             [
              1,
              "#f0f921"
             ]
            ],
            "type": "histogram2dcontour"
           }
          ],
          "mesh3d": [
           {
            "colorbar": {
             "outlinewidth": 0,
             "ticks": ""
            },
            "type": "mesh3d"
           }
          ],
          "parcoords": [
           {
            "line": {
             "colorbar": {
              "outlinewidth": 0,
              "ticks": ""
             }
            },
            "type": "parcoords"
           }
          ],
          "pie": [
           {
            "automargin": true,
            "type": "pie"
           }
          ],
          "scatter": [
           {
            "marker": {
             "colorbar": {
              "outlinewidth": 0,
              "ticks": ""
             }
            },
            "type": "scatter"
           }
          ],
          "scatter3d": [
           {
            "line": {
             "colorbar": {
              "outlinewidth": 0,
              "ticks": ""
             }
            },
            "marker": {
             "colorbar": {
              "outlinewidth": 0,
              "ticks": ""
             }
            },
            "type": "scatter3d"
           }
          ],
          "scattercarpet": [
           {
            "marker": {
             "colorbar": {
              "outlinewidth": 0,
              "ticks": ""
             }
            },
            "type": "scattercarpet"
           }
          ],
          "scattergeo": [
           {
            "marker": {
             "colorbar": {
              "outlinewidth": 0,
              "ticks": ""
             }
            },
            "type": "scattergeo"
           }
          ],
          "scattergl": [
           {
            "marker": {
             "colorbar": {
              "outlinewidth": 0,
              "ticks": ""
             }
            },
            "type": "scattergl"
           }
          ],
          "scattermapbox": [
           {
            "marker": {
             "colorbar": {
              "outlinewidth": 0,
              "ticks": ""
             }
            },
            "type": "scattermapbox"
           }
          ],
          "scatterpolar": [
           {
            "marker": {
             "colorbar": {
              "outlinewidth": 0,
              "ticks": ""
             }
            },
            "type": "scatterpolar"
           }
          ],
          "scatterpolargl": [
           {
            "marker": {
             "colorbar": {
              "outlinewidth": 0,
              "ticks": ""
             }
            },
            "type": "scatterpolargl"
           }
          ],
          "scatterternary": [
           {
            "marker": {
             "colorbar": {
              "outlinewidth": 0,
              "ticks": ""
             }
            },
            "type": "scatterternary"
           }
          ],
          "surface": [
           {
            "colorbar": {
             "outlinewidth": 0,
             "ticks": ""
            },
            "colorscale": [
             [
              0,
              "#0d0887"
             ],
             [
              0.1111111111111111,
              "#46039f"
             ],
             [
              0.2222222222222222,
              "#7201a8"
             ],
             [
              0.3333333333333333,
              "#9c179e"
             ],
             [
              0.4444444444444444,
              "#bd3786"
             ],
             [
              0.5555555555555556,
              "#d8576b"
             ],
             [
              0.6666666666666666,
              "#ed7953"
             ],
             [
              0.7777777777777778,
              "#fb9f3a"
             ],
             [
              0.8888888888888888,
              "#fdca26"
             ],
             [
              1,
              "#f0f921"
             ]
            ],
            "type": "surface"
           }
          ],
          "table": [
           {
            "cells": {
             "fill": {
              "color": "#EBF0F8"
             },
             "line": {
              "color": "white"
             }
            },
            "header": {
             "fill": {
              "color": "#C8D4E3"
             },
             "line": {
              "color": "white"
             }
            },
            "type": "table"
           }
          ]
         },
         "layout": {
          "annotationdefaults": {
           "arrowcolor": "#2a3f5f",
           "arrowhead": 0,
           "arrowwidth": 1
          },
          "autotypenumbers": "strict",
          "coloraxis": {
           "colorbar": {
            "outlinewidth": 0,
            "ticks": ""
           }
          },
          "colorscale": {
           "diverging": [
            [
             0,
             "#8e0152"
            ],
            [
             0.1,
             "#c51b7d"
            ],
            [
             0.2,
             "#de77ae"
            ],
            [
             0.3,
             "#f1b6da"
            ],
            [
             0.4,
             "#fde0ef"
            ],
            [
             0.5,
             "#f7f7f7"
            ],
            [
             0.6,
             "#e6f5d0"
            ],
            [
             0.7,
             "#b8e186"
            ],
            [
             0.8,
             "#7fbc41"
            ],
            [
             0.9,
             "#4d9221"
            ],
            [
             1,
             "#276419"
            ]
           ],
           "sequential": [
            [
             0,
             "#0d0887"
            ],
            [
             0.1111111111111111,
             "#46039f"
            ],
            [
             0.2222222222222222,
             "#7201a8"
            ],
            [
             0.3333333333333333,
             "#9c179e"
            ],
            [
             0.4444444444444444,
             "#bd3786"
            ],
            [
             0.5555555555555556,
             "#d8576b"
            ],
            [
             0.6666666666666666,
             "#ed7953"
            ],
            [
             0.7777777777777778,
             "#fb9f3a"
            ],
            [
             0.8888888888888888,
             "#fdca26"
            ],
            [
             1,
             "#f0f921"
            ]
           ],
           "sequentialminus": [
            [
             0,
             "#0d0887"
            ],
            [
             0.1111111111111111,
             "#46039f"
            ],
            [
             0.2222222222222222,
             "#7201a8"
            ],
            [
             0.3333333333333333,
             "#9c179e"
            ],
            [
             0.4444444444444444,
             "#bd3786"
            ],
            [
             0.5555555555555556,
             "#d8576b"
            ],
            [
             0.6666666666666666,
             "#ed7953"
            ],
            [
             0.7777777777777778,
             "#fb9f3a"
            ],
            [
             0.8888888888888888,
             "#fdca26"
            ],
            [
             1,
             "#f0f921"
            ]
           ]
          },
          "colorway": [
           "#636efa",
           "#EF553B",
           "#00cc96",
           "#ab63fa",
           "#FFA15A",
           "#19d3f3",
           "#FF6692",
           "#B6E880",
           "#FF97FF",
           "#FECB52"
          ],
          "font": {
           "color": "#2a3f5f"
          },
          "geo": {
           "bgcolor": "white",
           "lakecolor": "white",
           "landcolor": "#E5ECF6",
           "showlakes": true,
           "showland": true,
           "subunitcolor": "white"
          },
          "hoverlabel": {
           "align": "left"
          },
          "hovermode": "closest",
          "mapbox": {
           "style": "light"
          },
          "paper_bgcolor": "white",
          "plot_bgcolor": "#E5ECF6",
          "polar": {
           "angularaxis": {
            "gridcolor": "white",
            "linecolor": "white",
            "ticks": ""
           },
           "bgcolor": "#E5ECF6",
           "radialaxis": {
            "gridcolor": "white",
            "linecolor": "white",
            "ticks": ""
           }
          },
          "scene": {
           "xaxis": {
            "backgroundcolor": "#E5ECF6",
            "gridcolor": "white",
            "gridwidth": 2,
            "linecolor": "white",
            "showbackground": true,
            "ticks": "",
            "zerolinecolor": "white"
           },
           "yaxis": {
            "backgroundcolor": "#E5ECF6",
            "gridcolor": "white",
            "gridwidth": 2,
            "linecolor": "white",
            "showbackground": true,
            "ticks": "",
            "zerolinecolor": "white"
           },
           "zaxis": {
            "backgroundcolor": "#E5ECF6",
            "gridcolor": "white",
            "gridwidth": 2,
            "linecolor": "white",
            "showbackground": true,
            "ticks": "",
            "zerolinecolor": "white"
           }
          },
          "shapedefaults": {
           "line": {
            "color": "#2a3f5f"
           }
          },
          "ternary": {
           "aaxis": {
            "gridcolor": "white",
            "linecolor": "white",
            "ticks": ""
           },
           "baxis": {
            "gridcolor": "white",
            "linecolor": "white",
            "ticks": ""
           },
           "bgcolor": "#E5ECF6",
           "caxis": {
            "gridcolor": "white",
            "linecolor": "white",
            "ticks": ""
           }
          },
          "title": {
           "x": 0.05
          },
          "xaxis": {
           "automargin": true,
           "gridcolor": "white",
           "linecolor": "white",
           "ticks": "",
           "title": {
            "standoff": 15
           },
           "zerolinecolor": "white",
           "zerolinewidth": 2
          },
          "yaxis": {
           "automargin": true,
           "gridcolor": "white",
           "linecolor": "white",
           "ticks": "",
           "title": {
            "standoff": 15
           },
           "zerolinecolor": "white",
           "zerolinewidth": 2
          }
         }
        },
        "title": {
         "text": "<b>Fatores por Quantidade de Alunos</b>",
         "x": 0.5
        },
        "xaxis": {
         "anchor": "y",
         "domain": [
          0,
          1
         ],
         "title": {
          "text": "<b>Fator</b>"
         }
        },
        "yaxis": {
         "anchor": "x",
         "domain": [
          0,
          1
         ],
         "title": {
          "text": "<b>Percentual</b>"
         }
        }
       }
      },
      "text/html": [
       "<div>                            <div id=\"c574e895-3d12-4d81-b2ff-153e5d10a535\" class=\"plotly-graph-div\" style=\"height:525px; width:100%;\"></div>            <script type=\"text/javascript\">                require([\"plotly\"], function(Plotly) {                    window.PLOTLYENV=window.PLOTLYENV || {};                                    if (document.getElementById(\"c574e895-3d12-4d81-b2ff-153e5d10a535\")) {                    Plotly.newPlot(                        \"c574e895-3d12-4d81-b2ff-153e5d10a535\",                        [{\"alignmentgroup\":\"True\",\"hovertemplate\":\"nivel=baixo<br><b>Fator</b>=%{x}<br><b>Percentual</b>=%{y}<extra></extra>\",\"legendgroup\":\"baixo\",\"marker\":{\"color\":\"red\",\"pattern\":{\"shape\":\"\"}},\"name\":\"baixo\",\"offsetgroup\":\"baixo\",\"orientation\":\"v\",\"showlegend\":true,\"textposition\":\"auto\",\"x\":[\"Condi\\u00e7\\u00f5es Materiais da Escola\",\"Condi\\u00e7\\u00f5es Materiais do Estudante\",\"Inflexibilidade Pedag\\u00f3gica\",\"Qualidade Pedag\\u00f3gica\",\"Suporte Familiar\",\"Gravidez/parentalidade e atividades de cuidado\",\"Aspectos infracionais e viol\\u00eancia\",\"Distanciamento escola \\u2013 comunidade\",\"Acessibilidade e frequ\\u00eancia escolar\",\"Significados da Escolariza\\u00e7\\u00e3o/ Engajamento\",\"Aspectos Emocionais e Afetivos\",\"Reprova\\u00e7\\u00f5es/distor\\u00e7\\u00e3o idade \\u2013s\\u00e9rie\"],\"xaxis\":\"x\",\"y\":[1.0,0.6451612903225806,0.9354838709677419,0.9516129032258065,1.0,1.0,0.9838709677419355,0.8225806451612904,0.8225806451612904,0.8064516129032258,0.9032258064516129,0.6129032258064516],\"yaxis\":\"y\",\"type\":\"bar\"},{\"alignmentgroup\":\"True\",\"hovertemplate\":\"nivel=medio<br><b>Fator</b>=%{x}<br><b>Percentual</b>=%{y}<extra></extra>\",\"legendgroup\":\"medio\",\"marker\":{\"color\":\"yellow\",\"pattern\":{\"shape\":\"\"}},\"name\":\"medio\",\"offsetgroup\":\"medio\",\"orientation\":\"v\",\"showlegend\":true,\"textposition\":\"auto\",\"x\":[\"Condi\\u00e7\\u00f5es Materiais da Escola\",\"Condi\\u00e7\\u00f5es Materiais do Estudante\",\"Inflexibilidade Pedag\\u00f3gica\",\"Qualidade Pedag\\u00f3gica\",\"Suporte Familiar\",\"Gravidez/parentalidade e atividades de cuidado\",\"Aspectos infracionais e viol\\u00eancia\",\"Distanciamento escola \\u2013 comunidade\",\"Acessibilidade e frequ\\u00eancia escolar\",\"Significados da Escolariza\\u00e7\\u00e3o/ Engajamento\",\"Aspectos Emocionais e Afetivos\",\"Reprova\\u00e7\\u00f5es/distor\\u00e7\\u00e3o idade \\u2013s\\u00e9rie\"],\"xaxis\":\"x\",\"y\":[0.0,0.3548387096774194,0.06451612903225806,0.04838709677419355,0.0,0.0,0.016129032258064516,0.1774193548387097,0.1774193548387097,0.1935483870967742,0.0967741935483871,0.3870967741935484],\"yaxis\":\"y\",\"type\":\"bar\"},{\"alignmentgroup\":\"True\",\"hovertemplate\":\"nivel=alto<br><b>Fator</b>=%{x}<br><b>Percentual</b>=%{y}<extra></extra>\",\"legendgroup\":\"alto\",\"marker\":{\"color\":\"green\",\"pattern\":{\"shape\":\"\"}},\"name\":\"alto\",\"offsetgroup\":\"alto\",\"orientation\":\"v\",\"showlegend\":true,\"textposition\":\"auto\",\"x\":[\"Condi\\u00e7\\u00f5es Materiais da Escola\",\"Condi\\u00e7\\u00f5es Materiais do Estudante\",\"Inflexibilidade Pedag\\u00f3gica\",\"Qualidade Pedag\\u00f3gica\",\"Suporte Familiar\",\"Gravidez/parentalidade e atividades de cuidado\",\"Aspectos infracionais e viol\\u00eancia\",\"Distanciamento escola \\u2013 comunidade\",\"Acessibilidade e frequ\\u00eancia escolar\",\"Significados da Escolariza\\u00e7\\u00e3o/ Engajamento\",\"Aspectos Emocionais e Afetivos\",\"Reprova\\u00e7\\u00f5es/distor\\u00e7\\u00e3o idade \\u2013s\\u00e9rie\"],\"xaxis\":\"x\",\"y\":[0.0,0.0,0.0,0.0,0.0,0.0,0.0,0.0,0.0,0.0,0.0,0.0],\"yaxis\":\"y\",\"type\":\"bar\"}],                        {\"template\":{\"data\":{\"bar\":[{\"error_x\":{\"color\":\"#2a3f5f\"},\"error_y\":{\"color\":\"#2a3f5f\"},\"marker\":{\"line\":{\"color\":\"#E5ECF6\",\"width\":0.5},\"pattern\":{\"fillmode\":\"overlay\",\"size\":10,\"solidity\":0.2}},\"type\":\"bar\"}],\"barpolar\":[{\"marker\":{\"line\":{\"color\":\"#E5ECF6\",\"width\":0.5},\"pattern\":{\"fillmode\":\"overlay\",\"size\":10,\"solidity\":0.2}},\"type\":\"barpolar\"}],\"carpet\":[{\"aaxis\":{\"endlinecolor\":\"#2a3f5f\",\"gridcolor\":\"white\",\"linecolor\":\"white\",\"minorgridcolor\":\"white\",\"startlinecolor\":\"#2a3f5f\"},\"baxis\":{\"endlinecolor\":\"#2a3f5f\",\"gridcolor\":\"white\",\"linecolor\":\"white\",\"minorgridcolor\":\"white\",\"startlinecolor\":\"#2a3f5f\"},\"type\":\"carpet\"}],\"choropleth\":[{\"colorbar\":{\"outlinewidth\":0,\"ticks\":\"\"},\"type\":\"choropleth\"}],\"contour\":[{\"colorbar\":{\"outlinewidth\":0,\"ticks\":\"\"},\"colorscale\":[[0.0,\"#0d0887\"],[0.1111111111111111,\"#46039f\"],[0.2222222222222222,\"#7201a8\"],[0.3333333333333333,\"#9c179e\"],[0.4444444444444444,\"#bd3786\"],[0.5555555555555556,\"#d8576b\"],[0.6666666666666666,\"#ed7953\"],[0.7777777777777778,\"#fb9f3a\"],[0.8888888888888888,\"#fdca26\"],[1.0,\"#f0f921\"]],\"type\":\"contour\"}],\"contourcarpet\":[{\"colorbar\":{\"outlinewidth\":0,\"ticks\":\"\"},\"type\":\"contourcarpet\"}],\"heatmap\":[{\"colorbar\":{\"outlinewidth\":0,\"ticks\":\"\"},\"colorscale\":[[0.0,\"#0d0887\"],[0.1111111111111111,\"#46039f\"],[0.2222222222222222,\"#7201a8\"],[0.3333333333333333,\"#9c179e\"],[0.4444444444444444,\"#bd3786\"],[0.5555555555555556,\"#d8576b\"],[0.6666666666666666,\"#ed7953\"],[0.7777777777777778,\"#fb9f3a\"],[0.8888888888888888,\"#fdca26\"],[1.0,\"#f0f921\"]],\"type\":\"heatmap\"}],\"heatmapgl\":[{\"colorbar\":{\"outlinewidth\":0,\"ticks\":\"\"},\"colorscale\":[[0.0,\"#0d0887\"],[0.1111111111111111,\"#46039f\"],[0.2222222222222222,\"#7201a8\"],[0.3333333333333333,\"#9c179e\"],[0.4444444444444444,\"#bd3786\"],[0.5555555555555556,\"#d8576b\"],[0.6666666666666666,\"#ed7953\"],[0.7777777777777778,\"#fb9f3a\"],[0.8888888888888888,\"#fdca26\"],[1.0,\"#f0f921\"]],\"type\":\"heatmapgl\"}],\"histogram\":[{\"marker\":{\"pattern\":{\"fillmode\":\"overlay\",\"size\":10,\"solidity\":0.2}},\"type\":\"histogram\"}],\"histogram2d\":[{\"colorbar\":{\"outlinewidth\":0,\"ticks\":\"\"},\"colorscale\":[[0.0,\"#0d0887\"],[0.1111111111111111,\"#46039f\"],[0.2222222222222222,\"#7201a8\"],[0.3333333333333333,\"#9c179e\"],[0.4444444444444444,\"#bd3786\"],[0.5555555555555556,\"#d8576b\"],[0.6666666666666666,\"#ed7953\"],[0.7777777777777778,\"#fb9f3a\"],[0.8888888888888888,\"#fdca26\"],[1.0,\"#f0f921\"]],\"type\":\"histogram2d\"}],\"histogram2dcontour\":[{\"colorbar\":{\"outlinewidth\":0,\"ticks\":\"\"},\"colorscale\":[[0.0,\"#0d0887\"],[0.1111111111111111,\"#46039f\"],[0.2222222222222222,\"#7201a8\"],[0.3333333333333333,\"#9c179e\"],[0.4444444444444444,\"#bd3786\"],[0.5555555555555556,\"#d8576b\"],[0.6666666666666666,\"#ed7953\"],[0.7777777777777778,\"#fb9f3a\"],[0.8888888888888888,\"#fdca26\"],[1.0,\"#f0f921\"]],\"type\":\"histogram2dcontour\"}],\"mesh3d\":[{\"colorbar\":{\"outlinewidth\":0,\"ticks\":\"\"},\"type\":\"mesh3d\"}],\"parcoords\":[{\"line\":{\"colorbar\":{\"outlinewidth\":0,\"ticks\":\"\"}},\"type\":\"parcoords\"}],\"pie\":[{\"automargin\":true,\"type\":\"pie\"}],\"scatter\":[{\"marker\":{\"colorbar\":{\"outlinewidth\":0,\"ticks\":\"\"}},\"type\":\"scatter\"}],\"scatter3d\":[{\"line\":{\"colorbar\":{\"outlinewidth\":0,\"ticks\":\"\"}},\"marker\":{\"colorbar\":{\"outlinewidth\":0,\"ticks\":\"\"}},\"type\":\"scatter3d\"}],\"scattercarpet\":[{\"marker\":{\"colorbar\":{\"outlinewidth\":0,\"ticks\":\"\"}},\"type\":\"scattercarpet\"}],\"scattergeo\":[{\"marker\":{\"colorbar\":{\"outlinewidth\":0,\"ticks\":\"\"}},\"type\":\"scattergeo\"}],\"scattergl\":[{\"marker\":{\"colorbar\":{\"outlinewidth\":0,\"ticks\":\"\"}},\"type\":\"scattergl\"}],\"scattermapbox\":[{\"marker\":{\"colorbar\":{\"outlinewidth\":0,\"ticks\":\"\"}},\"type\":\"scattermapbox\"}],\"scatterpolar\":[{\"marker\":{\"colorbar\":{\"outlinewidth\":0,\"ticks\":\"\"}},\"type\":\"scatterpolar\"}],\"scatterpolargl\":[{\"marker\":{\"colorbar\":{\"outlinewidth\":0,\"ticks\":\"\"}},\"type\":\"scatterpolargl\"}],\"scatterternary\":[{\"marker\":{\"colorbar\":{\"outlinewidth\":0,\"ticks\":\"\"}},\"type\":\"scatterternary\"}],\"surface\":[{\"colorbar\":{\"outlinewidth\":0,\"ticks\":\"\"},\"colorscale\":[[0.0,\"#0d0887\"],[0.1111111111111111,\"#46039f\"],[0.2222222222222222,\"#7201a8\"],[0.3333333333333333,\"#9c179e\"],[0.4444444444444444,\"#bd3786\"],[0.5555555555555556,\"#d8576b\"],[0.6666666666666666,\"#ed7953\"],[0.7777777777777778,\"#fb9f3a\"],[0.8888888888888888,\"#fdca26\"],[1.0,\"#f0f921\"]],\"type\":\"surface\"}],\"table\":[{\"cells\":{\"fill\":{\"color\":\"#EBF0F8\"},\"line\":{\"color\":\"white\"}},\"header\":{\"fill\":{\"color\":\"#C8D4E3\"},\"line\":{\"color\":\"white\"}},\"type\":\"table\"}]},\"layout\":{\"annotationdefaults\":{\"arrowcolor\":\"#2a3f5f\",\"arrowhead\":0,\"arrowwidth\":1},\"autotypenumbers\":\"strict\",\"coloraxis\":{\"colorbar\":{\"outlinewidth\":0,\"ticks\":\"\"}},\"colorscale\":{\"diverging\":[[0,\"#8e0152\"],[0.1,\"#c51b7d\"],[0.2,\"#de77ae\"],[0.3,\"#f1b6da\"],[0.4,\"#fde0ef\"],[0.5,\"#f7f7f7\"],[0.6,\"#e6f5d0\"],[0.7,\"#b8e186\"],[0.8,\"#7fbc41\"],[0.9,\"#4d9221\"],[1,\"#276419\"]],\"sequential\":[[0.0,\"#0d0887\"],[0.1111111111111111,\"#46039f\"],[0.2222222222222222,\"#7201a8\"],[0.3333333333333333,\"#9c179e\"],[0.4444444444444444,\"#bd3786\"],[0.5555555555555556,\"#d8576b\"],[0.6666666666666666,\"#ed7953\"],[0.7777777777777778,\"#fb9f3a\"],[0.8888888888888888,\"#fdca26\"],[1.0,\"#f0f921\"]],\"sequentialminus\":[[0.0,\"#0d0887\"],[0.1111111111111111,\"#46039f\"],[0.2222222222222222,\"#7201a8\"],[0.3333333333333333,\"#9c179e\"],[0.4444444444444444,\"#bd3786\"],[0.5555555555555556,\"#d8576b\"],[0.6666666666666666,\"#ed7953\"],[0.7777777777777778,\"#fb9f3a\"],[0.8888888888888888,\"#fdca26\"],[1.0,\"#f0f921\"]]},\"colorway\":[\"#636efa\",\"#EF553B\",\"#00cc96\",\"#ab63fa\",\"#FFA15A\",\"#19d3f3\",\"#FF6692\",\"#B6E880\",\"#FF97FF\",\"#FECB52\"],\"font\":{\"color\":\"#2a3f5f\"},\"geo\":{\"bgcolor\":\"white\",\"lakecolor\":\"white\",\"landcolor\":\"#E5ECF6\",\"showlakes\":true,\"showland\":true,\"subunitcolor\":\"white\"},\"hoverlabel\":{\"align\":\"left\"},\"hovermode\":\"closest\",\"mapbox\":{\"style\":\"light\"},\"paper_bgcolor\":\"white\",\"plot_bgcolor\":\"#E5ECF6\",\"polar\":{\"angularaxis\":{\"gridcolor\":\"white\",\"linecolor\":\"white\",\"ticks\":\"\"},\"bgcolor\":\"#E5ECF6\",\"radialaxis\":{\"gridcolor\":\"white\",\"linecolor\":\"white\",\"ticks\":\"\"}},\"scene\":{\"xaxis\":{\"backgroundcolor\":\"#E5ECF6\",\"gridcolor\":\"white\",\"gridwidth\":2,\"linecolor\":\"white\",\"showbackground\":true,\"ticks\":\"\",\"zerolinecolor\":\"white\"},\"yaxis\":{\"backgroundcolor\":\"#E5ECF6\",\"gridcolor\":\"white\",\"gridwidth\":2,\"linecolor\":\"white\",\"showbackground\":true,\"ticks\":\"\",\"zerolinecolor\":\"white\"},\"zaxis\":{\"backgroundcolor\":\"#E5ECF6\",\"gridcolor\":\"white\",\"gridwidth\":2,\"linecolor\":\"white\",\"showbackground\":true,\"ticks\":\"\",\"zerolinecolor\":\"white\"}},\"shapedefaults\":{\"line\":{\"color\":\"#2a3f5f\"}},\"ternary\":{\"aaxis\":{\"gridcolor\":\"white\",\"linecolor\":\"white\",\"ticks\":\"\"},\"baxis\":{\"gridcolor\":\"white\",\"linecolor\":\"white\",\"ticks\":\"\"},\"bgcolor\":\"#E5ECF6\",\"caxis\":{\"gridcolor\":\"white\",\"linecolor\":\"white\",\"ticks\":\"\"}},\"title\":{\"x\":0.05},\"xaxis\":{\"automargin\":true,\"gridcolor\":\"white\",\"linecolor\":\"white\",\"ticks\":\"\",\"title\":{\"standoff\":15},\"zerolinecolor\":\"white\",\"zerolinewidth\":2},\"yaxis\":{\"automargin\":true,\"gridcolor\":\"white\",\"linecolor\":\"white\",\"ticks\":\"\",\"title\":{\"standoff\":15},\"zerolinecolor\":\"white\",\"zerolinewidth\":2}}},\"xaxis\":{\"anchor\":\"y\",\"domain\":[0.0,1.0],\"title\":{\"text\":\"<b>Fator</b>\"}},\"yaxis\":{\"anchor\":\"x\",\"domain\":[0.0,1.0],\"title\":{\"text\":\"<b>Percentual</b>\"}},\"legend\":{\"title\":{\"text\":\"<b>N\\u00edvel</b>\"},\"tracegroupgap\":0},\"title\":{\"text\":\"<b>Fatores por Quantidade de Alunos</b>\",\"x\":0.5},\"barmode\":\"relative\"},                        {\"responsive\": true}                    ).then(function(){\n",
       "                            \n",
       "var gd = document.getElementById('c574e895-3d12-4d81-b2ff-153e5d10a535');\n",
       "var x = new MutationObserver(function (mutations, observer) {{\n",
       "        var display = window.getComputedStyle(gd).display;\n",
       "        if (!display || display === 'none') {{\n",
       "            console.log([gd, 'removed!']);\n",
       "            Plotly.purge(gd);\n",
       "            observer.disconnect();\n",
       "        }}\n",
       "}});\n",
       "\n",
       "// Listen for the removal of the full notebook cells\n",
       "var notebookContainer = gd.closest('#notebook-container');\n",
       "if (notebookContainer) {{\n",
       "    x.observe(notebookContainer, {childList: true});\n",
       "}}\n",
       "\n",
       "// Listen for the clearing of the current output cell\n",
       "var outputEl = gd.closest('.output');\n",
       "if (outputEl) {{\n",
       "    x.observe(outputEl, {childList: true});\n",
       "}}\n",
       "\n",
       "                        })                };                });            </script>        </div>"
      ]
     },
     "metadata": {},
     "output_type": "display_data"
    }
   ],
   "source": [
    "fig = px.bar(df_fator, x=\"fator\", y=\"percentual\",color=\"nivel\",\n",
    "                 color_discrete_map={'alto': 'green','medio': 'yellow', 'baixo': 'red'}, \n",
    "                 labels={'percentual':'<b>Percentual</b>','fator':'<b>Fator</b>',},\n",
    "                 title=\"<b>Fatores por Quantidade de Alunos</b>\")\n",
    "\n",
    "fig.update_layout(\n",
    "        legend_title=\"<b>Nível</b>\",title_x=0.5\n",
    "\n",
    "    )\n",
    "\n",
    "fig.update_traces(showlegend=True)\n",
    "fig.show()"
   ]
  },
  {
   "cell_type": "code",
   "execution_count": 158,
   "id": "76aaec82",
   "metadata": {},
   "outputs": [
    {
     "data": {
      "application/vnd.plotly.v1+json": {
       "config": {
        "plotlyServerURL": "https://plot.ly"
       },
       "data": [
        {
         "alignmentgroup": "True",
         "hovertemplate": "nivel=baixo<br><b>Fator</b>=%{x}<br><b>Quantidade</b>=%{y}<extra></extra>",
         "legendgroup": "baixo",
         "marker": {
          "color": "red",
          "pattern": {
           "shape": ""
          }
         },
         "name": "baixo",
         "offsetgroup": "baixo",
         "orientation": "v",
         "showlegend": true,
         "textposition": "auto",
         "type": "bar",
         "x": [
          "Condições Materiais da Escola",
          "Condições Materiais do Estudante",
          "Inflexibilidade Pedagógica",
          "Qualidade Pedagógica",
          "Suporte Familiar",
          "Gravidez/parentalidade e atividades de cuidado",
          "Aspectos infracionais e violência",
          "Distanciamento escola – comunidade",
          "Acessibilidade e frequência escolar",
          "Significados da Escolarização/ Engajamento",
          "Aspectos Emocionais e Afetivos",
          "Reprovações/distorção idade –série"
         ],
         "xaxis": "x",
         "y": [
          62,
          40,
          58,
          59,
          62,
          62,
          61,
          51,
          51,
          50,
          56,
          38
         ],
         "yaxis": "y"
        },
        {
         "alignmentgroup": "True",
         "hovertemplate": "nivel=medio<br><b>Fator</b>=%{x}<br><b>Quantidade</b>=%{y}<extra></extra>",
         "legendgroup": "medio",
         "marker": {
          "color": "yellow",
          "pattern": {
           "shape": ""
          }
         },
         "name": "medio",
         "offsetgroup": "medio",
         "orientation": "v",
         "showlegend": true,
         "textposition": "auto",
         "type": "bar",
         "x": [
          "Condições Materiais da Escola",
          "Condições Materiais do Estudante",
          "Inflexibilidade Pedagógica",
          "Qualidade Pedagógica",
          "Suporte Familiar",
          "Gravidez/parentalidade e atividades de cuidado",
          "Aspectos infracionais e violência",
          "Distanciamento escola – comunidade",
          "Acessibilidade e frequência escolar",
          "Significados da Escolarização/ Engajamento",
          "Aspectos Emocionais e Afetivos",
          "Reprovações/distorção idade –série"
         ],
         "xaxis": "x",
         "y": [
          0,
          22,
          4,
          3,
          0,
          0,
          1,
          11,
          11,
          12,
          6,
          24
         ],
         "yaxis": "y"
        },
        {
         "alignmentgroup": "True",
         "hovertemplate": "nivel=alto<br><b>Fator</b>=%{x}<br><b>Quantidade</b>=%{y}<extra></extra>",
         "legendgroup": "alto",
         "marker": {
          "color": "green",
          "pattern": {
           "shape": ""
          }
         },
         "name": "alto",
         "offsetgroup": "alto",
         "orientation": "v",
         "showlegend": true,
         "textposition": "auto",
         "type": "bar",
         "x": [
          "Condições Materiais da Escola",
          "Condições Materiais do Estudante",
          "Inflexibilidade Pedagógica",
          "Qualidade Pedagógica",
          "Suporte Familiar",
          "Gravidez/parentalidade e atividades de cuidado",
          "Aspectos infracionais e violência",
          "Distanciamento escola – comunidade",
          "Acessibilidade e frequência escolar",
          "Significados da Escolarização/ Engajamento",
          "Aspectos Emocionais e Afetivos",
          "Reprovações/distorção idade –série"
         ],
         "xaxis": "x",
         "y": [
          0,
          0,
          0,
          0,
          0,
          0,
          0,
          0,
          0,
          0,
          0,
          0
         ],
         "yaxis": "y"
        }
       ],
       "layout": {
        "barmode": "relative",
        "legend": {
         "title": {
          "text": "<b>Nível</b>"
         },
         "tracegroupgap": 0
        },
        "template": {
         "data": {
          "bar": [
           {
            "error_x": {
             "color": "#2a3f5f"
            },
            "error_y": {
             "color": "#2a3f5f"
            },
            "marker": {
             "line": {
              "color": "#E5ECF6",
              "width": 0.5
             },
             "pattern": {
              "fillmode": "overlay",
              "size": 10,
              "solidity": 0.2
             }
            },
            "type": "bar"
           }
          ],
          "barpolar": [
           {
            "marker": {
             "line": {
              "color": "#E5ECF6",
              "width": 0.5
             },
             "pattern": {
              "fillmode": "overlay",
              "size": 10,
              "solidity": 0.2
             }
            },
            "type": "barpolar"
           }
          ],
          "carpet": [
           {
            "aaxis": {
             "endlinecolor": "#2a3f5f",
             "gridcolor": "white",
             "linecolor": "white",
             "minorgridcolor": "white",
             "startlinecolor": "#2a3f5f"
            },
            "baxis": {
             "endlinecolor": "#2a3f5f",
             "gridcolor": "white",
             "linecolor": "white",
             "minorgridcolor": "white",
             "startlinecolor": "#2a3f5f"
            },
            "type": "carpet"
           }
          ],
          "choropleth": [
           {
            "colorbar": {
             "outlinewidth": 0,
             "ticks": ""
            },
            "type": "choropleth"
           }
          ],
          "contour": [
           {
            "colorbar": {
             "outlinewidth": 0,
             "ticks": ""
            },
            "colorscale": [
             [
              0,
              "#0d0887"
             ],
             [
              0.1111111111111111,
              "#46039f"
             ],
             [
              0.2222222222222222,
              "#7201a8"
             ],
             [
              0.3333333333333333,
              "#9c179e"
             ],
             [
              0.4444444444444444,
              "#bd3786"
             ],
             [
              0.5555555555555556,
              "#d8576b"
             ],
             [
              0.6666666666666666,
              "#ed7953"
             ],
             [
              0.7777777777777778,
              "#fb9f3a"
             ],
             [
              0.8888888888888888,
              "#fdca26"
             ],
             [
              1,
              "#f0f921"
             ]
            ],
            "type": "contour"
           }
          ],
          "contourcarpet": [
           {
            "colorbar": {
             "outlinewidth": 0,
             "ticks": ""
            },
            "type": "contourcarpet"
           }
          ],
          "heatmap": [
           {
            "colorbar": {
             "outlinewidth": 0,
             "ticks": ""
            },
            "colorscale": [
             [
              0,
              "#0d0887"
             ],
             [
              0.1111111111111111,
              "#46039f"
             ],
             [
              0.2222222222222222,
              "#7201a8"
             ],
             [
              0.3333333333333333,
              "#9c179e"
             ],
             [
              0.4444444444444444,
              "#bd3786"
             ],
             [
              0.5555555555555556,
              "#d8576b"
             ],
             [
              0.6666666666666666,
              "#ed7953"
             ],
             [
              0.7777777777777778,
              "#fb9f3a"
             ],
             [
              0.8888888888888888,
              "#fdca26"
             ],
             [
              1,
              "#f0f921"
             ]
            ],
            "type": "heatmap"
           }
          ],
          "heatmapgl": [
           {
            "colorbar": {
             "outlinewidth": 0,
             "ticks": ""
            },
            "colorscale": [
             [
              0,
              "#0d0887"
             ],
             [
              0.1111111111111111,
              "#46039f"
             ],
             [
              0.2222222222222222,
              "#7201a8"
             ],
             [
              0.3333333333333333,
              "#9c179e"
             ],
             [
              0.4444444444444444,
              "#bd3786"
             ],
             [
              0.5555555555555556,
              "#d8576b"
             ],
             [
              0.6666666666666666,
              "#ed7953"
             ],
             [
              0.7777777777777778,
              "#fb9f3a"
             ],
             [
              0.8888888888888888,
              "#fdca26"
             ],
             [
              1,
              "#f0f921"
             ]
            ],
            "type": "heatmapgl"
           }
          ],
          "histogram": [
           {
            "marker": {
             "pattern": {
              "fillmode": "overlay",
              "size": 10,
              "solidity": 0.2
             }
            },
            "type": "histogram"
           }
          ],
          "histogram2d": [
           {
            "colorbar": {
             "outlinewidth": 0,
             "ticks": ""
            },
            "colorscale": [
             [
              0,
              "#0d0887"
             ],
             [
              0.1111111111111111,
              "#46039f"
             ],
             [
              0.2222222222222222,
              "#7201a8"
             ],
             [
              0.3333333333333333,
              "#9c179e"
             ],
             [
              0.4444444444444444,
              "#bd3786"
             ],
             [
              0.5555555555555556,
              "#d8576b"
             ],
             [
              0.6666666666666666,
              "#ed7953"
             ],
             [
              0.7777777777777778,
              "#fb9f3a"
             ],
             [
              0.8888888888888888,
              "#fdca26"
             ],
             [
              1,
              "#f0f921"
             ]
            ],
            "type": "histogram2d"
           }
          ],
          "histogram2dcontour": [
           {
            "colorbar": {
             "outlinewidth": 0,
             "ticks": ""
            },
            "colorscale": [
             [
              0,
              "#0d0887"
             ],
             [
              0.1111111111111111,
              "#46039f"
             ],
             [
              0.2222222222222222,
              "#7201a8"
             ],
             [
              0.3333333333333333,
              "#9c179e"
             ],
             [
              0.4444444444444444,
              "#bd3786"
             ],
             [
              0.5555555555555556,
              "#d8576b"
             ],
             [
              0.6666666666666666,
              "#ed7953"
             ],
             [
              0.7777777777777778,
              "#fb9f3a"
             ],
             [
              0.8888888888888888,
              "#fdca26"
             ],
             [
              1,
              "#f0f921"
             ]
            ],
            "type": "histogram2dcontour"
           }
          ],
          "mesh3d": [
           {
            "colorbar": {
             "outlinewidth": 0,
             "ticks": ""
            },
            "type": "mesh3d"
           }
          ],
          "parcoords": [
           {
            "line": {
             "colorbar": {
              "outlinewidth": 0,
              "ticks": ""
             }
            },
            "type": "parcoords"
           }
          ],
          "pie": [
           {
            "automargin": true,
            "type": "pie"
           }
          ],
          "scatter": [
           {
            "marker": {
             "colorbar": {
              "outlinewidth": 0,
              "ticks": ""
             }
            },
            "type": "scatter"
           }
          ],
          "scatter3d": [
           {
            "line": {
             "colorbar": {
              "outlinewidth": 0,
              "ticks": ""
             }
            },
            "marker": {
             "colorbar": {
              "outlinewidth": 0,
              "ticks": ""
             }
            },
            "type": "scatter3d"
           }
          ],
          "scattercarpet": [
           {
            "marker": {
             "colorbar": {
              "outlinewidth": 0,
              "ticks": ""
             }
            },
            "type": "scattercarpet"
           }
          ],
          "scattergeo": [
           {
            "marker": {
             "colorbar": {
              "outlinewidth": 0,
              "ticks": ""
             }
            },
            "type": "scattergeo"
           }
          ],
          "scattergl": [
           {
            "marker": {
             "colorbar": {
              "outlinewidth": 0,
              "ticks": ""
             }
            },
            "type": "scattergl"
           }
          ],
          "scattermapbox": [
           {
            "marker": {
             "colorbar": {
              "outlinewidth": 0,
              "ticks": ""
             }
            },
            "type": "scattermapbox"
           }
          ],
          "scatterpolar": [
           {
            "marker": {
             "colorbar": {
              "outlinewidth": 0,
              "ticks": ""
             }
            },
            "type": "scatterpolar"
           }
          ],
          "scatterpolargl": [
           {
            "marker": {
             "colorbar": {
              "outlinewidth": 0,
              "ticks": ""
             }
            },
            "type": "scatterpolargl"
           }
          ],
          "scatterternary": [
           {
            "marker": {
             "colorbar": {
              "outlinewidth": 0,
              "ticks": ""
             }
            },
            "type": "scatterternary"
           }
          ],
          "surface": [
           {
            "colorbar": {
             "outlinewidth": 0,
             "ticks": ""
            },
            "colorscale": [
             [
              0,
              "#0d0887"
             ],
             [
              0.1111111111111111,
              "#46039f"
             ],
             [
              0.2222222222222222,
              "#7201a8"
             ],
             [
              0.3333333333333333,
              "#9c179e"
             ],
             [
              0.4444444444444444,
              "#bd3786"
             ],
             [
              0.5555555555555556,
              "#d8576b"
             ],
             [
              0.6666666666666666,
              "#ed7953"
             ],
             [
              0.7777777777777778,
              "#fb9f3a"
             ],
             [
              0.8888888888888888,
              "#fdca26"
             ],
             [
              1,
              "#f0f921"
             ]
            ],
            "type": "surface"
           }
          ],
          "table": [
           {
            "cells": {
             "fill": {
              "color": "#EBF0F8"
             },
             "line": {
              "color": "white"
             }
            },
            "header": {
             "fill": {
              "color": "#C8D4E3"
             },
             "line": {
              "color": "white"
             }
            },
            "type": "table"
           }
          ]
         },
         "layout": {
          "annotationdefaults": {
           "arrowcolor": "#2a3f5f",
           "arrowhead": 0,
           "arrowwidth": 1
          },
          "autotypenumbers": "strict",
          "coloraxis": {
           "colorbar": {
            "outlinewidth": 0,
            "ticks": ""
           }
          },
          "colorscale": {
           "diverging": [
            [
             0,
             "#8e0152"
            ],
            [
             0.1,
             "#c51b7d"
            ],
            [
             0.2,
             "#de77ae"
            ],
            [
             0.3,
             "#f1b6da"
            ],
            [
             0.4,
             "#fde0ef"
            ],
            [
             0.5,
             "#f7f7f7"
            ],
            [
             0.6,
             "#e6f5d0"
            ],
            [
             0.7,
             "#b8e186"
            ],
            [
             0.8,
             "#7fbc41"
            ],
            [
             0.9,
             "#4d9221"
            ],
            [
             1,
             "#276419"
            ]
           ],
           "sequential": [
            [
             0,
             "#0d0887"
            ],
            [
             0.1111111111111111,
             "#46039f"
            ],
            [
             0.2222222222222222,
             "#7201a8"
            ],
            [
             0.3333333333333333,
             "#9c179e"
            ],
            [
             0.4444444444444444,
             "#bd3786"
            ],
            [
             0.5555555555555556,
             "#d8576b"
            ],
            [
             0.6666666666666666,
             "#ed7953"
            ],
            [
             0.7777777777777778,
             "#fb9f3a"
            ],
            [
             0.8888888888888888,
             "#fdca26"
            ],
            [
             1,
             "#f0f921"
            ]
           ],
           "sequentialminus": [
            [
             0,
             "#0d0887"
            ],
            [
             0.1111111111111111,
             "#46039f"
            ],
            [
             0.2222222222222222,
             "#7201a8"
            ],
            [
             0.3333333333333333,
             "#9c179e"
            ],
            [
             0.4444444444444444,
             "#bd3786"
            ],
            [
             0.5555555555555556,
             "#d8576b"
            ],
            [
             0.6666666666666666,
             "#ed7953"
            ],
            [
             0.7777777777777778,
             "#fb9f3a"
            ],
            [
             0.8888888888888888,
             "#fdca26"
            ],
            [
             1,
             "#f0f921"
            ]
           ]
          },
          "colorway": [
           "#636efa",
           "#EF553B",
           "#00cc96",
           "#ab63fa",
           "#FFA15A",
           "#19d3f3",
           "#FF6692",
           "#B6E880",
           "#FF97FF",
           "#FECB52"
          ],
          "font": {
           "color": "#2a3f5f"
          },
          "geo": {
           "bgcolor": "white",
           "lakecolor": "white",
           "landcolor": "#E5ECF6",
           "showlakes": true,
           "showland": true,
           "subunitcolor": "white"
          },
          "hoverlabel": {
           "align": "left"
          },
          "hovermode": "closest",
          "mapbox": {
           "style": "light"
          },
          "paper_bgcolor": "white",
          "plot_bgcolor": "#E5ECF6",
          "polar": {
           "angularaxis": {
            "gridcolor": "white",
            "linecolor": "white",
            "ticks": ""
           },
           "bgcolor": "#E5ECF6",
           "radialaxis": {
            "gridcolor": "white",
            "linecolor": "white",
            "ticks": ""
           }
          },
          "scene": {
           "xaxis": {
            "backgroundcolor": "#E5ECF6",
            "gridcolor": "white",
            "gridwidth": 2,
            "linecolor": "white",
            "showbackground": true,
            "ticks": "",
            "zerolinecolor": "white"
           },
           "yaxis": {
            "backgroundcolor": "#E5ECF6",
            "gridcolor": "white",
            "gridwidth": 2,
            "linecolor": "white",
            "showbackground": true,
            "ticks": "",
            "zerolinecolor": "white"
           },
           "zaxis": {
            "backgroundcolor": "#E5ECF6",
            "gridcolor": "white",
            "gridwidth": 2,
            "linecolor": "white",
            "showbackground": true,
            "ticks": "",
            "zerolinecolor": "white"
           }
          },
          "shapedefaults": {
           "line": {
            "color": "#2a3f5f"
           }
          },
          "ternary": {
           "aaxis": {
            "gridcolor": "white",
            "linecolor": "white",
            "ticks": ""
           },
           "baxis": {
            "gridcolor": "white",
            "linecolor": "white",
            "ticks": ""
           },
           "bgcolor": "#E5ECF6",
           "caxis": {
            "gridcolor": "white",
            "linecolor": "white",
            "ticks": ""
           }
          },
          "title": {
           "x": 0.05
          },
          "xaxis": {
           "automargin": true,
           "gridcolor": "white",
           "linecolor": "white",
           "ticks": "",
           "title": {
            "standoff": 15
           },
           "zerolinecolor": "white",
           "zerolinewidth": 2
          },
          "yaxis": {
           "automargin": true,
           "gridcolor": "white",
           "linecolor": "white",
           "ticks": "",
           "title": {
            "standoff": 15
           },
           "zerolinecolor": "white",
           "zerolinewidth": 2
          }
         }
        },
        "title": {
         "text": "<b>Fatores por Quantidade de Alunos</b>",
         "x": 0.5
        },
        "xaxis": {
         "anchor": "y",
         "domain": [
          0,
          1
         ],
         "title": {
          "text": "<b>Fator</b>"
         }
        },
        "yaxis": {
         "anchor": "x",
         "domain": [
          0,
          1
         ],
         "title": {
          "text": "<b>Quantidade</b>"
         }
        }
       }
      },
      "text/html": [
       "<div>                            <div id=\"43cc1d2d-efa0-4d62-a6f0-d277a4a3b860\" class=\"plotly-graph-div\" style=\"height:525px; width:100%;\"></div>            <script type=\"text/javascript\">                require([\"plotly\"], function(Plotly) {                    window.PLOTLYENV=window.PLOTLYENV || {};                                    if (document.getElementById(\"43cc1d2d-efa0-4d62-a6f0-d277a4a3b860\")) {                    Plotly.newPlot(                        \"43cc1d2d-efa0-4d62-a6f0-d277a4a3b860\",                        [{\"alignmentgroup\":\"True\",\"hovertemplate\":\"nivel=baixo<br><b>Fator</b>=%{x}<br><b>Quantidade</b>=%{y}<extra></extra>\",\"legendgroup\":\"baixo\",\"marker\":{\"color\":\"red\",\"pattern\":{\"shape\":\"\"}},\"name\":\"baixo\",\"offsetgroup\":\"baixo\",\"orientation\":\"v\",\"showlegend\":true,\"textposition\":\"auto\",\"x\":[\"Condi\\u00e7\\u00f5es Materiais da Escola\",\"Condi\\u00e7\\u00f5es Materiais do Estudante\",\"Inflexibilidade Pedag\\u00f3gica\",\"Qualidade Pedag\\u00f3gica\",\"Suporte Familiar\",\"Gravidez/parentalidade e atividades de cuidado\",\"Aspectos infracionais e viol\\u00eancia\",\"Distanciamento escola \\u2013 comunidade\",\"Acessibilidade e frequ\\u00eancia escolar\",\"Significados da Escolariza\\u00e7\\u00e3o/ Engajamento\",\"Aspectos Emocionais e Afetivos\",\"Reprova\\u00e7\\u00f5es/distor\\u00e7\\u00e3o idade \\u2013s\\u00e9rie\"],\"xaxis\":\"x\",\"y\":[62,40,58,59,62,62,61,51,51,50,56,38],\"yaxis\":\"y\",\"type\":\"bar\"},{\"alignmentgroup\":\"True\",\"hovertemplate\":\"nivel=medio<br><b>Fator</b>=%{x}<br><b>Quantidade</b>=%{y}<extra></extra>\",\"legendgroup\":\"medio\",\"marker\":{\"color\":\"yellow\",\"pattern\":{\"shape\":\"\"}},\"name\":\"medio\",\"offsetgroup\":\"medio\",\"orientation\":\"v\",\"showlegend\":true,\"textposition\":\"auto\",\"x\":[\"Condi\\u00e7\\u00f5es Materiais da Escola\",\"Condi\\u00e7\\u00f5es Materiais do Estudante\",\"Inflexibilidade Pedag\\u00f3gica\",\"Qualidade Pedag\\u00f3gica\",\"Suporte Familiar\",\"Gravidez/parentalidade e atividades de cuidado\",\"Aspectos infracionais e viol\\u00eancia\",\"Distanciamento escola \\u2013 comunidade\",\"Acessibilidade e frequ\\u00eancia escolar\",\"Significados da Escolariza\\u00e7\\u00e3o/ Engajamento\",\"Aspectos Emocionais e Afetivos\",\"Reprova\\u00e7\\u00f5es/distor\\u00e7\\u00e3o idade \\u2013s\\u00e9rie\"],\"xaxis\":\"x\",\"y\":[0,22,4,3,0,0,1,11,11,12,6,24],\"yaxis\":\"y\",\"type\":\"bar\"},{\"alignmentgroup\":\"True\",\"hovertemplate\":\"nivel=alto<br><b>Fator</b>=%{x}<br><b>Quantidade</b>=%{y}<extra></extra>\",\"legendgroup\":\"alto\",\"marker\":{\"color\":\"green\",\"pattern\":{\"shape\":\"\"}},\"name\":\"alto\",\"offsetgroup\":\"alto\",\"orientation\":\"v\",\"showlegend\":true,\"textposition\":\"auto\",\"x\":[\"Condi\\u00e7\\u00f5es Materiais da Escola\",\"Condi\\u00e7\\u00f5es Materiais do Estudante\",\"Inflexibilidade Pedag\\u00f3gica\",\"Qualidade Pedag\\u00f3gica\",\"Suporte Familiar\",\"Gravidez/parentalidade e atividades de cuidado\",\"Aspectos infracionais e viol\\u00eancia\",\"Distanciamento escola \\u2013 comunidade\",\"Acessibilidade e frequ\\u00eancia escolar\",\"Significados da Escolariza\\u00e7\\u00e3o/ Engajamento\",\"Aspectos Emocionais e Afetivos\",\"Reprova\\u00e7\\u00f5es/distor\\u00e7\\u00e3o idade \\u2013s\\u00e9rie\"],\"xaxis\":\"x\",\"y\":[0,0,0,0,0,0,0,0,0,0,0,0],\"yaxis\":\"y\",\"type\":\"bar\"}],                        {\"template\":{\"data\":{\"bar\":[{\"error_x\":{\"color\":\"#2a3f5f\"},\"error_y\":{\"color\":\"#2a3f5f\"},\"marker\":{\"line\":{\"color\":\"#E5ECF6\",\"width\":0.5},\"pattern\":{\"fillmode\":\"overlay\",\"size\":10,\"solidity\":0.2}},\"type\":\"bar\"}],\"barpolar\":[{\"marker\":{\"line\":{\"color\":\"#E5ECF6\",\"width\":0.5},\"pattern\":{\"fillmode\":\"overlay\",\"size\":10,\"solidity\":0.2}},\"type\":\"barpolar\"}],\"carpet\":[{\"aaxis\":{\"endlinecolor\":\"#2a3f5f\",\"gridcolor\":\"white\",\"linecolor\":\"white\",\"minorgridcolor\":\"white\",\"startlinecolor\":\"#2a3f5f\"},\"baxis\":{\"endlinecolor\":\"#2a3f5f\",\"gridcolor\":\"white\",\"linecolor\":\"white\",\"minorgridcolor\":\"white\",\"startlinecolor\":\"#2a3f5f\"},\"type\":\"carpet\"}],\"choropleth\":[{\"colorbar\":{\"outlinewidth\":0,\"ticks\":\"\"},\"type\":\"choropleth\"}],\"contour\":[{\"colorbar\":{\"outlinewidth\":0,\"ticks\":\"\"},\"colorscale\":[[0.0,\"#0d0887\"],[0.1111111111111111,\"#46039f\"],[0.2222222222222222,\"#7201a8\"],[0.3333333333333333,\"#9c179e\"],[0.4444444444444444,\"#bd3786\"],[0.5555555555555556,\"#d8576b\"],[0.6666666666666666,\"#ed7953\"],[0.7777777777777778,\"#fb9f3a\"],[0.8888888888888888,\"#fdca26\"],[1.0,\"#f0f921\"]],\"type\":\"contour\"}],\"contourcarpet\":[{\"colorbar\":{\"outlinewidth\":0,\"ticks\":\"\"},\"type\":\"contourcarpet\"}],\"heatmap\":[{\"colorbar\":{\"outlinewidth\":0,\"ticks\":\"\"},\"colorscale\":[[0.0,\"#0d0887\"],[0.1111111111111111,\"#46039f\"],[0.2222222222222222,\"#7201a8\"],[0.3333333333333333,\"#9c179e\"],[0.4444444444444444,\"#bd3786\"],[0.5555555555555556,\"#d8576b\"],[0.6666666666666666,\"#ed7953\"],[0.7777777777777778,\"#fb9f3a\"],[0.8888888888888888,\"#fdca26\"],[1.0,\"#f0f921\"]],\"type\":\"heatmap\"}],\"heatmapgl\":[{\"colorbar\":{\"outlinewidth\":0,\"ticks\":\"\"},\"colorscale\":[[0.0,\"#0d0887\"],[0.1111111111111111,\"#46039f\"],[0.2222222222222222,\"#7201a8\"],[0.3333333333333333,\"#9c179e\"],[0.4444444444444444,\"#bd3786\"],[0.5555555555555556,\"#d8576b\"],[0.6666666666666666,\"#ed7953\"],[0.7777777777777778,\"#fb9f3a\"],[0.8888888888888888,\"#fdca26\"],[1.0,\"#f0f921\"]],\"type\":\"heatmapgl\"}],\"histogram\":[{\"marker\":{\"pattern\":{\"fillmode\":\"overlay\",\"size\":10,\"solidity\":0.2}},\"type\":\"histogram\"}],\"histogram2d\":[{\"colorbar\":{\"outlinewidth\":0,\"ticks\":\"\"},\"colorscale\":[[0.0,\"#0d0887\"],[0.1111111111111111,\"#46039f\"],[0.2222222222222222,\"#7201a8\"],[0.3333333333333333,\"#9c179e\"],[0.4444444444444444,\"#bd3786\"],[0.5555555555555556,\"#d8576b\"],[0.6666666666666666,\"#ed7953\"],[0.7777777777777778,\"#fb9f3a\"],[0.8888888888888888,\"#fdca26\"],[1.0,\"#f0f921\"]],\"type\":\"histogram2d\"}],\"histogram2dcontour\":[{\"colorbar\":{\"outlinewidth\":0,\"ticks\":\"\"},\"colorscale\":[[0.0,\"#0d0887\"],[0.1111111111111111,\"#46039f\"],[0.2222222222222222,\"#7201a8\"],[0.3333333333333333,\"#9c179e\"],[0.4444444444444444,\"#bd3786\"],[0.5555555555555556,\"#d8576b\"],[0.6666666666666666,\"#ed7953\"],[0.7777777777777778,\"#fb9f3a\"],[0.8888888888888888,\"#fdca26\"],[1.0,\"#f0f921\"]],\"type\":\"histogram2dcontour\"}],\"mesh3d\":[{\"colorbar\":{\"outlinewidth\":0,\"ticks\":\"\"},\"type\":\"mesh3d\"}],\"parcoords\":[{\"line\":{\"colorbar\":{\"outlinewidth\":0,\"ticks\":\"\"}},\"type\":\"parcoords\"}],\"pie\":[{\"automargin\":true,\"type\":\"pie\"}],\"scatter\":[{\"marker\":{\"colorbar\":{\"outlinewidth\":0,\"ticks\":\"\"}},\"type\":\"scatter\"}],\"scatter3d\":[{\"line\":{\"colorbar\":{\"outlinewidth\":0,\"ticks\":\"\"}},\"marker\":{\"colorbar\":{\"outlinewidth\":0,\"ticks\":\"\"}},\"type\":\"scatter3d\"}],\"scattercarpet\":[{\"marker\":{\"colorbar\":{\"outlinewidth\":0,\"ticks\":\"\"}},\"type\":\"scattercarpet\"}],\"scattergeo\":[{\"marker\":{\"colorbar\":{\"outlinewidth\":0,\"ticks\":\"\"}},\"type\":\"scattergeo\"}],\"scattergl\":[{\"marker\":{\"colorbar\":{\"outlinewidth\":0,\"ticks\":\"\"}},\"type\":\"scattergl\"}],\"scattermapbox\":[{\"marker\":{\"colorbar\":{\"outlinewidth\":0,\"ticks\":\"\"}},\"type\":\"scattermapbox\"}],\"scatterpolar\":[{\"marker\":{\"colorbar\":{\"outlinewidth\":0,\"ticks\":\"\"}},\"type\":\"scatterpolar\"}],\"scatterpolargl\":[{\"marker\":{\"colorbar\":{\"outlinewidth\":0,\"ticks\":\"\"}},\"type\":\"scatterpolargl\"}],\"scatterternary\":[{\"marker\":{\"colorbar\":{\"outlinewidth\":0,\"ticks\":\"\"}},\"type\":\"scatterternary\"}],\"surface\":[{\"colorbar\":{\"outlinewidth\":0,\"ticks\":\"\"},\"colorscale\":[[0.0,\"#0d0887\"],[0.1111111111111111,\"#46039f\"],[0.2222222222222222,\"#7201a8\"],[0.3333333333333333,\"#9c179e\"],[0.4444444444444444,\"#bd3786\"],[0.5555555555555556,\"#d8576b\"],[0.6666666666666666,\"#ed7953\"],[0.7777777777777778,\"#fb9f3a\"],[0.8888888888888888,\"#fdca26\"],[1.0,\"#f0f921\"]],\"type\":\"surface\"}],\"table\":[{\"cells\":{\"fill\":{\"color\":\"#EBF0F8\"},\"line\":{\"color\":\"white\"}},\"header\":{\"fill\":{\"color\":\"#C8D4E3\"},\"line\":{\"color\":\"white\"}},\"type\":\"table\"}]},\"layout\":{\"annotationdefaults\":{\"arrowcolor\":\"#2a3f5f\",\"arrowhead\":0,\"arrowwidth\":1},\"autotypenumbers\":\"strict\",\"coloraxis\":{\"colorbar\":{\"outlinewidth\":0,\"ticks\":\"\"}},\"colorscale\":{\"diverging\":[[0,\"#8e0152\"],[0.1,\"#c51b7d\"],[0.2,\"#de77ae\"],[0.3,\"#f1b6da\"],[0.4,\"#fde0ef\"],[0.5,\"#f7f7f7\"],[0.6,\"#e6f5d0\"],[0.7,\"#b8e186\"],[0.8,\"#7fbc41\"],[0.9,\"#4d9221\"],[1,\"#276419\"]],\"sequential\":[[0.0,\"#0d0887\"],[0.1111111111111111,\"#46039f\"],[0.2222222222222222,\"#7201a8\"],[0.3333333333333333,\"#9c179e\"],[0.4444444444444444,\"#bd3786\"],[0.5555555555555556,\"#d8576b\"],[0.6666666666666666,\"#ed7953\"],[0.7777777777777778,\"#fb9f3a\"],[0.8888888888888888,\"#fdca26\"],[1.0,\"#f0f921\"]],\"sequentialminus\":[[0.0,\"#0d0887\"],[0.1111111111111111,\"#46039f\"],[0.2222222222222222,\"#7201a8\"],[0.3333333333333333,\"#9c179e\"],[0.4444444444444444,\"#bd3786\"],[0.5555555555555556,\"#d8576b\"],[0.6666666666666666,\"#ed7953\"],[0.7777777777777778,\"#fb9f3a\"],[0.8888888888888888,\"#fdca26\"],[1.0,\"#f0f921\"]]},\"colorway\":[\"#636efa\",\"#EF553B\",\"#00cc96\",\"#ab63fa\",\"#FFA15A\",\"#19d3f3\",\"#FF6692\",\"#B6E880\",\"#FF97FF\",\"#FECB52\"],\"font\":{\"color\":\"#2a3f5f\"},\"geo\":{\"bgcolor\":\"white\",\"lakecolor\":\"white\",\"landcolor\":\"#E5ECF6\",\"showlakes\":true,\"showland\":true,\"subunitcolor\":\"white\"},\"hoverlabel\":{\"align\":\"left\"},\"hovermode\":\"closest\",\"mapbox\":{\"style\":\"light\"},\"paper_bgcolor\":\"white\",\"plot_bgcolor\":\"#E5ECF6\",\"polar\":{\"angularaxis\":{\"gridcolor\":\"white\",\"linecolor\":\"white\",\"ticks\":\"\"},\"bgcolor\":\"#E5ECF6\",\"radialaxis\":{\"gridcolor\":\"white\",\"linecolor\":\"white\",\"ticks\":\"\"}},\"scene\":{\"xaxis\":{\"backgroundcolor\":\"#E5ECF6\",\"gridcolor\":\"white\",\"gridwidth\":2,\"linecolor\":\"white\",\"showbackground\":true,\"ticks\":\"\",\"zerolinecolor\":\"white\"},\"yaxis\":{\"backgroundcolor\":\"#E5ECF6\",\"gridcolor\":\"white\",\"gridwidth\":2,\"linecolor\":\"white\",\"showbackground\":true,\"ticks\":\"\",\"zerolinecolor\":\"white\"},\"zaxis\":{\"backgroundcolor\":\"#E5ECF6\",\"gridcolor\":\"white\",\"gridwidth\":2,\"linecolor\":\"white\",\"showbackground\":true,\"ticks\":\"\",\"zerolinecolor\":\"white\"}},\"shapedefaults\":{\"line\":{\"color\":\"#2a3f5f\"}},\"ternary\":{\"aaxis\":{\"gridcolor\":\"white\",\"linecolor\":\"white\",\"ticks\":\"\"},\"baxis\":{\"gridcolor\":\"white\",\"linecolor\":\"white\",\"ticks\":\"\"},\"bgcolor\":\"#E5ECF6\",\"caxis\":{\"gridcolor\":\"white\",\"linecolor\":\"white\",\"ticks\":\"\"}},\"title\":{\"x\":0.05},\"xaxis\":{\"automargin\":true,\"gridcolor\":\"white\",\"linecolor\":\"white\",\"ticks\":\"\",\"title\":{\"standoff\":15},\"zerolinecolor\":\"white\",\"zerolinewidth\":2},\"yaxis\":{\"automargin\":true,\"gridcolor\":\"white\",\"linecolor\":\"white\",\"ticks\":\"\",\"title\":{\"standoff\":15},\"zerolinecolor\":\"white\",\"zerolinewidth\":2}}},\"xaxis\":{\"anchor\":\"y\",\"domain\":[0.0,1.0],\"title\":{\"text\":\"<b>Fator</b>\"}},\"yaxis\":{\"anchor\":\"x\",\"domain\":[0.0,1.0],\"title\":{\"text\":\"<b>Quantidade</b>\"}},\"legend\":{\"title\":{\"text\":\"<b>N\\u00edvel</b>\"},\"tracegroupgap\":0},\"title\":{\"text\":\"<b>Fatores por Quantidade de Alunos</b>\",\"x\":0.5},\"barmode\":\"relative\"},                        {\"responsive\": true}                    ).then(function(){\n",
       "                            \n",
       "var gd = document.getElementById('43cc1d2d-efa0-4d62-a6f0-d277a4a3b860');\n",
       "var x = new MutationObserver(function (mutations, observer) {{\n",
       "        var display = window.getComputedStyle(gd).display;\n",
       "        if (!display || display === 'none') {{\n",
       "            console.log([gd, 'removed!']);\n",
       "            Plotly.purge(gd);\n",
       "            observer.disconnect();\n",
       "        }}\n",
       "}});\n",
       "\n",
       "// Listen for the removal of the full notebook cells\n",
       "var notebookContainer = gd.closest('#notebook-container');\n",
       "if (notebookContainer) {{\n",
       "    x.observe(notebookContainer, {childList: true});\n",
       "}}\n",
       "\n",
       "// Listen for the clearing of the current output cell\n",
       "var outputEl = gd.closest('.output');\n",
       "if (outputEl) {{\n",
       "    x.observe(outputEl, {childList: true});\n",
       "}}\n",
       "\n",
       "                        })                };                });            </script>        </div>"
      ]
     },
     "metadata": {},
     "output_type": "display_data"
    }
   ],
   "source": [
    "fig = px.bar(df_fator, x=\"fator\", y=\"quantidade\",color=\"nivel\",\n",
    "                 color_discrete_map={'alto': 'green','medio': 'yellow', 'baixo': 'red'}, \n",
    "                 labels={'quantidade':'<b>Quantidade</b>','fator':'<b>Fator</b>',},\n",
    "                 title=\"<b>Fatores por Quantidade de Alunos</b>\")\n",
    "\n",
    "fig.update_layout(\n",
    "        legend_title=\"<b>Nível</b>\",title_x=0.5\n",
    "\n",
    "    )\n",
    "\n",
    "fig.update_traces(showlegend=True)\n",
    "fig.show()"
   ]
  },
  {
   "cell_type": "code",
   "execution_count": null,
   "id": "e6c216be",
   "metadata": {},
   "outputs": [],
   "source": []
  }
 ],
 "metadata": {
  "kernelspec": {
   "display_name": "Python 3 (ipykernel)",
   "language": "python",
   "name": "python3"
  },
  "language_info": {
   "codemirror_mode": {
    "name": "ipython",
    "version": 3
   },
   "file_extension": ".py",
   "mimetype": "text/x-python",
   "name": "python",
   "nbconvert_exporter": "python",
   "pygments_lexer": "ipython3",
   "version": "3.9.12"
  }
 },
 "nbformat": 4,
 "nbformat_minor": 5
}
