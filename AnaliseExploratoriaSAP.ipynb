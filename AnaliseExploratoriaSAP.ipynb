{
 "cells": [
  {
   "cell_type": "code",
   "execution_count": 1,
   "id": "d6650f36",
   "metadata": {},
   "outputs": [],
   "source": [
    "import pandas as pd;\n",
    "import matplotlib.pyplot as plt\n",
    "import numpy as np\n",
    "import scipy.stats as st\n",
    "import seaborn as sns\n",
    "from matplotlib.pyplot import figure\n",
    "import psycopg2"
   ]
  },
  {
   "cell_type": "code",
   "execution_count": 2,
   "id": "17021646",
   "metadata": {},
   "outputs": [],
   "source": [
    "def connection(sql):\n",
    "    con = psycopg2.connect(host='35.247.202.234', database='dw',\n",
    "    user='consulta', password='teste123')\n",
    "    cur = con.cursor()    \n",
    "    cur.execute(sql)\n",
    "    data = cur.fetchall()\n",
    "    cols = []\n",
    "    for elt in cur.description:\n",
    "        cols.append(elt[0])\n",
    "\n",
    "    df = pd.DataFrame(data=data,columns=cols)\n",
    "    con.close()\n",
    "    return df"
   ]
  },
  {
   "cell_type": "code",
   "execution_count": 3,
   "id": "a5af1fda",
   "metadata": {},
   "outputs": [],
   "source": [
    "sql_dimensoes_alunos = 'SELECT * FROM dados_sap.dimensoes_alunos'\n",
    "sql_dimensoes_turmas ='SELECT * FROM dados_sap.dimensoes_turma'\n",
    "sql_fatores_escola ='SELECT * FROM dados_sap.fatores_escola'\n",
    "sql_fatores_turma ='SELECT * FROM dados_sap.fatores_turma'\n",
    "sql_fatores_alunos = 'SELECT * FROM dados_sap.fatores_alunos'\n",
    "df = connection(sql_fatores_escola)"
   ]
  },
  {
   "cell_type": "code",
   "execution_count": 5,
   "id": "f33b89b6",
   "metadata": {},
   "outputs": [
    {
     "name": "stdout",
     "output_type": "stream",
     "text": [
      "<class 'pandas.core.frame.DataFrame'>\n",
      "RangeIndex: 25 entries, 0 to 24\n",
      "Data columns (total 3 columns):\n",
      " #   Column             Non-Null Count  Dtype  \n",
      "---  ------             --------------  -----  \n",
      " 0   aluno              25 non-null     object \n",
      " 1   fatores_dimensões  25 non-null     object \n",
      " 2   value              25 non-null     float64\n",
      "dtypes: float64(1), object(2)\n",
      "memory usage: 728.0+ bytes\n"
     ]
    }
   ],
   "source": [
    "df.info()"
   ]
  },
  {
   "cell_type": "code",
   "execution_count": 7,
   "id": "cc1919f1",
   "metadata": {},
   "outputs": [
    {
     "data": {
      "text/plain": [
       "{'Estudante-Comunidade',\n",
       " 'Estudante-Escola',\n",
       " 'Estudante-Estudante',\n",
       " 'Estudante-Familia',\n",
       " 'Estudante-Profissionais da Escola'}"
      ]
     },
     "execution_count": 7,
     "metadata": {},
     "output_type": "execute_result"
    }
   ],
   "source": [
    "set(df['fatores_dimensões'])"
   ]
  },
  {
   "cell_type": "code",
   "execution_count": null,
   "id": "c82e8ffc",
   "metadata": {},
   "outputs": [],
   "source": []
  }
 ],
 "metadata": {
  "kernelspec": {
   "display_name": "Python 3 (ipykernel)",
   "language": "python",
   "name": "python3"
  },
  "language_info": {
   "codemirror_mode": {
    "name": "ipython",
    "version": 3
   },
   "file_extension": ".py",
   "mimetype": "text/x-python",
   "name": "python",
   "nbconvert_exporter": "python",
   "pygments_lexer": "ipython3",
   "version": "3.9.13"
  }
 },
 "nbformat": 4,
 "nbformat_minor": 5
}
